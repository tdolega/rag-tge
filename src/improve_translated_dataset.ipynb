{
 "cells": [
  {
   "cell_type": "code",
   "execution_count": 1,
   "metadata": {},
   "outputs": [
    {
     "name": "stderr",
     "output_type": "stream",
     "text": [
      "/home/tdolega/miniconda/envs/p311/lib/python3.11/site-packages/tqdm/auto.py:21: TqdmWarning: IProgress not found. Please update jupyter and ipywidgets. See https://ipywidgets.readthedocs.io/en/stable/user_install.html\n",
      "  from .autonotebook import tqdm as notebook_tqdm\n"
     ]
    }
   ],
   "source": [
    "import datasets\n",
    "import random\n",
    "import re\n",
    "\n",
    "from common.utils import get_refs\n",
    "from common.consts import DS_UPLOAD_PATH, DS_SAVE_PATH"
   ]
  },
  {
   "cell_type": "code",
   "execution_count": 2,
   "metadata": {},
   "outputs": [
    {
     "data": {
      "text/plain": [
       "DatasetDict({\n",
       "    train: Dataset({\n",
       "        features: ['prompt', 'answer'],\n",
       "        num_rows: 8348\n",
       "    })\n",
       "    test: Dataset({\n",
       "        features: ['prompt', 'answer'],\n",
       "        num_rows: 128\n",
       "    })\n",
       "})"
      ]
     },
     "execution_count": 2,
     "metadata": {},
     "output_type": "execute_result"
    }
   ],
   "source": [
    "original = datasets.load_dataset(DS_UPLOAD_PATH)\n",
    "translation = datasets.load_from_disk(DS_SAVE_PATH + \"-pl\")\n",
    "translation"
   ]
  },
  {
   "cell_type": "code",
   "execution_count": 3,
   "metadata": {},
   "outputs": [
    {
     "name": "stdout",
     "output_type": "stream",
     "text": [
      "Dokument [1](Tytuł: David Lloyd (nadawca)): David Lloyd jest angielskim prezenterem radiowym i byłym dyrektorem radiowym,\n",
      "Dokument [2](Tytuł: Gary King (radio)): Gary King (ur. 4 sierpnia 1963) to angielski prezenter radiowy, który pracował dla Magic 105.4 Capital FM, BBC Radio 1 i Jazz FM (Wielka Brytania). Był pierwszym prezenterem na Atlantyku 252, uruchamiając stację w dniu 1 września 1989 r.\n",
      "Dokument [3](Tytuł: Alan Robson): Alan Robson MBE (urodzony 1 października 1955) to angielski prezenter radiowy, który prowadzi szeroko słuchany talk show „Alan Robson's Night Owls” w Metro Radio i TFM Radio w północno-wschodniej Anglii. Twierdzi, że w listopadzie 2000 roku uzyskał tytuł magistra egzorcyzmu i spirytualizmu na Birkbeck na Uniwersytecie Londyńskim.\n",
      "Dokument [4](Tytuł: Simon Mayo): Simon Andrew Hicks Mayo (urodzony 21 września 1958) to angielski prezenter radiowy, który pracuje dla BBC Radio od 1981. Mayo jest prezenterem „Simon Mayo Drivetime” w BBC Radio 2, które robi to od 2010 r. wraz z Markiem Kermode, prezenterem „Kermode and Mayo's Film Review” w BBC Radio 5 Live.\n",
      "Dokument [5](Tytuł: We All Stand Together): „We All Stand Together” (czasami określany jako Frog Song lub Frog Chorus) to piosenka Paula McCartneya i Frog Chorus.\n",
      "Dokument [6](Tytuł: Mark Page): Mark Page (urodzony w Middlesbrough) jest angielskim prezenterem i spikerem radiowym. W latach 1983-1986 był prezenterem wczesno-weekendowego programu śniadaniowego BBC Radio 1.\n",
      "Dokument [7](Tytuł: Andy Archer (prezenter radiowy)): Andy Archer (ur. Anthony Andrew Dawson) to angielski prezenter radiowy, najbardziej znany ze swojej pracy w pirackich stacjach radiowych w Wielkiej Brytanii w latach sześćdziesiątych i siedemdziesiątych XX wieku. Później pracował dla Niezależnego Radia Lokalnego i Radia Lokalnego BBC.\n",
      "Dokument [8](Tytuł: Jo Russell): Jo Russell jest angielską prezenterką radiową, obecnie pracującą dla Free Radio i Gem 106.\n",
      "Dokument [9](Tytuł: Brian Kay): Brian Christopher Kay (urodzony 12 maja 1944) to angielski prezenter radiowy, dyrygent i piosenkarz. Jest dobrze znany jako bas w King's Singers w latach powstawania grupy od 1968 do 1982 i jako taki można go usłyszeć na wielu jej nagraniach LP z lat 70. Był także głosem Papageno w filmie „Amadeus” i najniższą żabą w piosence Paula McCartneya „We All Stand Together” (The Frog's Chorus).\n",
      "Dokument [10](Tytuł: Rupert i żaba piosenka): Rupert i żaba pieśń to film animowany z 1984 roku oparty na postaci z komiksu Rupert Bear, napisany i wyprodukowany przez Paula McCartneya i wyreżyserowany przez Geoffa Dunbara. Zdjęcia do filmu „Rupert and the Frog Song” rozpoczęły się w 1981 r., a zakończyły w 1983 r. Film trafił do kin jako dodatek do pełnometrażowego filmu McCartneya „Pozdrawiam Broad Street”. Piosenka „We All Stand Together” ze ścieżki dźwiękowej filmu osiągnęła 3. miejsce po wydaniu na brytyjskiej liście przebojów singli. Został wydany w 2004 roku jako jeden z segmentów „”.\n",
      "Pytanie: Brian Christopher Kay jest angielskim prezenterem radiowym, dyrygentem i piosenkarzem, a także był najniższą żabą w piosence kogo? We All Stand Together?\n",
      "\n",
      "Brian Christopher Kay, angielski prezenter radiowy, dyrygent i piosenkarz, był najniższą żabą w piosence „We All Stand Together”, napisanej i wyprodukowanej przez Paula McCartneya [9] [5].\n",
      "\n",
      "\n",
      "Dokument [1](Tytuł: Alicia Sacramone): Alicia Marie Quinn (z domu Sacramone) (; ur. 3 grudnia 1987) jest emerytowaną amerykańską gimnastyczką artystyczną. Zdobyła srebrny medal z reprezentacją Stanów Zjednoczonych na Letnich Igrzyskach Olimpijskich 2008 i jest drugą najbardziej utytułowaną amerykańską gimnastyczką w historii Mistrzostw Świata (z dziesięcioma medalami).\n",
      "Dokument [2](Tytuł: Len Saunders): Len Saunders jest nauczycielem wychowania fizycznego i propagatorem sprawności fizycznej w dzieciństwie. Znany jest z stworzenia Projektu ACES, dnia, w którym dzieci na całym świecie ćwiczą jednocześnie pierwszego dnia maja. Stworzył nowy program o nazwie PACES Day, który motywuje rodziców i dzieci do wspólnych ćwiczeń w weekendy. W 2009 roku Len stworzył nowy program o nazwie Ćwiczenia US (Stany Zjednoczone), który motywował dzieci w Stanach Zjednoczonych do ćwiczeń przez 10 nieprzerwanych godzin, zaczynając od wschodniego wybrzeża Stanów Zjednoczonych i kończąc 10 godzin później na zachodnim wybrzeżu. Saunders jest także autorką 7 książek, wszystkie na temat zdrowia i kondycji dzieci. W lutym 2017 roku ukazała się jego najnowsza książka zatytułowana „I Can Do That”. Saunders obecnie pracuje jako PE. nauczyciel w szkole podstawowej Valley View w Montville w stanie New Jersey. Valley View była pierwszą szkołą, która wzięła udział w Projekcie ACES]. Day i nadal uczestniczy w nim co roku. Pełnił funkcję konsultanta Prezydenckiej Rady ds. Sprawności Fizycznej i Sportu. Ostatnio został rzecznikiem ekspertów American Heart Association zajmującym się problemem otyłości u dzieci i sprawności fizycznej u dzieci.\n",
      "Dokument [3](Tytuł: Roland Brückner): Roland Brückner (ur. 14 grudnia 1955) jest emerytowaną niemiecką gimnastyczką. Brał udział w Letnich Igrzyskach Olimpijskich 1976 i 1980 we wszystkich konkurencjach gimnastyki artystycznej i zdobył odpowiednio brązowy i srebrny medal w konkursie drużynowym. Indywidualnie zdobył złoto w ćwiczeniach na parkiecie i dwa brązowe medale w sklepieniu i poręczach w 1980. Kolejne dwa złote medale w ćwiczeniach na parkiecie zdobył na Mistrzostwach Świata w gimnastyce artystycznej 1979 i Mistrzostwach Europy 1981. Opuścił Letnie Igrzyska Olimpijskie 1984 z powodu ich bojkotu przez Niemcy Wschodnie i zamiast tego wziął udział w Igrzyskach Przyjaźni, zdobywając złoto na parkiecie i srebro w konkursie drużynowym.\n",
      "Dokument [4](Tytuł: Jacob Dalton): Jacob „Jake” Dalton (urodzony 19 sierpnia 1991) to emerytowany amerykański gimnastyk i członek drużyny gimnastycznej Uniwersytetu Oklahoma oraz drużyny narodowej USA. Dorastał w Sparks w stanie Nevada jako syn Tima i Denise Dalton. Reprezentował Stany Zjednoczone na Letnich Igrzyskach Olimpijskich 2012 w Londynie i Letnich Igrzyskach Olimpijskich 2016 w Rio.\n",
      "Dokument [5](Tytuł: Mary Lou Retton): Mary Lou Retton Kelley (ur. 24 stycznia 1968) jest emerytowaną amerykańską gimnastyczką. Na Letnich Igrzyskach Olimpijskich 1984 w Los Angeles zdobyła złoty medal w wieloboju indywidualnym, a także dwa srebrne i dwa brązowe medale. Jej występy uczyniły ją jedną z najpopularniejszych sportsmenek w Stanach Zjednoczonych.\n",
      "Dokument [6](Tytuł: Scott Johnson (gimnastyczka)): Scott Philip Johnson (ur. 12 lipca 1961) to amerykańska emerytowana gimnastyczka artystyczna. Reprezentował Stany Zjednoczone na Letnich Igrzyskach Olimpijskich 1984 i Letnich Igrzyskach Olimpijskich 1988. Był członkiem drużyny, która zdobyła złoty medal w 1984 r., a w 1988 r. był jej kapitanem. Przeszedł do historii na Igrzyskach Panamerykańskich w 1987 r., stając się pierwszą gimnastyczką, która zdobyła medal w każdej konkurencji.\n",
      "Dokument [7](Tytuł: Paul Hamm): Paul Elbert Hamm (urodzony 24 września 1982 w Washburn, Wisconsin) jest emerytowaną amerykańską gimnastyczką artystyczną. Jest mistrzem świata w gimnastyce i trzykrotnym medalistą olimpijskim. Jest mistrzem świata w wieloboju z 2003 r. i zwyciężył w wieloboju na Igrzyskach Olimpijskich w 2004 r. Jest odnoszącym największe sukcesy amerykańskim gimnastyczkiem płci męskiej i jedynym amerykańskim gimnastyczkiem, który zwyciężył wszechstronnie na Mistrzostwach Świata i Igrzyskach Olimpijskich.\n",
      "Dokument [8](Tytuł: Peter Vidmar): Peter Glen Vidmar (ur. 3 czerwca 1961) to amerykański gimnastyk i medalista olimpijski. Zdobył złote medale w wielobojowych zawodach drużynowych mężczyzn i zawodach koni z łękami, a także srebrny medal w wielobojowych zawodach indywidualnych mężczyzn na Letnich Igrzyskach Olimpijskich 1984 w Los Angeles. Urodził się w Los Angeles. Został wprowadzony do Galerii Sław Olimpijskich Stanów Zjednoczonych. W sumie ma trzy medale olimpijskie: dwa złote i srebrny. Peter jest jednym z zaledwie trzech sportowców dwukrotnie wprowadzonych do Galerii sław olimpijskiej Stanów Zjednoczonych: najpierw jako osoba indywidualna, a następnie jako członek historycznej amerykańskiej drużyny gimnastycznej mężczyzn z 1984 roku. Był także najlepiej punktującą amerykańską gimnastyczką w historii igrzysk olimpijskich.\n",
      "Dokument [9](Tytuł: ABC Funfit): ABC Funfit to seria krótkich odcinków amerykańskiej telewizji, które zostały wyemitowane w 1985 roku i emitowane dwa razy dziennie podczas sobotnich porannych programów animowanych ABC. Segmenty trwały pięć minut i przedstawiały ćwiczenia oraz informacje promujące sprawność fizyczną dzieci. Gospodarzem serialu była złota medalistka olimpijska Mary Lou Retton, której towarzyszyła grupa „Funfit Kids” (Ericka Pazcoquin, Bradley Kane, Melissa Kern i Efrain Bracero). Choreografię spektaklu przygotowała Lynne Taylor-Corbett. Album „ABC Funfit z udziałem Mary Lou Retton” został wydany w 1985 roku.\n",
      "Dokument [10](Tytuł: Peter Kormann): Peter Kormann (urodzony 21 czerwca 1955) to emerytowany amerykański gimnastyk i trener gimnastyki. Na Igrzyskach Olimpijskich w 1976 roku został pierwszym Amerykaninem, który zdobył medal w zawodach przeciwko Sowietom, zdobywając brązowy medal w zawodach mężczyzn na parkiecie. Brązowy medal Kormanna był także pierwszym medalem olimpijskim jakiegokolwiek rodzaju zdobytym przez amerykańską gimnastyczkę od 44 lat.\n",
      "Pytanie: Proszę wymienić emerytowaną amerykańską gimnastyczkę, która zdobyła złoto na Letnich Igrzyskach Olimpijskich w 1984 r. i która była gospodarzem serii krótkich odcinków amerykańskiej telewizji o nazwie ABC Funfit, których celem było promowanie sprawności fizycznej dzieci?\n",
      "\n",
      "Mary Lou Retton to emerytowana amerykańska gimnastyczka, która zdobyła złoto na Letnich Igrzyskach Olimpijskich w 1984 r. i była gospodarzem serii krótkich amerykańskich programów telewizyjnych zatytułowanych ABC Funfit, których celem było promowanie sprawności fizycznej dzieci.\n",
      "\n",
      "\n"
     ]
    }
   ],
   "source": [
    "def print_random(ds, n=2, seed=50):\n",
    "    examples = ds[\"train\"].shuffle(seed=seed).select(range(n))\n",
    "    for example in examples:\n",
    "        print(example[\"prompt\"])\n",
    "        print()\n",
    "        print(example[\"answer\"])\n",
    "        print()\n",
    "        print()\n",
    "\n",
    "\n",
    "print_random(translation)"
   ]
  },
  {
   "cell_type": "code",
   "execution_count": 4,
   "metadata": {},
   "outputs": [
    {
     "name": "stdout",
     "output_type": "stream",
     "text": [
      "Filtered 499 (5.98%) examples from train\n",
      "Filtered 6 (4.69%) examples from test\n"
     ]
    },
    {
     "data": {
      "text/plain": [
       "DatasetDict({\n",
       "    train: Dataset({\n",
       "        features: ['prompt', 'answer'],\n",
       "        num_rows: 7849\n",
       "    })\n",
       "    test: Dataset({\n",
       "        features: ['prompt', 'answer'],\n",
       "        num_rows: 122\n",
       "    })\n",
       "})"
      ]
     },
     "execution_count": 4,
     "metadata": {},
     "output_type": "execute_result"
    }
   ],
   "source": [
    "def remove_translations_with_bad_citations(original, translation, question_prefix=\"\\nPytanie:\"):\n",
    "    filtered_dataset = datasets.DatasetDict()\n",
    "    for split in [\"train\", \"test\"]:\n",
    "        original_split = original[split]\n",
    "        translation_split = translation[split]\n",
    "        filtered = []\n",
    "        assert len(original_split) == len(translation_split)\n",
    "        for i, (original_examples, translated_examples) in enumerate(zip(original_split, translation_split)):\n",
    "            original_refs = get_refs(original_examples[\"answer\"])\n",
    "            translated_refs = get_refs(translated_examples[\"answer\"])\n",
    "            if set(original_refs) != set(translated_refs):\n",
    "                continue\n",
    "            original_refs_passage = get_refs(original_examples[\"prompt\"])\n",
    "            translated_refs_passage = get_refs(translated_examples[\"prompt\"])\n",
    "            if set(original_refs_passage) != set(translated_refs_passage):\n",
    "                continue\n",
    "            if original_examples[\"prompt\"].count(\"\\n\") != translated_examples[\"prompt\"].count(\"\\n\"):\n",
    "                continue\n",
    "            if question_prefix not in translated_examples[\"prompt\"]:\n",
    "                continue\n",
    "            filtered.append(i)\n",
    "        print(f\"Filtered {len(original_split) - len(filtered)} ({(len(original_split) - len(filtered))/len(original_split):.2%}) examples from {split}\")\n",
    "        filtered_dataset[split] = translation_split.select(filtered)\n",
    "    return filtered_dataset\n",
    "\n",
    "\n",
    "filtered_pl = remove_translations_with_bad_citations(original, translation)\n",
    "filtered_pl"
   ]
  },
  {
   "cell_type": "code",
   "execution_count": 5,
   "metadata": {},
   "outputs": [],
   "source": [
    "def fixup_translation(row):\n",
    "    row[\"answer\"] = row[\"answer\"].replace(\"] [\", \"][\")\n",
    "    row[\"prompt\"] = row[\"prompt\"].replace(\"Document [\", \"Dokument [\")\n",
    "    return row\n",
    "\n",
    "\n",
    "fixed_pl = filtered_pl.map(fixup_translation)"
   ]
  },
  {
   "cell_type": "code",
   "execution_count": 6,
   "metadata": {},
   "outputs": [
    {
     "data": {
      "text/plain": [
       "DatasetDict({\n",
       "    train: Dataset({\n",
       "        features: ['prompt', 'answer'],\n",
       "        num_rows: 9157\n",
       "    })\n",
       "    test: Dataset({\n",
       "        features: ['prompt', 'answer'],\n",
       "        num_rows: 142\n",
       "    })\n",
       "})"
      ]
     },
     "execution_count": 6,
     "metadata": {},
     "output_type": "execute_result"
    }
   ],
   "source": [
    "DOC_TEMPLATE = \"Dokument [{ref}]\"\n",
    "ANS_TEMPLATE = \"[{ref}]\"\n",
    "\n",
    "\n",
    "def remove_docs(prompt, refs):\n",
    "    for ref in refs:\n",
    "        if ref > 100:\n",
    "            print(f\"Skipping ref {ref}\")\n",
    "            continue\n",
    "        needle = DOC_TEMPLATE.format(ref=f\"{ref+1}\")\n",
    "        needle_idx = prompt.find(needle)\n",
    "        next_newline_idx = prompt.find(\"\\n\", needle_idx)\n",
    "        if next_newline_idx == -1:\n",
    "            next_newline_idx = len(prompt)\n",
    "            print(f\"needle: {needle}\\n\\nneedle_idx: {needle_idx}\\n\\nprompt: {prompt}\")\n",
    "            0 / 0\n",
    "        prompt = prompt[:needle_idx] + prompt[next_newline_idx + 1 :]\n",
    "\n",
    "    new_prompt_refs = get_refs(prompt)\n",
    "    for i, ref in enumerate(new_prompt_refs):\n",
    "        prompt = prompt.replace(DOC_TEMPLATE.format(ref=ref + 1), DOC_TEMPLATE.format(ref=i + 1))\n",
    "\n",
    "    return prompt\n",
    "\n",
    "\n",
    "def add_mapped_samples(ds, amount, fn):\n",
    "    random.seed(9)\n",
    "    new_ds = datasets.DatasetDict()\n",
    "    for split_name in [\"train\", \"test\"]:\n",
    "        split = ds[split_name]\n",
    "        selected = split.shuffle(seed=8)\n",
    "        selected = selected.select(range(int(len(split) * amount)))\n",
    "        selected = selected.map(fn)\n",
    "        split = datasets.concatenate_datasets([split, selected])\n",
    "        split = split.shuffle(seed=5)\n",
    "        new_ds[split_name] = split\n",
    "    return new_ds\n",
    "\n",
    "\n",
    "def renumerate_answer_refs(answer, removed_refs):\n",
    "    refs = get_refs(answer)\n",
    "    for i, ref in enumerate(refs):\n",
    "        assert ref not in removed_refs\n",
    "        removed_below = len([r for r in removed_refs if r < ref])\n",
    "        answer = answer.replace(ANS_TEMPLATE.format(ref=ref + 1), ANS_TEMPLATE.format(ref=ref - removed_below + 1))\n",
    "    return answer\n",
    "\n",
    "\n",
    "def change_to_reduced(row):\n",
    "    refs = get_refs(row[\"answer\"])\n",
    "    prompt_refs = get_refs(row[\"prompt\"])\n",
    "    non_refs = [ref for ref in prompt_refs if ref not in refs]\n",
    "    if len(non_refs) == 0:\n",
    "        return row\n",
    "    refs_to_remove = random.sample(non_refs, random.randint(1, len(non_refs)))\n",
    "\n",
    "    return {\n",
    "        \"prompt\": remove_docs(row[\"prompt\"], refs_to_remove),\n",
    "        \"answer\": renumerate_answer_refs(row[\"answer\"], refs_to_remove),\n",
    "    }\n",
    "\n",
    "\n",
    "with_reduced_pl = add_mapped_samples(fixed_pl, 1 / 6, change_to_reduced)\n",
    "with_reduced_pl"
   ]
  },
  {
   "cell_type": "code",
   "execution_count": 7,
   "metadata": {},
   "outputs": [
    {
     "data": {
      "text/plain": [
       "DatasetDict({\n",
       "    train: Dataset({\n",
       "        features: ['prompt', 'answer'],\n",
       "        num_rows: 10301\n",
       "    })\n",
       "    test: Dataset({\n",
       "        features: ['prompt', 'answer'],\n",
       "        num_rows: 159\n",
       "    })\n",
       "})"
      ]
     },
     "execution_count": 7,
     "metadata": {},
     "output_type": "execute_result"
    }
   ],
   "source": [
    "NEGATIVE_ANSWER = \"Przepraszam, nie potrafię odpowiedzieć na to pytanie.\"\n",
    "\n",
    "\n",
    "def change_to_negative(row):\n",
    "    refs = get_refs(row[\"answer\"])\n",
    "    return {\"prompt\": remove_docs(row[\"prompt\"], refs), \"answer\": NEGATIVE_ANSWER}\n",
    "\n",
    "\n",
    "with_neg_pl = add_mapped_samples(with_reduced_pl, 1 / 8, change_to_negative)\n",
    "with_neg_pl"
   ]
  },
  {
   "cell_type": "code",
   "execution_count": 8,
   "metadata": {},
   "outputs": [],
   "source": [
    "TITLE_KEY = \"Tytuł\"\n",
    "TITLE_REMOVE_REGEX = re.compile(r\"\\]\\s?\\({}:.*\\):\".format(TITLE_KEY), re.IGNORECASE)\n",
    "TITLE_REMOVE_REPLACE = \"]:\"\n",
    "\n",
    "\n",
    "def remove_title(row):\n",
    "    row[\"prompt\"] = TITLE_REMOVE_REGEX.sub(TITLE_REMOVE_REPLACE, row[\"prompt\"])\n",
    "    return row\n",
    "\n",
    "\n",
    "without_title_pl = with_neg_pl.map(remove_title)"
   ]
  },
  {
   "cell_type": "code",
   "execution_count": 9,
   "metadata": {},
   "outputs": [
    {
     "name": "stdout",
     "output_type": "stream",
     "text": [
      "Dokument [1]: Whaley House to rezydencja w stylu greckiego odrodzenia z 1857 r., zabytek historyczny Kalifornii i muzeum zlokalizowane na Starym Mieście w San Diego w Kalifornii. Obecnie opiekuje się nim Organizacja Save Our Heritage (SOHO). W latach sześćdziesiątych XX wieku Whaley House został wyznaczony przez Departament Handlu Stanów Zjednoczonych jako oficjalny nawiedzony dom.\n",
      "Dokument [2]: Dom Roberta Henne'a znajduje się w dzielnicy West End w Davenport w stanie Iowa, Stany Zjednoczone. Ta rezydencja w stylu greckiego odrodzenia została zbudowana dla Roberta i Henrietty Henne w 1874 roku. To on obsługiwał stoisko z cygarami na poczcie. Kontynuowała działalność po jego śmierci w 1885 roku. Dom utrzymany był w popularnym XIX-wiecznym stylu w Davenport, który miał pewne unikalne cechy. Okulus szczytowy znajduje się z boku domu, a nie z przodu. Z przodu para okien o okrągłym łuku. Okna wychodzące na przód domu mają zwornikowe nadproża, które opadają do małych formowanych bloków narożnych i są zlicowane z cegłą. Formowane panele znajdują się na fryzie ganku i na podsufitkach oraz w ościeżach przy głównym wejściu. Od 1983 roku dom wpisany jest do Krajowego Rejestru Miejsc Historycznych.\n",
      "Dokument [3]: Domek greckiego odrodzenia to zabytkowy dom położony w Leal Park w Urbana, Illinois. Zbudowany około 1860 roku, dom jest ostatnim zachowanym domem greckiego odrodzenia w Champaign-Urbana. Kiedy hrabstwo Champaign zostało zasiedlone w latach pięćdziesiątych XIX wieku, w tym samym czasie, gdy popularność stylu greckiego odrodzenia spadła, niewiele domów w hrabstwie zostało zbudowanych w tym stylu. Przed wejściem do domu znajduje się portyk, główny element greckiego odrodzenia, z ząbkowanym frontonem wspartym na kwadratowych filarach. Choć pierwotnie dom znajdował się pod adresem 1205 W. Springfield, w latach 70. XX wieku przeniesiono go do parku, aby uchronić go przed rozbiórką.\n",
      "Dokument [4]: Thomas Whaley (5 października 1823 – 14 grudnia 1890) był wczesnym osadnikiem San Diego w Kalifornii. Rezydencja, którą zbudował tam w 1857 roku, jest obecnie muzeum publicznym o nazwie Whaley House.\n",
      "Dokument [5]: Wellborn, znany również jako Dom Dr. Levi Thomasa, to rezydencja w stylu greckiego odrodzenia w Eufaula w stanie Alabama, zbudowana dla doktora Thomasa Levi Wellborna. Dom został zbudowany w 1837 roku na terenach należących niegdyś do Konfederacji Creek. Wellborn został ranny w bitwie podczas wojny w Creek w 1836 r. i zmarł z powodu ran w 1841 r. Jego rodzina nadal mieszkała w rezydencji.\n",
      "Dokument [6]: Dom George'a P. Hoffmana to zabytkowy dom położony w Blythewood w hrabstwie Richland w Południowej Karolinie. Został zbudowany około 1855 roku i jest parterową rezydencją w stylu greckiego odrodzenia o konstrukcji szkieletowej. Dom składa się z centralnej, pięcioprzęsłowej bryły, flankowanej przez trójprzęsłowe skrzydła. Posiada frontonowy ganek, który rozciąga się na trzy środkowe przęsła fasady.\n",
      "Dokument [7]: Cureton House to zabytkowy dom położony w pobliżu Lancaster w hrabstwie Lancaster w Południowej Karolinie. Został zbudowany około 1840 roku i jest dwupiętrową rezydencją w stylu greckiego odrodzenia, w kształcie litery L. Jest pokryty okładziną szalunkową, ma dach dwuspadowy i ceglany fundament. Dom ma plan centralnej sieni i dwóch pomieszczeń w tylnym łokciu. Na terenie posesji znajduje się także szopa na bawełnę (ok. 1918 r.), stodoła (ok. 1930 r.) i garaż (ok. 1930 r.).\n",
      "Dokument [8]: Dom Johna Bennetta został zbudowany w 1839 r. z dobudówką w 1854 r., jako część osiedla w pobliżu gmachu sądu trzeciego hrabstwa w historycznym Richmondtown na Staten Island w stanie Nowy Jork . Ta rezydencja w stylu greckiego odrodzenia była w latach 1848–1917 domem kupca żeglugowego Johna Bennetta i jego rodziny. Budynek później służył jako restauracja. Sezonowa kawiarnia i restauracja znajdują się w piwnicy piekarni i można do nich dotrzeć z Richmond Road.\n",
      "Dokument [9]: Dom Arnota to podwyższony parterowy dom położony przy 306 W. Houston Street w Marshall w Teksasie. Zbudowany w 1848 roku, jest jednym z najstarszych domów w Marshall. Budynek w stylu wczesnego odrodzenia greckiego, jest również opisywany jako „klasyczny domek kreolski lub luizjański, wyrenderowany w stylu greckiego odrodzenia”. Wykonany jest z drewnianej ramy na nośnych ceglanych ścianach piwnicy/parteru, z cegłą „Marshall Brown” ułożoną we wspólnym spoiwie. Ganek frontowy, przykryty dwuspadowym dachem domu, „jest połączony z mocnymi kwadratowymi kolumnami, co stawia dom we wczesnej fazie odrodzenia greckiego”.\n",
      "Dokument [10]: Upper Weyanoke to zabytkowy dom na plantacji położony w pobliżu Charles City w hrabstwie Charles City w Wirginii. Na terenie posiadłości znajduje się półtorapiętrowy domek zbudowany około 1815 roku oraz większa dwupiętrowa rezydencja w stylu greckiego odrodzenia, wzniesiona w latach 1858-59. Chata została prawdopodobnie zbudowana przez Johna Minge jako dwupokojowa przynależność do nieistniejącego już głównego mieszkania. Główny dom został zbudowany dla Roberta Douthata i jest dwupiętrowym ceglanym domem z bocznym korytarzem, zwykle stosowanym w domach miejskich, a nie w wiejskich domach na plantacjach.\n",
      "Pytanie: Jaka jest rezydencja w stylu greckiego odrodzenia, którą Thomas Waley zbudował obecnie w San Diego?\n",
      "\n",
      "Rezydencja w stylu greckiego odrodzenia, którą Thomas Whaley zbudował w San Diego w 1857 roku, jest obecnie muzeum publicznym znanym jako Whaley House [1][4].\n",
      "\n",
      "\n",
      "Dokument [1]: The Secret to druga rozszerzona sztuka południowokoreańsko-chińskiego dziewczęcego zespołu Cosmic Girls. Był to ich pierwszy album jako trzynastoosobowa grupa od czasu dodania Yoo Yeon-jung w lipcu 2016 r. Został wydany 17 sierpnia 2016 r. przez Starship Entertainment i dystrybuowany przez LOEN Entertainment. Aby promować EP-kę, grupa pojawiła się w kilku południowokoreańskich programach muzycznych, w tym w „Music Bank” i „Inkigayo”. Piosenka „Secret” została wydana jako główny singiel z EP, zawierała także chińską wersję.\n",
      "Dokument [2]: Cosmic Girls (Hangul: 우주소녀 ; RR: „Uju ​​Sonyeo” ; ), znany również jako WJSN, to południowokoreańsko-chiński girlsband utworzony przez Starship Entertainment i Yuehua Entertainment, który zadebiutował w 2016 roku. Ich pierwsza rozszerzona sztuka „Would You Like?” została wydana 25 lutego 2016 roku.\n",
      "Dokument [3]: Kang Ji-hyun (Hangul: 강지현; ur. 12 lutego 1992), lepiej znana pod pseudonimem Soyou (소유), to południowokoreańska piosenkarka. Najbardziej znana jest jako była członkini południowokoreańskiego girlsbandu Sistar należącego do Starship Entertainment.\n",
      "Dokument [4]: Insane Love () to czwarta rozszerzona sztuka południowokoreańskiego dziewczęcego zespołu Sistar. Został wydany 21 czerwca 2016 roku przez Starship Entertainment i dystrybuowany przez LOEN Entertainment. Piosenka „I Like That” została wykorzystana jako główny singiel. „I Like That” to taneczno-popowa piosenka o tematyce pokusy, a album zawiera takie gatunki jak pop, R&B i ballada.\n",
      "Dokument [5]: Starship Entertainment () to południowokoreańska wytwórnia płytowa założona w 2008 roku przez Kim Shi Dae. Dawniej siedziba dziewczęcej grupy Sistar, obecnie zarządza takimi artystami jak K.Will, Soyou, Boyfriend, Mad Clown, Junggigo, Jooyoung, Monsta X, Yoo Seung-woo, Brother Su, Cosmic Girls, #Gun, Mind U, Duetto i Jeong Se-woon. W listopadzie 2013 roku stała się niezależną wytwórnią zależną LOEN Entertainment.\n",
      "Dokument [6]: Sistar (często stylizowane na SISTAR) to południowokoreański girlsband założony w 2010 roku przez Starship Entertainment. Grupa składała się z Hyolyn, Bora, Soyou i Dasom. Ich debiutancki album studyjny „So Cool” ukazał się 9 sierpnia 2011 roku. Drugi album „Give It to Me” ukazał się 11 czerwca 2013 roku. Do ich największych hitów należą „So Cool”, „Alone”, „Touch My Body „, „Kocham Cię” i „Daj mi to”. Ich czwarty singiel „So Cool” zadebiutował na pierwszym miejscu listy 100 singli „Billboard” Korea K-Pop Hot.\n",
      "Dokument [7]: Yuehua Entertainment (chiński: 乐华娱乐) (koreański: 위에화 엔터테인먼트) to prywatna międzynarodowa grupa rozrywkowa i agencja talentów z siedzibą w Pekinie. Firma została założona w czerwcu 2009 roku. Yuehua zajmuje się produkcją i dystrybucją telewizyjną, produkcją filmową, zarządzaniem artystami i szkoleniami, produkcją muzyki i teledysków, public relations oraz marketingiem rozrywki. Yuehua Entertainment współpracuje z południowokoreańskimi firmami Pledis Entertainment i Starship Entertainment. Yuehua Entertainment otrzymała finansowanie serii B od Gravity Media i CMC Capital w sierpniu 2014 r. CMC Capital zainwestowała w grupę 49 mln USD, a po zakończeniu finansowania została jej strategicznym udziałowcem. W 2014 roku Yuehua Entertainment założyła koreański oddział zlokalizowany w Gangnam-gu w Seulu w Korei Południowej. Yuehua ogłosiła plany dalszego rozwoju swojego koreańskiego oddziału, począwszy od lutego 2016 r.\n",
      "Dokument [8]: Kim Da-som (ur. 6 maja 1993), lepiej znana pod pseudonimem Dasom, to południowokoreańska piosenkarka i aktorka. Najbardziej znana jest jako była członkini południowokoreańskiej grupy Sistar należącej do Starship Entertainment. Zagrała w filmach i serialach telewizyjnych, m.in. „Rodzina” (2012–2013), „Melodia miłości” (2013–2014) i „Wirtualna panna młoda” (2015).\n",
      "Dokument [9]: Od. WJSN (Hangul: From. 우주소녀) to trzecia rozszerzona sztuka południowokoreańsko-chińskiego dziewczęcego zespołu Cosmic Girls. Został wydany 4 stycznia 2017 roku przez Starship Entertainment i Yuehua Entertainment, a dystrybuowany przez LOEN Entertainment. Aby promować EP-kę, grupa pojawiła się w kilku południowokoreańskich programach muzycznych, w tym w „Music Bank” i „Inkigayo”. Piosenka „I Wish” została wydana jako główna piosenka z EP z dołączoną wersją chińską.\n",
      "Dokument [10]: Happy Moment to pierwszy album studyjny południowokoreańskiej grupy Cosmic Girls. Album został wydany cyfrowo i fizycznie 7 czerwca 2017 roku przez Starship Entertainment i Yuehua Entertainment, a dystrybuowany przez LOEN Entertainment. Zawiera dziesięć utworów, w tym promowany singiel „Happy”. Po raz pierwszy od debiutu na tym albumie nie ma chińskiej wersji głównego singla.\n",
      "Pytanie: Starship Entertainment to południowokoreańska wytwórnia płytowa założona w 2008 roku przez Kim Shi Dae, a wcześniej będąca domem dla dziewczęcego zespołu Sistar. Obecnie zarządza takimi artystami, jak południowokoreańsko-chińska grupa dziewcząt utworzona przez Starship Entertainment i Yuehua Entertainment, która zadebiutowała w 2016, znany również jako WJSN?\n",
      "\n",
      "Starship Entertainment, południowokoreańska wytwórnia płytowa założona w 2008 roku przez Kim Shi Dae, obecnie zarządza takimi artystami jak Cosmic Girls, południowokoreańsko-chińska grupa dziewcząt utworzona przez Starship Entertainment i Yuehua Entertainment, która zadebiutowała w 2016 roku i jest również znana jako WJSN [2][5].\n",
      "\n",
      "\n",
      "Dokument [1]: Xiangyang () to miasto o statusie prefektury w północno-zachodniej prowincji Hubei w Chińskiej Republice Ludowej. Do 2 grudnia 2010 roku było znane jako Xiangfan (). Xiangyang jest podzielone przez rzekę Han, która przepływa przez jego serce i dzieli miasto z północy na południe. Samo miasto jest połączeniem dwóch niegdyś odrębnych, starożytnych miast: Fancheng i Xiangzhou. Pozostałości starego Xianyang znajdują się na południe od rzeki Han i obejmują jeden z najstarszych wciąż nienaruszonych murów miejskich w Chinach, podczas gdy Fancheng znajdował się na północ od rzeki Han. Obydwa miasta odegrały wybitne role historyczne zarówno w starożytnym, jak i przednowoczesnym okresie historii Chin. Dziś miasto to, po stolicy Wuhan, drugie co do wielkości w prowincji, położone mniej więcej w połowie drogi między Wuhan a Xi'an. Jest uważane za jedno z miast trzeciego poziomu w Chinach i było celem inwestycji rządowych i prywatnych, ponieważ kraj dąży do urbanizacji i rozwoju wewnętrznych prowincji.\n",
      "Dokument [2]: Północny dworzec kolejowy w Zhijiang to stacja kolejowa zlokalizowana w mieście Zhijiang, będącym częścią miasta o statusie prefektury Yichang, w prowincji Hubei, w Chińskiej Republice Ludowej. Obsługiwana jest przez kolej Hanyi (której budowę rozpoczęto w 2008 r.), obsługiwaną przez Wuhan Railway Bureau, China Railway Corporation.\n",
      "Dokument [3]: Lu Banglie (ur. 1971) jest działaczem prodemokratycznym w Chinach. Lu jest rolnikiem z wioski Baoyuesi w prowincji Hubei. W okresie suszy w 2000 r. Lu rozpoczął kampanię na rzecz obniżek podatków nakładanych na biednych rolników. Od tego czasu Lu prowadzi kampanię dotyczącą kwestii konfiskaty ziemi, korupcji i dostępu do opieki zdrowotnej. W 2003 roku Lu został wybrany na członka Kongresu Ludowego miasta Zhijiang. W 2004 roku został wybrany do komitetu mieszkańców wsi Baoyuesi.\n",
      "Dokument [4]: Fujin () to miasto na poziomie hrabstwa we wschodniej części prowincji Heilongjiang w Chińskiej Republice Ludowej. Znajduje się pod jurysdykcją miasta Jiamusi o statusie prefektury.\n",
      "Dokument [5]: Zhijiang () to miasto na prawach powiatu w mieście Yichang, w zachodniej części prowincji Hubei w Chińskiej Republice Ludowej. Do lat 90. Zhijiang było hrabstwem. Znajduje się na lewym (północnym) brzegu rzeki Jangcy, w dół rzeki od centrum miasta Yichang.\n",
      "Pytanie: W jakim kraju znajdują się miasta Fujin i Zhijiang w Hubei?\n",
      "\n",
      "Zarówno miasta Fujin, jak i Zhijiang, Hubei znajdują się w Chińskiej Republice Ludowej [4][5].\n",
      "\n",
      "\n",
      "Dokument [1]: Pennsylvania Route 230 (PA 230) to trasa stanowa o długości 45,4 mil w środkowej Pensylwanii. Jej zachodni koniec znajduje się na skrzyżowaniu z US Route 22 (US 22) w Harrisburgu. Jego wschodni koniec znajduje się na skrzyżowaniu z PA 283 w pobliżu Salunga. Trasa przebiega przez hrabstwa Dauphin i Lancaster i służy jako droga gruntowa równoległa do autostrady PA 283 łączącej miasta Harrisburg i Lancaster. Po drodze PA 230 przechodzi przez Middletown, Elizabethtown i Mount Joy. Trasa przecina Airport Connector w pobliżu międzynarodowego lotniska Harrisburg, PA 441 i PA 341 w obszarze Middletown, PA 241 i PA 743 w Elizabethtown oraz PA 772 w Mount Joy.\n",
      "Dokument [2]: Międzynarodowy port lotniczy w Vancouver (IATA: YVR, ICAO: CYVR) znajduje się na Sea Island w Richmond w Kolumbii Brytyjskiej w Kanadzie, około 12 km od centrum Vancouver. Jest to drugie pod względem ruchu lotniczego (306 799) i pasażerów (22,3 mln) lotnisko w Kanadzie, po międzynarodowym porcie lotniczym Toronto Pearson. Oferuje codzienne loty bez przesiadek do Azji, Europy, Oceanii, Stanów Zjednoczonych, Meksyku i innych lotnisk w Kanadzie. Lotnisko zdobyło kilka znaczących międzynarodowych nagród dla najlepszego lotniska; zdobyło nagrodę Skytrax Best North American Airport w latach 2007 i 2010–2017. Lotnisko po raz pierwszy znalazło się na liście 10 najlepszych lotnisk na świecie w 2012 r., zajmując 9. miejsce (2012), 8. (2013) i 9. (2014) ogólnie. Jest to jedyne lotnisko w Ameryce Północnej, które znalazło się w pierwszej dziesiątce za lata 2013 i 2014. YVR utrzymuje także wyróżnienie Najlepszego Kanadyjskiego Portu Lotniczego w wynikach regionalnych. Jest to węzeł komunikacyjny Air Canada i WestJet. Jest także bazą operacyjną Air Transat. Międzynarodowy port lotniczy w Vancouver jest jednym z ośmiu kanadyjskich lotnisk wyposażonych w urządzenia do wstępnej odprawy granicznej z USA. Jest to również jedno z niewielu dużych międzynarodowych lotnisk posiadających terminal dla regularnych wodnosamolotów.\n",
      "Dokument [3]: TRACON Północnej Kalifornii (NCT) (Terminal Radar Approach Control), w skrócie NorCal TRACON, to urządzenie kontroli ruchu lotniczego, które zapewnia alarmy bezpieczeństwa, separację i sekwencjonowanie przylatującego ruchu lotniczego , odlatujących i tranzytujących w przestrzeni powietrznej i na lotniskach w Północnej Kalifornii. Zlokalizowane w Rancho Cordova niedaleko Sacramento, NCT kontroluje przestrzeń powietrzną o powierzchni ponad 19 000 mil kwadratowych i obsługuje międzynarodowe lotniska w Reno, międzynarodowe lotnisko w Sacramento, międzynarodowe lotnisko w San Jose, międzynarodowe lotnisko w Oakland i międzynarodowe lotnisko w San Francisco, a także 19 innych mniejszych lotnisk z wieżami kontroli ruchu lotniczego . NCT jest trzecim najbardziej ruchliwym TRACON w Ameryce. NorCal TRACON jest krokiem pomiędzy lokalną kontrolą (w wieży kontrolnej lotniska) a Centrum Kontroli Ruchu Lotniczego (ARTCC), w tym przypadku Oakland Center (kod ICAO: ZOA). Międzynarodowy port lotniczy San Francisco to drugie co do wielkości lotnisko w Kalifornii i największe lotnisko obsługujące Północną Kalifornię.\n",
      "Dokument [4]: Międzynarodowy port lotniczy Mae Fah Luang – Chiang Rai (tajski: ท่าอากาศยานแม่ฟ้าหลวง เชียงราย ) (stara nazwa: Międzynarodowy Port Lotniczy Chiang Rai (tajski: ท่าอากาศยานเชียงราย)) (IATA: CEI, ICAO: VTCT) znajduje się w mieście Chiang Rai w północnej Tajlandii. Lotnisko znajduje się około 8 km od centrum miasta. Od 1998 roku zarządza nim Airports of Thai Public Company Limited (AOT). W 2013 roku lotnisko obsłużyło ponad 1 000 000 pasażerów i 7 000 lotów pasażerskich. Lotnisko posiada międzynarodowe zaplecze lotnicze i obsługuje 3 trasy międzynarodowe do międzynarodowego lotniska w Hongkongu, międzynarodowego lotniska Kunming Changshui i międzynarodowego lotniska Haikou Meilan. W 2014 r. tajlandzkie lotniska oświadczyły, że rozbudują lotnisko w Chiang Rai. Plany obejmują budowę dodatkowej drogi kołowania, więcej sklepów i być może przedłużenie pasa startowego. Powinno to zostać ukończone w 2030 r.\n",
      "Dokument [5]: Líder Aviação (Líder Aviation) to brazylijska linia lotnicza specjalizująca się w czarterach lotniczych, sprzedaży samolotów i konserwacji samolotów. Jej główna baza znajduje się w Belo Horizonte w stanie Minas Gerais, gdzie jest obecna na obu lotniskach. Ma inne bazy w całej Brazylii; na lotniskach Congonhas i Guarulhos International Airport w São Paulo, Santos Dumont Airport, Jacarepaguá Airport i Galeão International Airport w Rio de Janeiro, Międzynarodowy Port Lotniczy Brasília, Międzynarodowy Port Lotniczy Guararapes w Recife, Macaé Airport, Val de Cães International Airport w Belém, Vitória Airport, Salvador Międzynarodowe lotnisko, międzynarodowe lotnisko Salgado Filho w Porto Alegre i międzynarodowe lotnisko Eduardo Gomes w Manaus. Bristow Group, duży operator helikopterów z siedzibą w USA, prowadzący działalność na całym świecie i wspierający przemysł wydobycia ropy i gazu na morzu, ma udziały finansowe w Lider.\n",
      "Dokument [6]: Zarząd regionalnego portu lotniczego obszaru Susquehanna (SARAA) jest organem zarządzającym międzynarodowym portem lotniczym Harrisburg, portem lotniczym Capital City, regionalnym portem lotniczym hrabstwa Franklin i regionalnym portem lotniczym Gettysburg w południowo-środkowej Pensylwanii. SARAA została założona 9 września 1997 r. i oficjalnie przejęła kontrolę nad lotniskami HIA i CXY od Wspólnoty Pensylwanii 1 stycznia 1998 r.\n",
      "Dokument [7]: Rocky Nelson, przedsiębiorca z Arizony, założył Arizona Airways w 1942 r., używając samolotu Douglas DC-3 do przewozu pasażerów z międzynarodowego lotniska Sky Harbor w Phoenix do innych, pobliskich miejsc docelowych, w tym Prescott Municipal Port lotniczy w Prescott w Arizonie i Międzynarodowy Port Lotniczy Tucson w Tucson w Arizonie.\n",
      "Dokument [8]: Airport Connector to autostrada o długości 3,1 km na obszarze Harrisburg w Pensylwanii w Stanach Zjednoczonych. Rozpoczyna się na trasie Pennsylvania Route 283 (PA 283), a kończy na międzynarodowym lotnisku Harrisburg. Jest jeden zjazd pośredni z PA 230. Autostrada jest wewnętrznie oznaczona jako State Route 3032 przez Departament Transportu Pensylwanii.\n",
      "Pytanie: Międzynarodowe lotnisko Harrisburg i międzynarodowe lotnisko Tucson, jaka jest klasyfikacja lotnisk?\n",
      "\n",
      "Przepraszam, nie potrafię odpowiedzieć na to pytanie.\n",
      "\n",
      "\n",
      "Dokument [1]: Szkarłatna litera to amerykański dramat romantyczny z 1995 roku. Jest to filmowa adaptacja powieści Nathaniela Hawthorne’a pod tym samym tytułem. Film wyreżyserował Roland Joffé, a w rolach głównych występują Demi Moore, Gary Oldman i Robert Duvall. Ta wersja została „dowolnie zaadaptowana” z Hawthorne i odbiegała od oryginalnej historii. Film był nominowany do siedmiu Złotych Malin podczas ceremonii w 1995 roku, zdobywając nagrodę w kategorii „Najgorszy remake lub sequel”.\n",
      "Dokument [2]: Kampania Out to inicjatywa mająca na celu podniesienie świadomości społecznej na rzecz wolnomyślicielstwa i ateizmu. Została zainicjowana przez Robin Elisabeth Cornwell i jest wspierana przez Richarda Dawkinsa, wybitnego ateistę. Celem kampanii jest zwiększenie otwartości na temat bycia ateistą poprzez zapewnienie ateistom możliwości identyfikacji z innymi poprzez eksponowanie szkarłatnej litery „A”, szkarłatnej dużej litery „A” zapisanej krojem pisma Zapfino oraz aluzji do szkarłatna litera „A” noszona przez Hester Prynne po skazaniu jej za cudzołóstwo w „Szkarłatnej literze” Nathaniela Hawthorne’a. Zachęca tych, którzy chcą wziąć udział w kampanii, aby ujawnili się i przywłaszczyli sobie, w humorystyczny sposób, piętno społeczne, które w niektórych miejscach utrzymuje się przeciwko ateizmowi, poprzez piętnowanie się szkarłatną literą.\n",
      "Dokument [3]: Zaloty Ministra to powieść historyczna autorstwa Harriet Beecher Stowe, opublikowana po raz pierwszy w 1859 r. Akcja powieści rozgrywa się w XVIII-wiecznej Nowej Anglii i bada historię Nowej Anglii, podkreśla kwestię niewolnictwa, i krytykuje teologię kalwińską, w której wychował się Stowe. Ze względu na podobieństwa scenerii często porównuje się to dzieło z „Szkarłatną literą” Nathaniela Hawthorne’a (1850). Jednak w przeciwieństwie do „Listy Scarlett” Hawthorne’a, „Zaloty Ministra” to „romans sentymentalny”; jego centralny wątek kręci się wokół zalotów i małżeństwa. Co więcej, badania Stowe'a nad regionalną historią Nowej Anglii dotyczą przede wszystkim sfery domowej, reakcji Nowej Anglii na niewolnictwo oraz psychologicznego wpływu kalwińskich doktryn o predestynacji i bezinteresownej życzliwości.\n",
      "Dokument [4]: Elizabeth Pain (ok. 1652 – 26 listopada 1704), czasami pisana jako Elizabeth Paine lub Elisabeth Payne, była osadniczką w kolonialnym Bostonie, która została postawiona przed sądem po śmierci swojego dziecka. Została uniewinniona od zarzutu morderstwa, ale uznana za winną zaniedbania, ukarana grzywną i wychłostana. Według niektórych pisarzy i zgodnie z popularną tradycją aspekty życia Pain i jej nagrobek są uważane za inspirację dla życia i grobu bohaterki Hester Prynne w powieści „Szkarłatna litera” Nathaniela Hawthorne’a.\n",
      "Dokument [5]: Rita K. Gollin urodziła się 22 stycznia 1928 roku w Brooklynie w stanie Nowy Jork. Zanim uzyskała stopień doktora, uczęszczała do Queens College na studia licencjackie. w języku angielskim na Uniwersytecie Minnesota w 1961 r. Gollin jest wybitnym emerytowanym profesorem języka angielskiego na Uniwersytecie Stanowym Nowego Jorku w Geneseo. Gollin zna życie i twórczość Nathaniela Hawthorne’a, o którym napisała kilka książek i wiele artykułów. Jej książka z 1979 r. „Nathaniel Hawthorne and the Truth of Dreams”, opublikowana przez Louisiana State University Press, jest stale włączana do bibliografii Hawthorne. Jej późniejsze publikacje dotyczyły studiów wizualno-tekstowych, koncentrując się na ikonografii portretu Hawthorne'a oraz biografii żony wydawcy Hawthorne'a, „Annie Adams Fields, Woman of Letters”. Gollin redagował także wydania naukowe najbardziej znanej powieści Hawthorne’a „Szkarłatna litera”. Jej nagrody i usługi obejmują granty NEH oraz przewodnictwo w Towarzystwie Nathaniela Hawthorne’a i Northeast MLA.\n",
      "Dokument [6]: Ann Hibbins (lub Hibbons; Hibbens) była kobietą straconą za czary w Bostonie w stanie Massachusetts 19 czerwca 1656 roku. Jej śmierć przez powieszenie była trzecią za czary w Bostonie i poprzedzała Procesy czarownic w Salem w 1692 r. Hibbins został później fabularyzowany w słynnej powieści Nathaniela Hawthorne’a „Szkarłatna litera”. Hibbins, zamożna wdowa, była szwagierką z małżeństwa z gubernatorem Massachusetts Richardem Bellinghamem. Jej wyrok został wydany przez gubernatora Johna Endicotta (pisanego również jako „Endecott”).\n",
      "Dokument [7]: Szkarłatna litera (niemiecki: Der Scharlachrote Buchstabe) to niemiecki film z 1973 roku wyreżyserowany przez Wima Wendersa. Jest to ekranizacja powieści Nathaniela Hawthorne’a „Szkarłatna litera”.\n",
      "Dokument [8]: Hester Prynne jest bohaterką powieści Nathaniela Hawthorne’a „Szkarłatna litera”. Przedstawiana jest jako kobieta potępiona przez purytańskich sąsiadów. Postać została nazwana „jedną z pierwszych i najważniejszych bohaterek literatury amerykańskiej”.\n",
      "Dokument [9]: In The Blood to sztuka napisana przez Suzan-Lori Parks, której premiera odbyła się w The Joseph Papp Public Theatre w 1999. Parks zapożyczył wiele aspektów ze „Szkarłatnej litery” Nathaniela Hawthorne’a i zapragnął stworzyć sztukę teatralną na podstawie powieści. Pierwotnie chciała nazwać sztukę „Fucking A”, ale porzuciła ten pomysł. Później napisała historię opartą na głównej bohaterce „Szkarłatnej litery” i przekształciła tę historię w bardziej współczesną epokę i zmieniła tytuł na „In The Blood”. Później napisała inną sztukę, zatytułowaną „Fucking A”.\n",
      "Dokument [10]: Posiadacz świata (1993) to powieść Bharati Mukherjee. Jest to opowieść o powieści Nathaniela Hawthorne’a z 1850 roku „Szkarłatna litera”, umieszczająca historię w dwóch wiekach (XVII i XX). Powieść dotyczy podróży w czasie za pośrednictwem rzeczywistości wirtualnej, lokując się w XX-wiecznym Bostonie, XVII-wiecznej Ameryce Kolonialnej i XVII-wiecznych Indiach w okresie rozprzestrzeniania się Brytyjskiej Kompanii Wschodnioindyjskiej. Nawiązuje także do powieści Thomasa Pynchona „V.”.\n",
      "Pytanie: Kim jest bohaterka powieści Nathaniela Hawthorne’a „Szkarłatna litera”, której inspiracją mogła być postać osadnika z kolonialnego Bostonu, który został postawiony przed sądem po śmierci swojego dziecka?\n",
      "\n",
      "Bohaterką powieści Nathaniela Hawthorne’a „Szkarłatna litera” jest Hester Prynne [8], dla której inspiracją mogła być Elizabeth Pain, osadniczka z kolonialnego Bostonu, postawiona przed sądem po śmierci swojego dziecka [4].\n",
      "\n",
      "\n",
      "Dokument [1]: Titus Erinle (urodzony 23 czerwca 1927) to nigeryjski sprinter. Brał udział w biegu na 100 metrów na Letnich Igrzyskach Olimpijskich 1952 i Letnich Igrzyskach Olimpijskich 1956. Erinle została wyeliminowana w eliminacjach Igrzysk Imperium Brytyjskiego i Wspólnoty Narodów w 1954 roku na dystansie 220 jardów.\n",
      "Dokument [2]: Margitta Gummel (z domu Helmbold, 29 czerwca 1941 r.) jest niemiecką byłą złotą medalistką olimpijską. Brała udział w reprezentacji Niemiec Wschodnich na Letnich Igrzyskach Olimpijskich 1964, NRD na Letnich Igrzyskach Olimpijskich 1968 i ponownie NRD na Letnich Igrzyskach Olimpijskich 1972. Od dawna rywalizowała z Nadieżdą Chiżową ze Związku Radzieckiego.\n",
      "Dokument [3]: Bieg przez płotki to bieganie i skakanie z dużą prędkością przez przeszkodę. Na początku XIX wieku płotki biegały i przeskakiwały każdą przeszkodę, lądując na obu stopach i sprawdzając ruch do przodu. Po eksperymentach z różnymi wzorami kroków zdecydowano się na 3-etapowy dla wysokich płotków, 7-etapowy dla niskich płotków i 15-etapowy dla pośrednich płotków. W sporcie lekkoatletycznym bieg przez płotki stanowi podstawę wielu zawodów lekkoatletycznych, które są wysoce wyspecjalizowaną formą wyścigów z przeszkodami. W takich wydarzeniach na dokładnie odmierzonych wysokościach i dystansach ustawia się szereg barier zwanych płotkami, które każdy sportowiec musi pokonać, przebiegając. Nieprzeskoczenie, przejście pod płotkiem lub celowe przewrócenie płotka będzie skutkować dyskwalifikacją.\n",
      "Dokument [4]: Czad wysłał delegację dwóch sportowców do rywalizacji na Letnich Igrzyskach Olimpijskich 2008 w Pekinie w Chinach: Moumi Sébergué, który startował w biegu na 100 metrów mężczyzn, i Hinikissia Albertine Ndikert, która startowała w biegu na 100 metrów kobiet, a podczas ceremonii nosiła flagę Czadu. Pojawienie się tej delegacji oznaczało dziesiąty występ Czadu na letnich igrzyskach olimpijskich, pierwszy miał miejsce w Letnich Igrzyskach Olimpijskich w 1964 r. w Tokio w Japonii i siódmy od czasu przerwy olimpijskiej w latach 1976–1980. Zarówno Sébergué, jak i Ndikert zajęli siódme miejsca w swoich eliminacjach i nie awansował poza rundę kwalifikacyjną. Pod koniec Igrzysk Olimpijskich w Londynie w 2012 r. nie było medalistów z Czadu.\n",
      "Dokument [5]: Peter Robeson (urodzony 21 października 1929) to brytyjski jeździec i medalista olimpijski. Zdobył brązowy medal w skokach przez przeszkody (zespołowe) na Letnich Igrzyskach Olimpijskich 1956 i brązowy medal w skokach indywidualnych na Letnich Igrzyskach Olimpijskich 1964 w Tokio. Wśród jego utalentowanych koni znajdowały się Craven A, Firecrest i Perkoz.\n",
      "Dokument [6]: Folu Erinle (ur. 29 stycznia 1940) to były nigeryjski biegacz przez płotki, który brał udział w Letnich Igrzyskach Olimpijskich 1964.\n",
      "Dokument [7]: Republika Konga po raz pierwszy wzięła udział w Igrzyskach Olimpijskich podczas Letnich Igrzysk Olimpijskich 1964 w Tokio, Japonia. Igrzyska odbywały się od 10 października 1964 do 24 października 1964. Delegacja Konga składała się z dwóch sportowców. Kongo nie otrzymało medali na Letnich Igrzyskach Olimpijskich 1964.\n",
      "Dokument [8]: Lubomír Nácovský (26 maja 1935 - 10 marca 1982 w Kralupach nad Vltavou) był czeskim strzelcem sportowym, który brał udział w Letnich Igrzyskach Olimpijskich 1964 i Letnich Igrzyskach Olimpijskich 1968. Zdobył brązowy medal w pistoletu szybkostrzelnym na Letnich Igrzyskach Olimpijskich 1964.\n",
      "Dokument [9]: Ion Tripşa (30 marca 1934 – 2001) był rumuńskim strzelcem sportowym, który brał udział w Letnich Igrzyskach Olimpijskich w 1964 r. i Letnich Igrzyskach Olimpijskich w 1972 r. Zdobył srebrny medal w konkurencji z pistoletu szybkostrzelnego na Letnich Igrzyskach Olimpijskich 1964.\n",
      "Dokument [10]: Rudolf Vesper (urodzony 3 kwietnia 1939) to były zapaśnik olimpijski reprezentujący NRD. Urodzony w Niehmen na Dolnym Śląsku Vesper startował w zjednoczonej drużynie Niemiec na Letnich Igrzyskach Olimpijskich 1964 w Tokio, a następnie w Niemczech Wschodnich w 1968 w Meksyku. Za każdym razem brał udział w męskiej dywizji półśredniej zawodów zapaśniczych grecko-rzymskich.\n",
      "Pytanie: Folu Erinle jest Nigeryjczykiem i byłym olimpijskim sportowcem, zajmującym się bieganiem i skakaniem z dużą prędkością przez przeszkody, który brał udział w Letnich Igrzyskach Olimpijskich w 1964 r.?\n",
      "\n",
      "Folu Erinle to były nigeryjski biegacz przez płotki, który brał udział w Letnich Igrzyskach Olimpijskich 1964 [6]. Bieg przez płotki to bieganie i przeskakiwanie przeszkód z dużą szybkością, stanowiące podstawę wielu zawodów lekkoatletycznych w lekkoatletyce [3]. W takich sytuacjach sportowcy muszą pokonywać płotki, przejeżdżając je, a niezastosowanie się do tego skutkuje dyskwalifikacją [3].\n",
      "\n",
      "\n",
      "Dokument [1]: I Am to piąty album studyjny heavymetalowego zespołu Becoming the Archetype. Album został nagrany między 21 maja a 17 czerwca i został wydany 18 września 2012 roku nakładem Solid State Records. Ten album stanowi odejście od poprzedniego albumu, jak mówi Seth Hecox: „Zniknęły sitary i rogi Celestial Completion. Zamiast tego stworzyliśmy album pełen najcięższych i najbardziej technicznych piosenek, jakie kiedykolwiek napisaliśmy”. Jest to pierwsze wydawnictwo zespołu, w którym występują Chris McCane na wokalu, Codey Watkins na basie i Chris Heaton na perkusji. Gitarzysta/wokalista Seth Hecox jest jedynym oryginalnym członkiem z debiutanckiego albumu zawartego na pierwszym promowanym singlu na albumie znalazła się piosenka „The Time Bender”, wydana 28 sierpnia 2012 roku, a także teledysk z tekstami i oficjalne wideo.\n",
      "Dokument [2]: Concrete and Gold to dziewiąty album studyjny amerykańskiego zespołu rockowego Foo Fighters. Został wydany 15 września 2017 r. Pierwszy singiel z albumu „Run” został wydany 1 czerwca 2017 r., a w następnym miesiącu znalazł się na szczycie amerykańskiej listy przebojów Mainstream Rock Songs „Billboard”. Drugi singiel „The Sky Is a Neighborhood” został wydany 23 sierpnia 2017 roku. Trzeci utwór, „The Line”, został wydany tydzień przed wydaniem albumu. Album zebrał pozytywne recenzje i w pierwszym tygodniu od premiery znalazł się na szczycie amerykańskiej listy „Billboard” 200 we wszystkich formatach, sprzedając się w 120 000 egzemplarzy.\n",
      "Dokument [3]: True Colours, piąty album wydany przez nowozelandzki zespół Split Enz, był ich pierwszym dużym sukcesem komercyjnym. Wydany w 1980 roku album zawierał bardziej dojrzałe utwory Neila Finna. Jego zasługą jest singiel z albumu „I Got You”, który zajął pierwsze miejsce na listach przebojów w Nowej Zelandii i Australii, a który także przebił ich na arenie międzynarodowej. Amerykańskie wydanie albumu zawierało „Shark Attack” i „I Got You” na odwróconych pozycjach ze względu na sukces tego ostatniego na listach przebojów.\n",
      "Dokument [4]: The Seer to trzeci album studyjny szkockiego zespołu Big Country, wydany w 1986 roku. Album zawierał bardzo tradycyjne szkockie oprawy muzyczne, przypominające debiutancki album zespołu „ Przeprawa” (1983). Kate Bush pracowała nad piosenką tytułową w duecie z wokalistą i autorem tekstów Stuartem Adamsonem. Pierwszy singiel z albumu „Look Away” był numerem jeden w Irlandii, a także największym hitem grupy w Wielkiej Brytanii, osiągając 7. miejsce.\n",
      "Dokument [5]: Twenty to dziesiąty album studyjny amerykańskiej grupy R&B Boyz II Men. Album został wydany w Stanach Zjednoczonych 25 października 2011 roku. Pierwszym singlem był „More Than You'll Ever Know” z udziałem Charliego Wilsona. We wrześniu 2011 r. singiel był najczęściej dodawanym utworem do setów radiowych w miejskich stacjach radiowych dla dorosłych. Album zawierał 13 nowych utworów materiałowych i dziewięć ponownie nagranych klasyków Boyz II Men. Został wyprodukowany Tim & Bob, Babyface, Jimmy Jam i Terry Lewis oraz Teddy Riley. Album zadebiutował na 20. miejscu listy „Billboard” 200, sprzedając się w 18 400 egzemplarzach w pierwszym tygodniu.\n",
      "Dokument [6]: Biyahe ng Pangarap (dosł. Journey of Dreams) to pierwszy album koncertowy i DVD filipińskiego rapera Gloc-9, pierwotnie wydany 9 listopada 2014 roku. Album zawierał utwory z jego poprzednie albumy (6 utworów), Liham at Lihim (5 utworów) i Talumpati (1 utwór). Album zawiera także jeden dodatkowy utwór (nagrany w studiu) zatytułowany „Businessman” z byłym wokalistą Parokya Ni Edgar, Vincim Montanerem, zaaranżowany przez Jazz Nicholas z Itchyworms, który jest również pierwszym singlem z albumu.\n",
      "Dokument [7]: Juanes: MTV Unplugged to trzeci album koncertowy kolumbijskiego piosenkarza Juanesa. Został nagrany przed publicznością na żywo w New World Symphony Center w Miami Beach na Florydzie 1 lutego 2012 r. i wydany przez Universal Music Latino 29 maja 2012 r. Album zawiera występy hiszpańskiego kompozytora Joaquína Sabiny i brazylijska piosenkarka Paula Fernandes. Album zawiera przearanżowane wersje hitów Juanesa, takich jak „Me Enamora”, La Camisa Negra i „A Dios le Pido”. Pierwszy singiel z albumu koncertowego został wydany 5 marca 2012 roku pod tytułem La Señal, który stał się hitem w Ameryce Łacińskiej. Drugim singlem był „Me Enamora” z nowymi aranżacjami instrumentalnymi i został wydany dwa dni po wydaniu albumu. Album zawierał trzy nowe piosenki, z których jedna powstała we współpracy z Joaquínem Sabiną. Album zadebiutował na pierwszym miejscu listy przebojów Billboard Top Latin Albums Chart i zdobył nagrodę Latin Grammy w kategorii Album Roku 2012. To już trzeci raz, kiedy zdobył Album Roku na gali Latin Grammy.\n",
      "Dokument [8]: Covert Coup to album studyjny powstały we współpracy rapera Curren$y i producenta The Alchemist. Na albumie gościnnie wystąpili raperzy Prodigy z Mobb Deep, Freddie Gibbs, Smoke DZA i Fiend i zawiera 10 piosenek. „Covert Coup” powstał jako detaliczna EPka. Później artyści postanowili wydać go jako darmowy album cyfrowy. Nadal jednak traktowano go jako składankę, ponieważ rozdano go za darmo. 7 kwietnia 2011 roku do Internetu wyciekł pierwszy singiel z albumu „Covert Coup” zatytułowany „Ventilation”. „Full Metal” wyciekł 12 kwietnia. 15 kwietnia wyciekł trzeci singiel zatytułowany „Scottie Pippen” z udziałem Freddiego Gibbsa. Album został wydany przez Curren$y 20 kwietnia 2011 roku za pośrednictwem jego Twittera.\n",
      "Dokument [9]: „Run” to piosenka amerykańskiego zespołu rockowego Foo Fighters. Został wydany jako singiel 1 czerwca 2017 roku i pochodzi z dziewiątego studyjnego albumu „Concrete and Gold”. Piosenka znalazła się na szczycie amerykańskiej listy przebojów „Billboard” Mainstream Rock Songs w lipcu 2017 r.\n",
      "Dokument [10]: „The Pretender” to piosenka amerykańskiego zespołu Foo Fighters, grającego rock alternatywny. Był to pierwszy singiel z albumu grupy z 2007 roku „Echoes, Silence, Patience & Grace”. Jest to jedna z najbardziej udanych piosenek Foo Fighters; osiągając 37. miejsce na amerykańskiej liście przebojów „Billboard” Hot 100 (co czyni go trzecim singlem z listy Top 40), jedynie „Learn to Fly” i „Best of You” pobiły swoją pozycję na liście „Billboard” Hot 100.\n",
      "Pytanie: Który album Foo Fighter zawierał „RUN” jako swój pierwszy singiel?\n",
      "\n",
      "Album Foo Fighters, którego pierwszym singlem był utwór „Run”, to „Concrete and Gold”, wydany 15 września 2017 roku [2][9].\n",
      "\n",
      "\n",
      "Dokument [1]: Arthur Middleton Manigault (26 października 1824 - 17 sierpnia 1886) był generałem brygady w Armii Stanów Skonfederowanych podczas wojny secesyjnej.\n",
      "Dokument [2]: Odbicie: Legenda o Earlu „Kozie” Manigault\n",
      "Dokument [3]: Charles Manigault Morris (7 maja 1820 – 22 marca 1895) był oficerem Marynarki Wojennej Stanów Zjednoczonych, a później Marynarki Wojennej Stanów Konfederacji. Był synem pułkownika Lewisa V. Morrisa z Nowego Jorku i jego żony Elizabeth Manigault z Karoliny Południowej. Jest prawnukiem Lewisa Morrisa i Ralpha Izarda.\n",
      "Dokument [4]: Mary Jane Manigault (1913 - 8 listopada 2010) była wytwórcą koszyków z trawy cukrowej z Mount Pleasant w Południowej Karolinie. W 1984 Manigault otrzymał stypendium National Endowment for the Arts National Heritage Fellowship. Mary Jane Manigault zaczęła tkać kosze ze słodką wodą w młodym wieku, a tradycję kontynuują jej dzieci i wnuki. Sztuka tkania koszyków ze słodką wodą jest ważną tradycją w kulturze Gullah i jest wybitną praktyką w społecznościach sprowadzonych do Stanów Zjednoczonych jako pierwsi niewolnicy.\n",
      "Dokument [5]: The Celebrity Apprentice 6 (znany również jako All-Star Celebrity Apprentice lub The Apprentice 13) to szósta część reality show „Celebrity Apprentice”, który Premiera odbyła się w niedzielę, 3 marca 2013 r. W tym sezonie obsada to sławna obsada „All-Star”, która przyciąga wielu ulubieńców fanów do bezpośredniej rywalizacji. W obsadzie jest ośmiu mężczyzn i sześć kobiet. Brande Roderick, Claudia Jordan, Dennis Rodman, La Toya Jackson, Lil Jon, Omarosa Manigault i jedyny poprzedni zwycięzca, Bret Michaels utworzyli zespół Power, a zespół Plan B utworzyli Dee Snider, Gary Busey, Lisa Rinna, Marilu Henner, Penn Jillette , Stephena Baldwina i Trace’a Adkinsa. Oznaczało to trzeci występ Omarosy w „The Apprentice”, więcej niż jakikolwiek inny uczestnik. Jako jurorzy gościnnie występują także byli zwycięzcy Joan Rivers, Piers Morgan, Arsenio Hall i John Rich, a także były sędzia George Ross, a także Ivanka Trump, Eric Trump i Donald Trump Jr. W tym sezonie wprowadzono także nagrodę Social Boardroom MVP . Widzowie na Twitterze wybierali celebrytę, który ich zdaniem najlepiej poradził sobie z zadaniem. Gwiazda, która otrzymała najwięcej głosów, wygrała dodatkowe pieniądze na swój cel charytatywny. Premiera tego sezonu odbyła się 3 marca 2013 roku.\n",
      "Dokument [6]: Earl Manigault (7 września 1944 - 15 maja 1998) był amerykańskim koszykarzem ulicznym, nazywanym „Kozą”.\n",
      "Dokument [7]: Omarosé Onée Manigault-Newman (; ur. 5 lutego 1974), często znany i określany po prostu jako Omarosa, jest amerykańskim doradcą politycznym w Białym Domu. Jest dyrektorem ds. komunikacji w Biurze Łączności Publicznej w administracji Trumpa. Urodzona i wychowana w Youngstown w stanie Ohio Omarosa uzyskała tytuł licencjata w dziedzinie dziennikarstwa telewizyjnego na Central State University.\n",
      "Dokument [8]: Garden & Gun to magazyn poświęcony kulturze sportowej, jedzeniu, muzyce, sztuce i podróżom po południowych Stanach Zjednoczonych. Została stworzona przez Pierre'a Manigaulta i Johna Wilsona w 2004 r. i wydana w 2007 r. wraz z wydawcą Rebeccą Darwin (byłą wydawcą „The New Yorker” i „Mirabella”) w ramach Evening Post Publishing Company. Magazyn zdobył trzy nagrody ADDY i osiem nagród Magazine Association of the Southeast GAMMA w pierwszym roku swojego istnienia, a jednocześnie został uznany przez „MIN Magazine” za drugi najgorętszy magazyn wydawany w kraju w 2007 roku.\n",
      "Dokument [9]: Dom Josepha Manigaulta to historyczny dom-muzeum przy 350 Meeting Street w Charleston w Południowej Karolinie, którego właścicielem i operatorem jest Muzeum Charleston. Zbudowany w 1803 roku, został zaprojektowany przez Gabriela Manigaulta jako dom jego brata i ma znaczenie w całym kraju jako dobrze wykonany i zachowany przykład architektury w stylu Adama. Został uznany za narodowy zabytek historyczny w 1973 roku.\n",
      "Dokument [10]: Gabriel Manigault (17 marca 1758 - 4 listopada 1809) był amerykańskim architektem. Urodził się w Charleston w Południowej Karolinie, studiował w Genewie, Szwajcarii i Londynie, a po wojnie o niepodległość Stanów Zjednoczonych wrócił do Charleston. Zmarł w Filadelfii w Pensylwanii. Jego pradziadkiem był Pierre Manigault (1664-1729), francuski hugenot, który urodził się w La Rochelle we Francji i osiadł w Charleston. Jego ojcem był Peter Manigault (1731-1773), w 1770 roku najbogatszy człowiek w Brytyjskiej Ameryce Północnej.\n",
      "Pytanie: kim jest Omarosa Manigault\n",
      "\n",
      "Omarosa Manigault to amerykański doradca polityczny w Białym Domu, pełniący funkcję dyrektora ds. komunikacji w Biurze Łączności Publicznej w administracji Trumpa [7]. Urodziła się 5 lutego 1974 roku w Youngstown w stanie Ohio i uzyskała tytuł licencjata w dziedzinie dziennikarstwa telewizyjnego na Central State University [7]. Omarosa pojawiła się także w reality show „The Apprentice” i wystąpiła w nim wielokrotnie, więcej niż jakikolwiek inny uczestnik [5].\n",
      "\n",
      "\n",
      "Dokument [1]: Piramidion (liczba mnoga piramidia) to najwyższy element lub zwieńczenie egipskiej piramidy lub obelisku, w żargonie archeologicznym. W języku starożytnego Egiptu nazywano je „benbenet”, co kojarzyło piramidę jako całość ze świętym kamieniem beben. W czasach Starego Państwa w Egipcie piramidy były zwykle wykonane z diorytu, granitu lub drobnego wapienia, które następnie pokrywano złotem lub elektrum; w okresie Średniego Państwa i do końca ery budowania piramid budowano je z granitu. Piramidion został „pokryty złotem, aby odbijać promienie słońca”; w egipskim Państwie Środka często „oznaczano je tytułami królewskimi i symbolami religijnymi”.\n",
      "Dokument [2]: Ameny był wezyrem starożytnego Egiptu pod rządami króla Państwa Środka Amenemhata II, około 1900 roku p.n.e., w XII dynastii. Ameny widnieje na fragmencie kamienia kronikowego króla. Fragment odnaleziony przez Flindersa Petrie w Memphis zawiera wzmiankę o posągu tego wezyra. Być może Ameny jest również znany ze stołu ofiarnego. Jednak nazwa Ameny należy do najpowszechniejszych imion Państwa Środka. Dlatego tożsamość obu osób znajdujących się na tych obiektach nie jest pewna.\n",
      "Dokument [3]: Znaleziono kamienne odważniki ze Starego Państwa o wadze około 13,6 grama. Podobne odważniki z Państwa Środka odkryto w Liszt. Z Państwa Środka pochodzą także jednostki masy „deben” używane do oznaczania metali, zwane debenem miedzianym i debenem złotym, przy czym ten pierwszy był około dwukrotnie cięższy (ok. 23,7 grama) od drugiego.\n",
      "Dokument [4]: Papillon (] , „motyl [-uchy]””), zwany także Continental Toy Spaniel, to rasa psa w typie spaniela. Jeden z najstarszych spanieli zabawkowych. Swoją nazwę zawdzięcza charakterystycznemu wyglądowi przypominającemu motyla, długim włosom na uszach, przy czym francuskie słowo oznaczające „motyl” to „papillon”. Papillon z opuszczonymi uszami nazywany jest Phalène (po francusku „ćma”). Mała głowa jest lekko zaokrąglona pomiędzy uszami, z wyraźnie zaznaczonym stopem. Kufa jest nieco krótka, cienka, zwężająca się ku nosowi. Ciemne, średniej wielkości, okrągłe oczy mają cienkie czarne obwódki, często sięgające na styku powiek w stronę uszu. Duże uszy mogą być stojące lub opadające z zaokrąglonymi końcami. Zęby spotykają się w zgryzie nożycowym. Długi ogon jest wysoko osadzony, noszony nad tułowiem i pokryty długimi, delikatnymi włosami. Czasami usuwa się wilcze pazury. Prosta, długa, delikatna, pojedyncza szata ma dodatkową falbankę na klatce piersiowej, uszach, tylnej części nóg i ogonie. Kolor sierści jest biały z łatami dowolnego koloru. Maska w kolorze innym niż biały zakrywa uszy i oczy od tyłu do przodu.\n",
      "Dokument [5]: A Film Unfinished (hebr. tytuł: „שתיקת הארכיון” „Shtikat haArkhion”, niemiecki tytuł: „Geheimsache Ghettofilm”) to film dokumentalny z 2010 roku w reżyserii Yaela Hersonskiego, który ponownie analizuje nakręcenie niedokończonego niemieckiego filmu propagandowego z 1942 r. (pod tytułem „Das Ghetto”, „Getto”) przedstawiającego getto warszawskie na dwa miesiące przed masową eksterminacją jego mieszkańców w ramach niemieckiej operacji zwanej Grossaktion Warszawa. Dokument zawiera wywiady z ocalałymi mieszkańcami getta oraz rekonstrukcję zeznań Willy'ego Wista, jednego z operatorów kamery, którzy kręcili sceny do „Das Ghetto”. Film miał swoją premierę na Festiwalu Filmowym w Sundance w 2010 roku, gdzie zdobył „Nagrodę za montaż filmów dokumentalnych kina światowego”. Na festiwalu Hot Docs w Toronto film zdobył nagrodę dla najlepszego filmu międzynarodowego. Film trafił do kin w USA 18 sierpnia 2010 roku.\n",
      "Dokument [6]: Harageh (także el-Harageh lub Haraga) to nowoczesna wioska w Egipcie przy wejściu do rzecznej oazy Fajum, niedaleko El-Lahun. W archeologii Harageh jest znane głównie z szeregu cmentarzy pochodzących z kilku okresów historii Egiptu. Reginald Engelbach odkopał te cmentarze w 1913 roku. Cmentarze pochodzą z okresu Nagada, pierwszego okresu przejściowego, późnego Państwa Środka i Nowego Państwa, odkryto także kilka stel koptyjskich. Szczególnie pochówki późnego Państwa Środka należały do ​​osób zamożnych. Być może pochowano tu mieszkańców El-Lahun. Engelbach znalazł stele, trumny z inskrypcjami, skrzynie i dzbany na kanopy oraz wiele posągów.\n",
      "Dokument [7]: Rifeh lub Deir Rifeh (znany również jako Rifa) to wieś w Egipcie. Nazwa nawiązuje dziś najczęściej do szeregu pobliskich cmentarzy starożytnego Egiptu. Są to cmentarzyska starożytnego miasta Shashotep. Cmentarze datowane są na okres od końca I okresu przejściowego do okresu rzymskiego. Szczególnie ważne są pochówki Państwa Środka. W tym okresie Shashotep był stolicą 11. prowincji Górnego Egiptu. W skalistych wzgórzach wykuto kilka zdobionych grobowców wykutych w skale. Należą do ówczesnych wójtów. Nacht-Chnum i Nefer-Chnum to dwa, których imiona przetrwały. Przed tymi grobowcami znajdowały się pochówki niższych urzędników, którzy pracowali dla tych lokalnych namiestników. Jednym z nich jest Grób Dwóch Braci, który odkryto w nienaruszonym stanie i nadal zawierał szereg ważnych artefaktów. Dalej i bliżej Nilu znajdowały się pochówki pospolitszych ludzi. Typowe dla wielu z tych pochówków, datowanych na model glinianych domów z Państwa Środka, niegdyś umieszczanych na szczycie pochówku. W egiptologii nazywane są „domami duszy”. Dalsze pochówki pochodzą z Drugiego Okresu Przejściowego i Nowego Państwa, kiedy Szashotep nie był już stolicą prowincji.\n",
      "Dokument [8]: Round Eyes in the Middle Kingdom to film dokumentalny z 1995 roku wyreżyserowany przez Ronalda Levaco, amerykańskiego reżysera, który udał się z powrotem do Chin, kraju jego dziecięcych lat, aby odkryć, co stało się starego przyjaciela jego rodziny, Israela Epsteina.\n",
      "Dokument [9]: Maaibre Sheshi (także Sheshy) był władcą obszarów Egiptu w Drugim Okresie Przejściowym. Dynastia, pozycja chronologiczna, czas trwania i zakres jego panowania są niepewne i podlegają ciągłej debacie. Trudność identyfikacji odzwierciedlają problemy w ustaleniu wydarzeń od schyłku Państwa Środka do przybycia Hyksosów do Egiptu. Niemniej jednak Szeszi jest, pod względem liczby przypisywanych mu artefaktów, najlepiej poświadczonym królem okresu obejmującego koniec Państwa Środka i drugi okres przejściowy; mniej więcej od ok. 1800 p.n.e. do 1550 p.n.e. Setki fok skaraboidów noszących jego imię znaleziono w Kanaanie, Egipcie, Nubii i aż do Kartaginy, gdzie niektóre z nich były nadal w użyciu 1500 lat po jego śmierci.\n",
      "Dokument [10]: Środkowe Królestwo Egiptu (znane również jako Okres Zjednoczenia) to okres w historii starożytnego Egiptu pomiędzy około 2050 p.n.e. a 1800 p.n.e., rozciągający się od zjednoczenia Egiptu pod wpływem Mentuhotepa II z XI dynastii do końca XII dynastii. Niektórzy uczeni włączają także w całości do tego okresu trzynastą dynastię egipską, w którym to przypadku Państwo Środka zakończy się ok. 1650, podczas gdy inne uwzględniają go tylko do Merneferre Ay c. 1700 p.n.e., ostatni król tej dynastii poświadczony zarówno w Górnym, jak i Dolnym Egipcie. W okresie Państwa Środka Ozyrys stał się najważniejszym bóstwem religii popularnej.\n",
      "Pytanie: Jakiego rodzaju filmami są zarówno Film niedokończony, jak i Okrągłe oczy w Państwie Środka?\n",
      "\n",
      "Zarówno Film niedokończony, jak i Okrągłe oczy w Państwie Środka są filmami dokumentalnymi [5][8].\n",
      "\n",
      "\n",
      "Dokument [1]: Drużyna piłkarska Michigan Agricultural Aggies z 1917 r. reprezentowała Michigan Agricultural College (MAC) w sezonie futbolu uniwersyteckiego 1917. W dziewiątym roku nie z rzędu pod okiem głównego trenera Chestera Brewera (Brewer wcześniej trenował Aggies od 1903 do 1910), Aggies ustanowili rekord 0–9 i zostali pokonani przez swoich przeciwników 179 do 23.\n",
      "Dokument [2]: Drużyna piłkarska Michigan Agricultural Aggies z 1899 r. reprezentowała Michigan Agricultural College (MAC) w sezonie futbolu uniwersyteckiego 1899. W pierwszym roku pracy pod okiem głównego trenera Charlesa Bemiesa Aggies ustanowili rekord 2–4–1 i pokonali swoich przeciwników 142 do 127. Bemies był pierwszym zawodowym trenerem, który prowadził drużynę piłkarską MAC. W trzecim meczu piłkarskiej rywalizacji stanu Michigan – Notre Dame Notre Dame wygrała mecz w South Bend w stanie Indiana wynikiem 40 do 0, a kapitan Notre Dame McDonald zdobył pięć przyłożeń.\n",
      "Dokument [3]: Drużyna piłkarska Michigan Agricultural Aggies z 1905 r. reprezentowała Michigan Agricultural College (MAC) w sezonie futbolu uniwersyteckiego 1905. Podczas trzeciego roku gry pod okiem głównego trenera Chestera Brewera Aggies ustanowili rekord 10–2 i pokonali swoich przeciwników 349 do 75.\n",
      "Dokument [4]: Chester Leland Brewer (26 listopada 1875 - 16 kwietnia 1953) był trenerem futbolu amerykańskiego, koszykówki, baseballu, lekkoatletyki i dyrektorem sportowym. Pełnił funkcję głównego trenera piłki nożnej w Albion College (1899–1902), Michigan Agricultural College, obecnie Michigan State University (1903–1910, 1917, 1919), University of Missouri (1911–1913) i University Farm, obecnie Uniwersytet Kalifornijski w Davis (1922), zestawiając rekord kariery wynoszący 97–51–4. Brewer był także głównym trenerem koszykówki w Michigan Agricultural (1903–1910), Missouri (1910–1911) i University Farm (1922–1923), uzyskując wynik 84–36, oraz głównym trenerem baseballu w Michigan Agricultural (1904). –1910, 1918–1920) i Missouri (1911, 1914–1917, 1933–1934), gromadząc rekord 148–93–4.\n",
      "Dokument [5]: Drużyna piłkarska Michigan Agricultural Aggies z 1920 r. reprezentowała Michigan Agricultural College (MAC) w sezonie futbolu uniwersyteckiego 1920. W pierwszym i jedynym roku pod okiem głównego trenera Potsy Clarka drużyna Aggies ustanowiła rekord 4–6 i pokonała swoich przeciwników 270 do 166, w tym zwycięstwo 109 do 0 nad Olivet College 30 października 1920 r.\n",
      "Dokument [6]: Drużyna piłkarska Michigan Agricultural Aggies z 1919 r. reprezentowała Michigan Agricultural College (MAC) w sezonie futbolu uniwersyteckiego 1919. W dziesiątym roku bez rzędu pod okiem głównego trenera Chestera Brewera (Brewer wcześniej trenował Aggies od 1903 do 1910 oraz w 1917), Aggies ustanowili rekord 4–4–1 i pokonali swoich przeciwników 132 do 99.\n",
      "Dokument [7]: Drużyna piłkarska Michigan Agricultural Aggies z 1913 r. reprezentowała Michigan Agricultural College (MAC) w sezonie futbolu uniwersyteckiego 1913. Podczas trzeciego roku gry pod okiem głównego trenera Johna Macklina Aggies ustanowili rekord 7–0 i pokonali swoich przeciwników 180 do 28.\n",
      "Dokument [8]: Drużyna piłkarska Michigan Agricultural Aggies z 1924 r. reprezentowała Michigan Agricultural College (MAC) w sezonie futbolu uniwersyteckiego 1924. Podczas drugiego roku gry pod okiem głównego trenera Ralpha H. Younga Aggies ustanowili rekord 5–3 i pokonali swoich przeciwników 210 do 48.\n",
      "Dokument [9]: Drużyna piłkarska Michigan Agricultural Aggies z 1904 r. reprezentowała Michigan Agricultural College (MAC) w sezonie futbolu uniwersyteckiego 1904. Podczas drugiego roku gry pod okiem głównego trenera Chestera Brewera Aggies ustanowili rekord 8: 1 i pokonali swoich przeciwników 380 do 16, w tym 104 do 0 zwycięstwa nad Hillsdale College.\n",
      "Dokument [10]: Drużyna piłkarska Michigan Agricultural Aggies z 1896 r. reprezentowała Michigan Agricultural College (MAC) w sezonie futbolu uniwersyteckiego 1896. The Aggies ustanowili rekord 1–2–1. Chociaż drużyny reprezentujące MAC rozegrały dwa mecze z pobliskim Alma College dziesięć lat wcześniej, w 1886 r., sezon 1896 był pierwszym, w którym MAC wystawił uniwersytecką drużynę piłkarską na cały sezon gry.\n",
      "Pytanie: Drużyna piłkarska Michigan Agricultural Aggies z 1905 r. reprezentowała Michigan Agricultural College (MAC) w sezonie futbolu uniwersyteckiego w 1905 r., na trzecim roku swojej kariery była głównym trenerem i była trenerem futbolu amerykańskiego, koszykówki, baseballu i lekkoatletyki i dyrektor sportowy?\n",
      "\n",
      "Drużynę piłkarską Michigan Agricultural Aggies z 1905 roku trenował Chester Leland Brewer [4]. Brewer był trenerem futbolu amerykańskiego, koszykówki, baseballu, lekkoatletyki i dyrektorem sportowym [4]. W 1905 roku Aggies osiągnęli udany rekord 10–2 pod przywództwem Brewera, pokonując swoich przeciwników 349 do 75 [3].\n",
      "\n",
      "\n"
     ]
    }
   ],
   "source": [
    "print_random(without_title_pl, 10)"
   ]
  },
  {
   "cell_type": "code",
   "execution_count": 12,
   "metadata": {},
   "outputs": [
    {
     "name": "stderr",
     "output_type": "stream",
     "text": [
      "Saving the dataset (1/1 shards): 100%|██████████| 10301/10301 [00:00<00:00, 143701.80 examples/s]\n",
      "Saving the dataset (1/1 shards): 100%|██████████| 159/159 [00:00<00:00, 17493.23 examples/s]\n",
      "Creating parquet from Arrow format: 100%|██████████| 11/11 [00:00<00:00, 40.96ba/s]\n",
      "Uploading the dataset shards: 100%|██████████| 1/1 [00:02<00:00,  2.14s/it]\n",
      "Creating parquet from Arrow format: 100%|██████████| 1/1 [00:00<00:00, 98.85ba/s]\n",
      "Uploading the dataset shards: 100%|██████████| 1/1 [00:00<00:00,  1.55it/s]\n"
     ]
    },
    {
     "data": {
      "text/plain": [
       "CommitInfo(commit_url='https://huggingface.co/datasets/tdolega/rag-tge_finetuning-dataset_pl/commit/1b45821342e74067885868e98315374db694429e', commit_message='Upload dataset', commit_description='', oid='1b45821342e74067885868e98315374db694429e', pr_url=None, pr_revision=None, pr_num=None)"
      ]
     },
     "execution_count": 12,
     "metadata": {},
     "output_type": "execute_result"
    }
   ],
   "source": [
    "final_ds = without_title_pl\n",
    "final_ds.save_to_disk(DS_SAVE_PATH + \"-pl\" + \"-v2\")\n",
    "final_ds.push_to_hub(DS_UPLOAD_PATH + \"_pl\")"
   ]
  }
 ],
 "metadata": {
  "kernelspec": {
   "display_name": "p311",
   "language": "python",
   "name": "python3"
  },
  "language_info": {
   "codemirror_mode": {
    "name": "ipython",
    "version": 3
   },
   "file_extension": ".py",
   "mimetype": "text/x-python",
   "name": "python",
   "nbconvert_exporter": "python",
   "pygments_lexer": "ipython3",
   "version": "3.11.9"
  }
 },
 "nbformat": 4,
 "nbformat_minor": 2
}
