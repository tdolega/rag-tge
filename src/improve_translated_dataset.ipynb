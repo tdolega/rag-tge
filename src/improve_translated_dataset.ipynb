{
 "cells": [
  {
   "cell_type": "code",
   "execution_count": 1,
   "metadata": {},
   "outputs": [
    {
     "name": "stderr",
     "output_type": "stream",
     "text": [
      "/home/tdolega/miniconda/envs/p311/lib/python3.11/site-packages/tqdm/auto.py:21: TqdmWarning: IProgress not found. Please update jupyter and ipywidgets. See https://ipywidgets.readthedocs.io/en/stable/user_install.html\n",
      "  from .autonotebook import tqdm as notebook_tqdm\n"
     ]
    }
   ],
   "source": [
    "import datasets\n",
    "import random\n",
    "import re\n",
    "\n",
    "from common.utils import get_refs\n",
    "from common.consts import DS_UPLOAD_PATH, DS_SAVE_PATH"
   ]
  },
  {
   "cell_type": "code",
   "execution_count": 2,
   "metadata": {},
   "outputs": [
    {
     "data": {
      "text/plain": [
       "DatasetDict({\n",
       "    train: Dataset({\n",
       "        features: ['prompt', 'answer'],\n",
       "        num_rows: 8348\n",
       "    })\n",
       "    test: Dataset({\n",
       "        features: ['prompt', 'answer'],\n",
       "        num_rows: 128\n",
       "    })\n",
       "})"
      ]
     },
     "execution_count": 2,
     "metadata": {},
     "output_type": "execute_result"
    }
   ],
   "source": [
    "original = datasets.load_dataset(DS_UPLOAD_PATH)\n",
    "translation = datasets.load_from_disk(DS_SAVE_PATH + \"-pl\")\n",
    "translation"
   ]
  },
  {
   "cell_type": "code",
   "execution_count": 3,
   "metadata": {},
   "outputs": [
    {
     "name": "stdout",
     "output_type": "stream",
     "text": [
      "Dokument [1](Tytuł: David Lloyd (nadawca)): David Lloyd jest angielskim prezenterem radiowym i byłym dyrektorem radiowym,\n",
      "Dokument [2](Tytuł: Gary King (radio)): Gary King (ur. 4 sierpnia 1963) to angielski prezenter radiowy, który pracował dla Magic 105.4 Capital FM, BBC Radio 1 i Jazz FM (Wielka Brytania). Był pierwszym prezenterem na Atlantyku 252, uruchamiając stację w dniu 1 września 1989 r.\n",
      "Dokument [3](Tytuł: Alan Robson): Alan Robson MBE (urodzony 1 października 1955) to angielski prezenter radiowy, który prowadzi szeroko słuchany talk show „Alan Robson's Night Owls” w Metro Radio i TFM Radio w północno-wschodniej Anglii. Twierdzi, że w listopadzie 2000 roku uzyskał tytuł magistra egzorcyzmu i spirytualizmu na Birkbeck na Uniwersytecie Londyńskim.\n",
      "Dokument [4](Tytuł: Simon Mayo): Simon Andrew Hicks Mayo (urodzony 21 września 1958) to angielski prezenter radiowy, który pracuje dla BBC Radio od 1981. Mayo jest prezenterem „Simon Mayo Drivetime” w BBC Radio 2, które robi to od 2010 r. wraz z Markiem Kermode, prezenterem „Kermode and Mayo's Film Review” w BBC Radio 5 Live.\n",
      "Dokument [5](Tytuł: We All Stand Together): „We All Stand Together” (czasami określany jako Frog Song lub Frog Chorus) to piosenka Paula McCartneya i Frog Chorus.\n",
      "Dokument [6](Tytuł: Mark Page): Mark Page (urodzony w Middlesbrough) jest angielskim prezenterem i spikerem radiowym. W latach 1983-1986 był prezenterem wczesno-weekendowego programu śniadaniowego BBC Radio 1.\n",
      "Dokument [7](Tytuł: Andy Archer (prezenter radiowy)): Andy Archer (ur. Anthony Andrew Dawson) to angielski prezenter radiowy, najbardziej znany ze swojej pracy w pirackich stacjach radiowych w Wielkiej Brytanii w latach sześćdziesiątych i siedemdziesiątych XX wieku. Później pracował dla Niezależnego Radia Lokalnego i Radia Lokalnego BBC.\n",
      "Dokument [8](Tytuł: Jo Russell): Jo Russell jest angielską prezenterką radiową, obecnie pracującą dla Free Radio i Gem 106.\n",
      "Dokument [9](Tytuł: Brian Kay): Brian Christopher Kay (urodzony 12 maja 1944) to angielski prezenter radiowy, dyrygent i piosenkarz. Jest dobrze znany jako bas w King's Singers w latach powstawania grupy od 1968 do 1982 i jako taki można go usłyszeć na wielu jej nagraniach LP z lat 70. Był także głosem Papageno w filmie „Amadeus” i najniższą żabą w piosence Paula McCartneya „We All Stand Together” (The Frog's Chorus).\n",
      "Dokument [10](Tytuł: Rupert i żaba piosenka): Rupert i żaba pieśń to film animowany z 1984 roku oparty na postaci z komiksu Rupert Bear, napisany i wyprodukowany przez Paula McCartneya i wyreżyserowany przez Geoffa Dunbara. Zdjęcia do filmu „Rupert and the Frog Song” rozpoczęły się w 1981 r., a zakończyły w 1983 r. Film trafił do kin jako dodatek do pełnometrażowego filmu McCartneya „Pozdrawiam Broad Street”. Piosenka „We All Stand Together” ze ścieżki dźwiękowej filmu osiągnęła 3. miejsce po wydaniu na brytyjskiej liście przebojów singli. Został wydany w 2004 roku jako jeden z segmentów „”.\n",
      "Pytanie: Brian Christopher Kay jest angielskim prezenterem radiowym, dyrygentem i piosenkarzem, a także był najniższą żabą w piosence kogo? We All Stand Together?\n",
      "\n",
      "Brian Christopher Kay, angielski prezenter radiowy, dyrygent i piosenkarz, był najniższą żabą w piosence „We All Stand Together”, napisanej i wyprodukowanej przez Paula McCartneya [9] [5].\n",
      "\n",
      "\n",
      "Dokument [1](Tytuł: Alicia Sacramone): Alicia Marie Quinn (z domu Sacramone) (; ur. 3 grudnia 1987) jest emerytowaną amerykańską gimnastyczką artystyczną. Zdobyła srebrny medal z reprezentacją Stanów Zjednoczonych na Letnich Igrzyskach Olimpijskich 2008 i jest drugą najbardziej utytułowaną amerykańską gimnastyczką w historii Mistrzostw Świata (z dziesięcioma medalami).\n",
      "Dokument [2](Tytuł: Len Saunders): Len Saunders jest nauczycielem wychowania fizycznego i propagatorem sprawności fizycznej w dzieciństwie. Znany jest z stworzenia Projektu ACES, dnia, w którym dzieci na całym świecie ćwiczą jednocześnie pierwszego dnia maja. Stworzył nowy program o nazwie PACES Day, który motywuje rodziców i dzieci do wspólnych ćwiczeń w weekendy. W 2009 roku Len stworzył nowy program o nazwie Ćwiczenia US (Stany Zjednoczone), który motywował dzieci w Stanach Zjednoczonych do ćwiczeń przez 10 nieprzerwanych godzin, zaczynając od wschodniego wybrzeża Stanów Zjednoczonych i kończąc 10 godzin później na zachodnim wybrzeżu. Saunders jest także autorką 7 książek, wszystkie na temat zdrowia i kondycji dzieci. W lutym 2017 roku ukazała się jego najnowsza książka zatytułowana „I Can Do That”. Saunders obecnie pracuje jako PE. nauczyciel w szkole podstawowej Valley View w Montville w stanie New Jersey. Valley View była pierwszą szkołą, która wzięła udział w Projekcie ACES]. Day i nadal uczestniczy w nim co roku. Pełnił funkcję konsultanta Prezydenckiej Rady ds. Sprawności Fizycznej i Sportu. Ostatnio został rzecznikiem ekspertów American Heart Association zajmującym się problemem otyłości u dzieci i sprawności fizycznej u dzieci.\n",
      "Dokument [3](Tytuł: Roland Brückner): Roland Brückner (ur. 14 grudnia 1955) jest emerytowaną niemiecką gimnastyczką. Brał udział w Letnich Igrzyskach Olimpijskich 1976 i 1980 we wszystkich konkurencjach gimnastyki artystycznej i zdobył odpowiednio brązowy i srebrny medal w konkursie drużynowym. Indywidualnie zdobył złoto w ćwiczeniach na parkiecie i dwa brązowe medale w sklepieniu i poręczach w 1980. Kolejne dwa złote medale w ćwiczeniach na parkiecie zdobył na Mistrzostwach Świata w gimnastyce artystycznej 1979 i Mistrzostwach Europy 1981. Opuścił Letnie Igrzyska Olimpijskie 1984 z powodu ich bojkotu przez Niemcy Wschodnie i zamiast tego wziął udział w Igrzyskach Przyjaźni, zdobywając złoto na parkiecie i srebro w konkursie drużynowym.\n",
      "Dokument [4](Tytuł: Jacob Dalton): Jacob „Jake” Dalton (urodzony 19 sierpnia 1991) to emerytowany amerykański gimnastyk i członek drużyny gimnastycznej Uniwersytetu Oklahoma oraz drużyny narodowej USA. Dorastał w Sparks w stanie Nevada jako syn Tima i Denise Dalton. Reprezentował Stany Zjednoczone na Letnich Igrzyskach Olimpijskich 2012 w Londynie i Letnich Igrzyskach Olimpijskich 2016 w Rio.\n",
      "Dokument [5](Tytuł: Mary Lou Retton): Mary Lou Retton Kelley (ur. 24 stycznia 1968) jest emerytowaną amerykańską gimnastyczką. Na Letnich Igrzyskach Olimpijskich 1984 w Los Angeles zdobyła złoty medal w wieloboju indywidualnym, a także dwa srebrne i dwa brązowe medale. Jej występy uczyniły ją jedną z najpopularniejszych sportsmenek w Stanach Zjednoczonych.\n",
      "Dokument [6](Tytuł: Scott Johnson (gimnastyczka)): Scott Philip Johnson (ur. 12 lipca 1961) to amerykańska emerytowana gimnastyczka artystyczna. Reprezentował Stany Zjednoczone na Letnich Igrzyskach Olimpijskich 1984 i Letnich Igrzyskach Olimpijskich 1988. Był członkiem drużyny, która zdobyła złoty medal w 1984 r., a w 1988 r. był jej kapitanem. Przeszedł do historii na Igrzyskach Panamerykańskich w 1987 r., stając się pierwszą gimnastyczką, która zdobyła medal w każdej konkurencji.\n",
      "Dokument [7](Tytuł: Paul Hamm): Paul Elbert Hamm (urodzony 24 września 1982 w Washburn, Wisconsin) jest emerytowaną amerykańską gimnastyczką artystyczną. Jest mistrzem świata w gimnastyce i trzykrotnym medalistą olimpijskim. Jest mistrzem świata w wieloboju z 2003 r. i zwyciężył w wieloboju na Igrzyskach Olimpijskich w 2004 r. Jest odnoszącym największe sukcesy amerykańskim gimnastyczkiem płci męskiej i jedynym amerykańskim gimnastyczkiem, który zwyciężył wszechstronnie na Mistrzostwach Świata i Igrzyskach Olimpijskich.\n",
      "Dokument [8](Tytuł: Peter Vidmar): Peter Glen Vidmar (ur. 3 czerwca 1961) to amerykański gimnastyk i medalista olimpijski. Zdobył złote medale w wielobojowych zawodach drużynowych mężczyzn i zawodach koni z łękami, a także srebrny medal w wielobojowych zawodach indywidualnych mężczyzn na Letnich Igrzyskach Olimpijskich 1984 w Los Angeles. Urodził się w Los Angeles. Został wprowadzony do Galerii Sław Olimpijskich Stanów Zjednoczonych. W sumie ma trzy medale olimpijskie: dwa złote i srebrny. Peter jest jednym z zaledwie trzech sportowców dwukrotnie wprowadzonych do Galerii sław olimpijskiej Stanów Zjednoczonych: najpierw jako osoba indywidualna, a następnie jako członek historycznej amerykańskiej drużyny gimnastycznej mężczyzn z 1984 roku. Był także najlepiej punktującą amerykańską gimnastyczką w historii igrzysk olimpijskich.\n",
      "Dokument [9](Tytuł: ABC Funfit): ABC Funfit to seria krótkich odcinków amerykańskiej telewizji, które zostały wyemitowane w 1985 roku i emitowane dwa razy dziennie podczas sobotnich porannych programów animowanych ABC. Segmenty trwały pięć minut i przedstawiały ćwiczenia oraz informacje promujące sprawność fizyczną dzieci. Gospodarzem serialu była złota medalistka olimpijska Mary Lou Retton, której towarzyszyła grupa „Funfit Kids” (Ericka Pazcoquin, Bradley Kane, Melissa Kern i Efrain Bracero). Choreografię spektaklu przygotowała Lynne Taylor-Corbett. Album „ABC Funfit z udziałem Mary Lou Retton” został wydany w 1985 roku.\n",
      "Dokument [10](Tytuł: Peter Kormann): Peter Kormann (urodzony 21 czerwca 1955) to emerytowany amerykański gimnastyk i trener gimnastyki. Na Igrzyskach Olimpijskich w 1976 roku został pierwszym Amerykaninem, który zdobył medal w zawodach przeciwko Sowietom, zdobywając brązowy medal w zawodach mężczyzn na parkiecie. Brązowy medal Kormanna był także pierwszym medalem olimpijskim jakiegokolwiek rodzaju zdobytym przez amerykańską gimnastyczkę od 44 lat.\n",
      "Pytanie: Proszę wymienić emerytowaną amerykańską gimnastyczkę, która zdobyła złoto na Letnich Igrzyskach Olimpijskich w 1984 r. i która była gospodarzem serii krótkich odcinków amerykańskiej telewizji o nazwie ABC Funfit, których celem było promowanie sprawności fizycznej dzieci?\n",
      "\n",
      "Mary Lou Retton to emerytowana amerykańska gimnastyczka, która zdobyła złoto na Letnich Igrzyskach Olimpijskich w 1984 r. i była gospodarzem serii krótkich amerykańskich programów telewizyjnych zatytułowanych ABC Funfit, których celem było promowanie sprawności fizycznej dzieci.\n",
      "\n",
      "\n"
     ]
    }
   ],
   "source": [
    "def print_random(ds, n=2, seed=50):\n",
    "    examples = ds[\"train\"].shuffle(seed=seed).select(range(n))\n",
    "    for example in examples:\n",
    "        print(example[\"prompt\"])\n",
    "        print()\n",
    "        print(example[\"answer\"])\n",
    "        print()\n",
    "        print()\n",
    "\n",
    "\n",
    "print_random(translation)"
   ]
  },
  {
   "cell_type": "code",
   "execution_count": 4,
   "metadata": {},
   "outputs": [
    {
     "name": "stdout",
     "output_type": "stream",
     "text": [
      "Filtered 499 (5.98%) examples from train\n",
      "Filtered 6 (4.69%) examples from test\n"
     ]
    },
    {
     "data": {
      "text/plain": [
       "DatasetDict({\n",
       "    train: Dataset({\n",
       "        features: ['prompt', 'answer'],\n",
       "        num_rows: 7849\n",
       "    })\n",
       "    test: Dataset({\n",
       "        features: ['prompt', 'answer'],\n",
       "        num_rows: 122\n",
       "    })\n",
       "})"
      ]
     },
     "execution_count": 4,
     "metadata": {},
     "output_type": "execute_result"
    }
   ],
   "source": [
    "def remove_translations_with_bad_citations(original, translation, question_prefix=\"\\nPytanie:\"):\n",
    "    filtered_dataset = datasets.DatasetDict()\n",
    "    for split in [\"train\", \"test\"]:\n",
    "        original_split = original[split]\n",
    "        translation_split = translation[split]\n",
    "        filtered = []\n",
    "        assert len(original_split) == len(translation_split)\n",
    "        for i, (original_examples, translated_examples) in enumerate(zip(original_split, translation_split)):\n",
    "            original_refs = get_refs(original_examples[\"answer\"])\n",
    "            translated_refs = get_refs(translated_examples[\"answer\"])\n",
    "            if set(original_refs) != set(translated_refs):\n",
    "                continue\n",
    "            original_refs_passage = get_refs(original_examples[\"prompt\"])\n",
    "            translated_refs_passage = get_refs(translated_examples[\"prompt\"])\n",
    "            if set(original_refs_passage) != set(translated_refs_passage):\n",
    "                continue\n",
    "            if original_examples[\"prompt\"].count(\"\\n\") != translated_examples[\"prompt\"].count(\"\\n\"):\n",
    "                continue\n",
    "            if question_prefix not in translated_examples[\"prompt\"]:\n",
    "                continue\n",
    "            filtered.append(i)\n",
    "        print(f\"Filtered {len(original_split) - len(filtered)} ({(len(original_split) - len(filtered))/len(original_split):.2%}) examples from {split}\")\n",
    "        filtered_dataset[split] = translation_split.select(filtered)\n",
    "    return filtered_dataset\n",
    "\n",
    "\n",
    "filtered_pl = remove_translations_with_bad_citations(original, translation)\n",
    "filtered_pl"
   ]
  },
  {
   "cell_type": "code",
   "execution_count": 5,
   "metadata": {},
   "outputs": [],
   "source": [
    "def fixup_translation(row):\n",
    "    row[\"answer\"] = row[\"answer\"].replace(\"] [\", \"][\")\n",
    "    row[\"prompt\"] = row[\"prompt\"].replace(\"Document [\", \"Dokument [\")\n",
    "    return row\n",
    "\n",
    "\n",
    "fixed_pl = filtered_pl.map(fixup_translation)"
   ]
  },
  {
   "cell_type": "code",
   "execution_count": 6,
   "metadata": {},
   "outputs": [
    {
     "data": {
      "text/plain": [
       "DatasetDict({\n",
       "    train: Dataset({\n",
       "        features: ['prompt', 'answer'],\n",
       "        num_rows: 9157\n",
       "    })\n",
       "    test: Dataset({\n",
       "        features: ['prompt', 'answer'],\n",
       "        num_rows: 142\n",
       "    })\n",
       "})"
      ]
     },
     "execution_count": 6,
     "metadata": {},
     "output_type": "execute_result"
    }
   ],
   "source": [
    "DOC_TEMPLATE = \"Dokument [{ref}]\"\n",
    "ANS_TEMPLATE = \"[{ref}]\"\n",
    "\n",
    "\n",
    "def remove_docs(prompt, refs):\n",
    "    for ref in refs:\n",
    "        if ref > 100:\n",
    "            print(f\"Skipping ref {ref}\")\n",
    "            continue\n",
    "        needle = DOC_TEMPLATE.format(ref=f\"{ref+1}\")\n",
    "        needle_idx = prompt.find(needle)\n",
    "        next_newline_idx = prompt.find(\"\\n\", needle_idx)\n",
    "        if next_newline_idx == -1:\n",
    "            next_newline_idx = len(prompt)\n",
    "            print(f\"needle: {needle}\\n\\nneedle_idx: {needle_idx}\\n\\nprompt: {prompt}\")\n",
    "            0 / 0\n",
    "        prompt = prompt[:needle_idx] + prompt[next_newline_idx + 1 :]\n",
    "\n",
    "    new_prompt_refs = get_refs(prompt)\n",
    "    for i, ref in enumerate(new_prompt_refs):\n",
    "        prompt = prompt.replace(DOC_TEMPLATE.format(ref=ref + 1), DOC_TEMPLATE.format(ref=i + 1))\n",
    "\n",
    "    return prompt\n",
    "\n",
    "\n",
    "def add_mapped_samples(ds, amount, fn):\n",
    "    random.seed(9)\n",
    "    new_ds = datasets.DatasetDict()\n",
    "    for split_name in [\"train\", \"test\"]:\n",
    "        split = ds[split_name]\n",
    "        selected = split.shuffle(seed=8)\n",
    "        selected = selected.select(range(int(len(split) * amount)))\n",
    "        selected = selected.map(fn)\n",
    "        split = datasets.concatenate_datasets([split, selected])\n",
    "        split = split.shuffle(seed=5)\n",
    "        new_ds[split_name] = split\n",
    "    return new_ds\n",
    "\n",
    "\n",
    "def renumerate_answer_refs(answer, removed_refs):\n",
    "    refs = get_refs(answer)\n",
    "    for i, ref in enumerate(refs):\n",
    "        assert ref not in removed_refs\n",
    "        removed_below = len([r for r in removed_refs if r < ref])\n",
    "        answer = answer.replace(ANS_TEMPLATE.format(ref=ref + 1), ANS_TEMPLATE.format(ref=ref - removed_below + 1))\n",
    "    return answer\n",
    "\n",
    "\n",
    "def change_to_reduced(row):\n",
    "    refs = get_refs(row[\"answer\"])\n",
    "    prompt_refs = get_refs(row[\"prompt\"])\n",
    "    non_refs = [ref for ref in prompt_refs if ref not in refs]\n",
    "    if len(non_refs) == 0:\n",
    "        return row\n",
    "    refs_to_remove = random.sample(non_refs, random.randint(1, len(non_refs)))\n",
    "\n",
    "    return {\n",
    "        \"prompt\": remove_docs(row[\"prompt\"], refs_to_remove),\n",
    "        \"answer\": renumerate_answer_refs(row[\"answer\"], refs_to_remove),\n",
    "    }\n",
    "\n",
    "\n",
    "with_reduced_pl = add_mapped_samples(fixed_pl, 1 / 6, change_to_reduced)\n",
    "with_reduced_pl"
   ]
  },
  {
   "cell_type": "code",
   "execution_count": 7,
   "metadata": {},
   "outputs": [
    {
     "name": "stderr",
     "output_type": "stream",
     "text": [
      "Map: 100%|██████████| 286/286 [00:00<00:00, 6263.06 examples/s]\n",
      "Map: 100%|██████████| 4/4 [00:00<00:00, 1199.14 examples/s]\n"
     ]
    },
    {
     "data": {
      "text/plain": [
       "DatasetDict({\n",
       "    train: Dataset({\n",
       "        features: ['prompt', 'answer'],\n",
       "        num_rows: 9443\n",
       "    })\n",
       "    test: Dataset({\n",
       "        features: ['prompt', 'answer'],\n",
       "        num_rows: 146\n",
       "    })\n",
       "})"
      ]
     },
     "execution_count": 7,
     "metadata": {},
     "output_type": "execute_result"
    }
   ],
   "source": [
    "NEGATIVE_ANSWER = \"Przepraszam, nie potrafię odpowiedzieć na to pytanie.\"\n",
    "\n",
    "\n",
    "def change_to_negative(row):\n",
    "    refs = get_refs(row[\"answer\"])\n",
    "    return {\"prompt\": remove_docs(row[\"prompt\"], refs), \"answer\": NEGATIVE_ANSWER}\n",
    "\n",
    "\n",
    "with_neg_pl = add_mapped_samples(with_reduced_pl, 1 / 32, change_to_negative)\n",
    "with_neg_pl"
   ]
  },
  {
   "cell_type": "code",
   "execution_count": 8,
   "metadata": {},
   "outputs": [
    {
     "name": "stderr",
     "output_type": "stream",
     "text": [
      "Map: 100%|██████████| 9443/9443 [00:01<00:00, 8779.61 examples/s]\n",
      "Map: 100%|██████████| 146/146 [00:00<00:00, 8748.37 examples/s]\n"
     ]
    }
   ],
   "source": [
    "TITLE_KEY = \"Tytuł\"\n",
    "TITLE_REMOVE_REGEX = re.compile(r\"\\]\\s?\\({}:.*\\):\".format(TITLE_KEY), re.IGNORECASE)\n",
    "TITLE_REMOVE_REPLACE = \"]:\"\n",
    "\n",
    "\n",
    "def remove_title(row):\n",
    "    row[\"prompt\"] = TITLE_REMOVE_REGEX.sub(TITLE_REMOVE_REPLACE, row[\"prompt\"])\n",
    "    return row\n",
    "\n",
    "\n",
    "without_title_pl = with_neg_pl.map(remove_title)"
   ]
  },
  {
   "cell_type": "code",
   "execution_count": 9,
   "metadata": {},
   "outputs": [
    {
     "name": "stdout",
     "output_type": "stream",
     "text": [
      "Dokument [1]: Watchmen to amerykański film o superbohaterach z 2009 roku w reżyserii Zacka Snydera, oparty na limitowanej serii DC Comics z lat 1986–87 pod tym samym tytułem autorstwa Alana Moore'a i Dave'a Gibbonsa. W rolach głównych występuje Malin Åkerman, Billy Crudup, Matthew Goode, Carla Gugino, Jackie Earle Haley, Jeffrey Dean Morgan i Patrick Wilson. Film, będący mrocznym, satyrycznym i dystopijnym podejściem do gatunku superbohaterów, rozgrywa się w alternatywnej historii w roku 1985, u szczytu zimnej wojny między Stanami Zjednoczonymi a Związkiem Radzieckim, kiedy grupa amerykańskich superbohaterów, w większości emerytowanych, prowadzi śledztwo w sprawie morderstwa. jednego ze swoich, zanim odkryją skomplikowany i śmiercionośny spisek, podczas gdy ich ograniczenia moralne są kwestionowane przez złożony charakter okoliczności.\n",
      "Dokument [2]: Albion to limitowana seria komiksów składająca się z sześciu numerów, której fabuła jest autorstwa Alana Moore'a, napisana przez jego córkę Leah Moore i jej męża Johna Reppiona, z okładkami autorstwa Dave'a Gibbonsa i ilustracjami autorstwa Shane'a Oakleya i George'a Freemana. W wyniku umowy zawartej przez wiceprezesa DC Comics Boba Wayne'a i dyrektora wydawniczego Andrew Sumnera z IPC Media, książka została opublikowana nakładem wydawnictwa WildStorm DC Comics. Seria miała na celu ożywienie klasycznych postaci z brytyjskich komiksów należących do IPC, takich jak Captain Hurricane, Robot Archie, The Steel Claw i The Spider (a także pomniejszych postaci, takich jak Fishboy i Faceache), z których wszystkie pojawiły się w komiksach opublikowanych przez Odhams Press i później IPC Media z lat 60. i wczesnych 70. XX wieku, takie jak „Valiant” i „Lion”.\n",
      "Dokument [3]: Liga Sprawiedliwości to nadchodzący amerykański film o superbohaterach oparty na drużynie superbohaterów DC Comics o tej samej nazwie, dystrybuowany przez Warner Bros. Pictures. Ma to być piąta część DC Extended Universe (DCEU). Film wyreżyserował Zack Snyder, na podstawie scenariusza Chrisa Terrio i Jossa Whedona na podstawie opowiadania Snydera i Terrio, a w obsadzie znaleźli się Ben Affleck, Henry Cavill, Gal Gadot, Jason Momoa, Ezra Miller, Ray Fisher, Ciarán Hinds, Amy Adams, Willem Dafoe, Jesse Eisenberg, Jeremy Irons, Diane Lane, Connie Nielsen i J. K. Simmons. W „Justice League” Batman i Wonder Woman tworzą drużynę składającą się z Flasha, Aquamana i Cyborga, aby stawić czoła katastrofalnemu zagrożeniu ze strony Steppenwolfa i jego armii Parademonów.\n",
      "Dokument [4]: Watchmen to amerykańska limitowana seria komiksów wydawana przez DC Comics w 1986 i 1987 i zebrana w 1987. Seria została stworzona przez brytyjską współpracę składającą się z pisarza Alana Moore'a i artysty Dave'a Gibbonsa i kolorysta John Higgins. „Strażnicy” wywodzą się z propozycji opowieści przesłanej przez Moore'a DC, przedstawiającej postacie superbohaterów, którą firma nabyła od Charlton Comics. Ponieważ historia zaproponowana przez Moore'a pozostawiłaby wiele postaci bezużytecznych w przyszłych historiach, redaktor naczelny Dick Giordano przekonał Moore'a, aby zamiast tego stworzył oryginalne postacie.\n",
      "Dokument [5]: Saturday Morning Watchmen to wirusowe wideo w serwisach Newgrounds i YouTube opublikowane 5 marca 2009 r., dzień przed premierą aktorskiego filmu „Watchmen”. Teledysk parodiuje limitowaną serię DC Comics „Watchmen” Alana Moore'a i Dave'a Gibbonsa, podając się za fragment opartej na tej serii kreskówki z sobotnich poranków z lat 80. Film został animowany, napisany, skomponowany i zaśpiewany przez Harry'ego Partridge'a, a podkładają mu głosy: Partridge, Joshua Tomar i Hans Van Harken. Naśmiewa się z tendencji kampowego charakteru animacji z lat 80. do odkażania superbohaterów i innych brutalnych motywów. Zawiera wiele kluczowych elementów filmów animowanych z lat 80., takie jak chwytliwe motywy rockowe oraz odniesienia do początków filmów „Thundercats”, „Teenage Mutant Ninja Turtles”, „Jem”, „The Legend of Zelda” i „Scooby-Doo” . Na stronie Newgrounds Partridge stwierdził, że wideo „łączy w sobie dwie moje ogromne pasje, jedną jest geniusz komiksu, którym jest Alan Moore, a drugą programy dla dzieci z końca lat 80., które, powiedziałbym, są moją największą inspiracją do animacji.\n",
      "Dokument [6]: Matthew George Frewer (urodzony 4 stycznia 1958) to amerykański kanadyjski aktor, piosenkarz, artysta głosowy i komik. Działając od 1983 roku, najbardziej znany jest z roli ikony lat 80. Maxa Headrooma, pomocnika Hadesa Panica w „Herkulesie” (1997), sąsiada Russella „Big Russa” Thompsona w „Kochanie, zmniejszyłem dzieciaki” (1989), emerytowany złoczyńca Moloch w „Strażnikach” (2009), chory na raka Mitch w „50/50” (2011), Doktor Leekie w kanadyjskim dramacie science fiction „Orphan Black” (2013–17) i Sherlock Holmes w czterech telewizji Hallmark Channel produkcje wydane w latach 2000-2002.\n",
      "Dokument [7]: Watchmen to film z 2009 roku oparty na dwunastu wydaniach serii powieści graficznych pod tym samym tytułem, stworzonej przez pisarza Alana Moore'a, artystę Dave'a Gibbonsa i kolorystę Johna Higginsa, opublikowanej przez DC Comics pomiędzy 1986 i 1987. Prawa filmowe do powieści graficznej nabył producent Lawrence Gordon w 1986 roku. Wiele problemów wstrzymało rozwój adaptacji, ponieważ przez dwadzieścia lat do projektu złączono cztery różne studia oraz różnych reżyserów i scenarzystów. W 2006 roku Zack Snyder, który w tym czasie kręcił „kolejną adaptację komiksu”, został zatrudniony przez Warner Bros. do wyreżyserowania „Watchmen”. Zdjęcia rozpoczęły się w 2007 roku i po podpisaniu umów z dwiema poprzednimi firmami zaangażowanymi w produkcję – Paramount Pictures było odpowiedzialne za prawa do międzynarodowej dystrybucji po problemach budżetowych w 2004 roku, co doprowadziło do pozwu złożonego przez 20th Century Fox. Fox, z którym Gordon skontaktował się już w 1987 r., otrzymał 1 milion dolarów brutto – adaptacja „Strażników” została ostatecznie wypuszczona w marcu 2009 r.\n",
      "Dokument [8]: Before Watchmen to seria komiksów opublikowana przez DC Comics w 2012 roku. Działająca jako prequel limitowanej serii „Watchmen” z 1986 roku, składającej się z 12 numerów, autorstwa pisarza Alana Moore'a i artysty Dave'a Gibbonsa. projekt składa się z ośmiu limitowanych serii i jednego one-shota (choć początkowo planowano dwa) w sumie 37 numerów.\n",
      "Dokument [9]: Nite Owl to imię dwóch fikcyjnych superbohaterów z limitowanej serii komiksów „Watchmen” autorstwa Alana Moore'a i Dave'a Gibbonsa i opublikowanej przez DC Comics. Duet jest zmodyfikowanymi odpowiednikami pierwszych dwóch postaci Blue Beetle (szczegóły tła drugiej Nite Owl zostały stworzone w celu parodii\n",
      "Dokument [10]: „Watchmen” to limitowana seria komiksów składająca się z dwunastu numerów, stworzona przez Alana Moore'a, Dave'a Gibbonsa i Johna Higginsa, opublikowana przez DC Comics w 1986 i 1987 r. „Watchmen\" skupia się na na sześciu głównych bohaterach: Komik, Doktor Manhattan, Nocna Sowa, Ozymandias, Rorschach i Silk Spectre. Postacie te były pierwotnie wzorowane na Mighty Crusaders, a następnie przerobione w niezamówionej propozycji, aby pasowały do ​​właściwości superbohaterów, które DC nabył od Charlton Comics na początku lat 80. Pisarz serialu Alan Moore stworzył głównych bohaterów, aby przedstawić sześć „radykalnie przeciwstawnych sposobów” postrzegania świata i dać czytelnikom opowieści przywilej określenia, który z nich jest najbardziej zrozumiały moralnie.\n",
      "Pytanie: Matthew George Frewer to amerykański kanadyjski aktor, piosenkarz, podkładający głos i komik. Jest znany z roli emerytowanego złoczyńcy Molocha w amerykańskim filmie o superbohaterach z 2009 roku w reżyserii Zacka Snydera, opartym na limitowanej serii DC Comics z lat 1986–87. pod tym samym tytułem autorstwa Alana Moore'a i Dave'a Gibbonsa?\n",
      "\n",
      "Matthew George Frewer, amerykański kanadyjski aktor, piosenkarz, lektor i komik, znany z roli emerytowanego złoczyńcy Molocha w amerykańskim filmie o superbohaterach „Watchmen” z 2009 roku w reżyserii Zacka Snydera, opartym na limitowanej serii DC Comics z lat 1986–87 pod tym samym tytułem autorstwa Alana Moore'a i Dave'a Gibbonsa [1][6].\n",
      "\n",
      "\n",
      "Dokument [1]: State Route 165 (SR 165) to główna autostrada stanowa w amerykańskim stanie Wirginia. Autostrada stanowa biegnie 60 km od US Route 17 Business (US 17 Business) w Chesapeake na północ do SR 337 w Norfolk. SR 165 to trasa w kształcie litery C, która łączy Chesapeake i Norfolk w obszarze metropolitalnym Hampton Roads pośrednio przez Virginia Beach. Odcinek autostrady ze wschodu na zachód łączy społeczności Chesapeake w Deep Creek i Great Bridge z częścią Virginia Beach należącą do Princess Anne. Północno-południowo-wschodnia część SR 165 łączy obszar Princess Anne ze społecznościami Salem i Kempsville w Virginia Beach oraz z Norfolk. W Norfolk autostrada stanowa biegnie równolegle do autostrady międzystanowej 64 (I-64), przebiegając przez wschodnie i północne obszary miasta w pobliżu międzynarodowego lotniska w Norfolk i stacji marynarki wojennej Norfolk. Duża część SR 165 to wielopasmowa, podzielona autostrada, ale we wszystkich trzech niezależnych miastach, które obsługuje autostrada, istnieją znaczące dwupasmowe odcinki.\n",
      "Dokument [2]: FedEx Express Flight 1406 był lotem towarowym z międzynarodowego lotniska w Memphis w Memphis w stanie Tennessee do międzynarodowego lotniska Logan w Bostonie w stanie Massachusetts, kiedy podczas lotu nad New Yorku. Trzej członkowie załogi na pokładzie pomyślnie lądowali awaryjnie na międzynarodowym lotnisku Stewart w Nowym Windsorze. Po ewakuacji DC-10 strawił ogień. Po szeroko zakrojonym dochodzeniu Krajowa Rada Bezpieczeństwa Transportu nie była w stanie ustalić, co było przyczyną pożaru. Niemniej jednak Federalna Administracja Lotnicza wydała zalecenia mające na celu zapobieganie podobnym incydentom w przyszłości.\n",
      "Dokument [3]: Kolizja pasa startowego lotniska Wayne County polegała na zderzeniu dwóch samolotów Northwest Airlines w gęstej mgle na lotnisku Detroit Metropolitan Wayne County Airport w dniu 3 grudnia 1990 r. Miało to miejsce, gdy lot 1482, regularny samolot Douglas DC-9-14 lecący z Detroit do międzynarodowego lotniska w Pittsburghu, przez pomyłkę kołował na aktywny pas startowy w gęstej mgle i został potrącony przez odlatujący Boeing 727 obsługujący lot 299 do międzynarodowego lotniska w Memphis. Zginęła jedna załoga i siedmiu pasażerów DC-9.\n",
      "Dokument [4]: Międzynarodowy port lotniczy Newport News/Williamsburg (IATA: PHF, ICAO: KPHF, FAA LID: PHF) to lotnisko zlokalizowane w Newport News w Wirginii i obsługujące Hampton Roads obszar metropolitalny wraz z międzynarodowym lotniskiem Norfolk w Norfolk. Właścicielem i operatorem lotniska jest Peninsula Airport Commission, która jest polityczną jednostką terytorialną Wspólnoty Wirginii.\n",
      "Dokument [5]: FedEx Express (FedEx) Flight 647 był lotem pomiędzy międzynarodowym portem lotniczym Metropolitan Oakland (OAK) w Oakland w Kalifornii a międzynarodowym lotniskiem w Memphis (MEM) w Memphis w stanie Tennessee, który rozbił się podczas lądowania w dniu 18 grudnia 2003 roku.\n",
      "Dokument [6]: Międzynarodowy port lotniczy w Norfolk (IATA: ORF, ICAO: KORF, FAA LID: ORF) to lotnisko użytku publicznego położone trzy mile morskie (6 km) na północny wschód od centralnej dzielnicy biznesowej Norfolk , niezależne miasto w amerykańskim stanie Wirginia. Jest własnością miasta Norfolk i jest zarządzany przez zarząd lotniska Norfolk: biuro podlegające władzom miejskim. Lotnisko obsługuje cały obszar metropolitalny Hampton Roads w południowo-wschodniej Wirginii (wraz z międzynarodowym portem lotniczym Newport News/Williamsburg w Newport News), a także północno-wschodnią Karolinę Północną.\n",
      "Dokument [7]: Międzynarodowy port lotniczy w Indianapolis (IATA: IND, ICAO: KIND, FAA LID: IND) to publiczne lotnisko położone siedem mil (11 km) na południowy zachód od centrum Indianapolis, w hrabstwie Marion w stanie Indiana, Stany Zjednoczone. Jest własnością władz lotniska Indianapolis i jest przez nie zarządzany. Lotnisko jest największe w stanie Indiana i zajmuje około 7700 akrów w gminach Wayne i Decatur w hrabstwie Marion, a wszystko to na terenie miasta Indianapolis. Znajduje się w pobliżu autostrad międzystanowych I-65, I-69, I-70 i I-74, które łączą się z obwodnicą miasta I-465. Terminal pasażerski był pierwszym zaprojektowanym i zbudowanym w Stanach Zjednoczonych po atakach z 11 września 2001 roku. Na lotnisku znajduje się także węzeł FedEx Express, drugi co do wielkości węzeł firmy po SuperHub na międzynarodowym lotnisku w Memphis. Otwarty w 1988 roku ośrodek był trzykrotnie rozbudowywany.\n",
      "Dokument [8]: Międzynarodowy port lotniczy w Memphis (IATA: MEM, ICAO: KMEM, FAA LID: MEM) to cywilno-wojskowe lotnisko położone siedem mil (11,2 km) na południowy wschód od centrum Memphis w hrabstwie Shelby w stanie Tennessee , Stany Zjednoczone.\n",
      "Dokument [9]: Frederic Heutte był czołowym pisarzem, ogrodnikiem i ogrodnikiem w Norfolk w Wirginii. Został szefem parków w Norfolk w 1936 roku i stał się czołowym orędownikiem upiększania miasta Tidewater w Wirginii poprzez jego architekturę. W 1936 r. Heutte założył Ogród Botaniczny w Norfolk i był jego dyrektorem aż do przejścia na emeryturę w 1966 r. Ogród wyróżnia się tym, że jest jedynym ogrodem botanicznym otaczającym miejskie lotnisko. Później międzynarodowe lotnisko w Norfolk stało się krajowym modelem godzenia krajobrazu i lotnictwa komercyjnego.\n",
      "Dokument [10]: FedEx Flight 630 był regularnym planowym lotem towarowym z międzynarodowego lotniska Seattle-Tacoma do międzynarodowego lotniska w Memphis w Memphis w stanie Tennessee. W dniu 28 lipca 2006 r. McDonnell Douglas MD-10-10F\n",
      "Pytanie: W jakim kraju znajdują się międzynarodowe lotniska w Memphis i międzynarodowe lotnisko w Norfolk?\n",
      "\n",
      "Międzynarodowe lotnisko w Memphis (Memphis, Tennessee) i międzynarodowe lotnisko w Norfolk (Norfolk, Wirginia) znajdują się w Stanach Zjednoczonych [6][8].\n",
      "\n",
      "\n",
      "Dokument [1]: Sevda Dalgıç (dosłowne tłumaczenie na język angielski: The Love Diver) to turecka aktorka filmowa i teatralna, znana przede wszystkim z ekranowej roli Ozge w przebojowym programie telewizyjnym FOX Network Arka Sıradakiler. Sevda Dalgıç zadebiutowała na ekranie tureckim dramatem dla nastolatków zatytułowanym Arka Sıradakiler (dosłowne tłumaczenie „ci, którzy siedzą na tylnych ławkach”). Jej podawana waga to 53 kg (116,6 funta), rozmiar buta 40, wzrost 174 cm ( 5' 9”), a kolor oczu jest piwny. Urodziła się 23 lutego 1984 roku w Stambule. Chociaż w młodym wieku rzuciła szkołę średnią, aby utrzymać rodzinę, później zapisała się na zajęcia aktorskie w Sadri Alisik Kultur Merkezi Oyunculuk Bolumu (Wydział Dramatu w Centrum Kultury Sadri Alisik). na jej życie. Przez dwa lata uczyła się dramatu i sztuk performatywnych w tej samej szkole. Wciąż kształci się w kierunku zaawansowanego aktorstwa. Jej główne hobby to między innymi jazda konna, jazda na łyżwach, taniec i gra w koszykówkę. Grała w swojej licealnej drużynie koszykówki, po czym porzuciła ją z powodu problemów finansowych i rodzinnych. W 160. odcinku Arki Sıradakiler jej postać zmarła. Po odejściu z serialu zagrała w dramacie scenicznym opowiadającym o relacji ojciec-syn i komplikacjach, jakie napotkali w związku z jawnym homoseksualizmem syna. Tytuł dramatu nosi tytuł „Eyvah ogluma bir Haller Oldu” (w dosłownym tłumaczeniu „Och, coś się stało mojemu synowi”). Spektakl zebrał generalnie pozytywne recenzje krytyków. Sevda Dalgıç jest obecnie zaręczona ze swoim wieloletnim chłopakiem. Jej wczesna kariera obejmuje pracę jako modelka, fryzjerka i kasjerka. Mieszka z mamą i 9-letnim owczarkiem niemieckim Herą w Stambule.\n",
      "Dokument [2]: Sniper: Special Ops to wojenny dramat akcji napisany i wyreżyserowany przez Freda Olena Raya, z udziałem Stevena Seagala, który jest także producentem wykonawczym filmu.\n",
      "Dokument [3]: Osy (gr. Σφῆκες „Sphēkes”) to czwarta w porządku chronologicznym z jedenastu zachowanych sztuk Arystofanesa, mistrza starożytnego gatunku dramatu zwanego „Starą Komedią”. Został wyprodukowany na festiwalu Lenaia w 422 rpne, kiedy Ateny cieszyły się krótkim wytchnieniem od wojny peloponeskiej po rocznym rozejmie ze Spartą.\n",
      "Dokument [4]: Łzy słońca to amerykański dramat wojenny z 2003 roku, przedstawiający misję ratunkową zespołu US Navy SEAL podczas wojny domowej w Nigerii. LT A.K. Waters (Bruce Willis) dowodzi zespołem wysłanym na ratunek obywatelce USA, doktor Lenie Fiore Kendricks (Monica Bellucci), z wojny domowej w drodze do jej szpitala w dżungli. Film wyreżyserował Antoine Fuqua.\n",
      "Dokument [5]: Karierę aktorską rozpoczęła w bardzo młodym wieku 15 lat od reklam takich jak pasta do zębów Close up, Fanta, Sunsilk, Cadbury, Hero Honda, Reid & Taylor, Elle 18 i kilku innych. Stała się powszechnie znana i stała się sensacją wśród młodych ludzi, grając główną rolę w przebojowym telewizyjnym dramacie dla nastolatków zatytułowanym „Just Mohabbat”. Następnie wystąpiła w specjalnym filmie w języku hindi, takim jak „Yaadein” Subhasha Ghaia, a następnie dostała główną rolę energicznej uczennicy w filmie „Jogi” z 2005 roku w języku kannada u boku Shivarajkumara, który ustanowił rekordy kasowe i okazał się sukcesem. okazała się wielkim hitem, zyskując w ten sposób pozycję wiodącej współczesnej aktorki kina kannada, a następnie zagrała w kilku innych filmach z południa, które jej się pojawiły.\n",
      "Dokument [6]: The Bombing () to chiński wojenny dramat akcji w reżyserii Xiao Fenga opowiadający o japońskich bombardowaniach chińskiego miasta Chongqing podczas II wojny światowej. Mel Gibson dołączył jako dyrektor artystyczny. W filmie występują Liu Ye, Song Seung-heon i William Chan, ze specjalnymi występami Bruce'a Willisa, Nicholasa Tse i wielu innych. Główne zdjęcia rozpoczęły się w maju 2015 roku w Szanghaju w Chinach.\n",
      "Dokument [7]: Walter Bruce Willis (urodzony 19 marca 1955) to amerykański aktor, producent i piosenkarz. Jego kariera rozpoczęła się na scenie Off-Broadway, a następnie w latach 80. w telewizji, przede wszystkim jako David Addison w „Moonlighting” (1985–1989). Znany jest z roli Johna McClane’a w filmie Szklana pułapka (1988) i jego czterech sequelach. Zagrał w ponad 60 filmach, m.in.: „Śmierć jej dokucza” (1992), „Kolor nocy” (1994), „Pulp Fiction” (1994), „Nobody's Fool” (1994), „12 małp” (1995). , „Piąty element” (1997), „Armageddon” (1998), „Szósty zmysł” (1999), „Niezniszczalny” (2000), „Miasto grzechu” (2005), „Szczęśliwa liczba Slevin” (2006), „Czerwony” (2010), „Królestwo Księżyca” (2012), „Niezniszczalni 2” (2012) i „Pętla” (2012). Aktor podkładał także głos do takich filmów jak „Patrz, kto mówi” (1989), „Beavis i Butt-Head Do America” (1996), „Rugrats Go Wild” (2003) i „Over the Hedge” (2006). .\n",
      "Dokument [8]: Three Kingdoms: Resurrection of the Dragon to wojenny dramat akcji z 2008 roku z Hongkongu, luźno oparty na fragmentach klasycznej chińskiej powieści „Romance of the Three Kingdoms” autorstwa Luo Guanzhong. Film wyreżyserował Daniel Lee, a jego budżet wynosił 25 milionów dolarów. Film jest wspólną produkcją Hongkongu, Chińskiej Republiki Ludowej i Korei Południowej.\n",
      "Dokument [9]: „Kurczak i lam” to słynny i tradycyjny deser w Kantonie. Jednakże „Kurczak i Lamy” w rzeczywistości nie są robione z kurczaka, a głównym składnikiem jest „Lam”, rodzaj chińskiej białej oliwki. Świeżo zebrany „Lam” wymaga skomplikowanego procesu; mieszanie z różnymi chińskimi ziołami i doprawianie różnymi przyprawami. Ze względu na inny sposób marynowania smak „Chicken and Lam” jest zróżnicowany: słodki nazywa się „Shun Lam”, słony nazywa się „Licorice Lam”, a pikantny nazywa się „Chili Lam”, ale bez względu na smak, ich chrupiąca i smaczna konsystencja sprawia, że ​​większość mieszkańców Kantonu nie może się im oprzeć.\n",
      "Dokument [10]: Mark Potter (urodzony 13 czerwca 1960 w Kingston, Ontario) jest dobrze znanym nadawcą sportowym we wschodnim Ontario od ponad trzydziestu lat. Urodzony i wychowany w Portsmouth Village w Kingston, Potter przez cztery dekady pracował nad transmisjami hokeja i baseballu w telewizji i radiu. Jego kariera w radiofonii sportowej rozpoczęła się w 1981 roku, kiedy zastąpił Chrisa Cuthberta (obecnie głównego spikera sportowego w TSN) jako specjalista ds. kolorów Jima Gilchrista w audycjach radiowych Kingston Canadians Ontario Hockey League przez siedem sezonów. Potter rozpoczął karierę telewizyjną w 1981 roku w CKWS TV w Kingston w Ontario, pracując u boku legendarnego Maxa Jacksona (członka Kingston & District Sports Hall of Fame). Max przeszedł na emeryturę w 1982 roku, a Potter został dyrektorem sportowym w CKWS TV & Radio. Przez jedenaście lat utrzymywał nocne relacje sportowe w wieczornych programach informacyjnych o godzinie szóstej i jedenastej w telewizji CKWS-TV. Zdobył reputację barwnego, szczerego komentatora, a jego ulubionym celem były nieszczęsne drużyny Toronto Maple Leafs tamtej epoki. Potter opuścił CKWS w 1992 r., aby rozpocząć nową karierę jako doradca inwestycyjny, ale nadal pracował jako niezależny nadawca w TVCogeco w Kingston. Prowadził cotygodniowy godzinny program z wywiadami o lokalnym sporcie zatytułowany „SportsMark”. Program trwał pięć lat i po krótkiej przerwie powrócił jako gospodarz cotygodniowego 30-minutowego programu wywiadów sportowych o nazwie „Profile sportowe”. Od końca lat 80. Potter jest głosem drużyny baseballowej Kingston Ponies Senior w TVCogeco, a przez ostatnie dziesięć lat był gospodarzem transmisji Kingston Frontenacs OHL w TVCogeco. Ponadto jest gospodarzem cotygodniowego programu z przerwami OHL zatytułowanego „The OHL Roundtable”, który jest emitowany w kilku miastach OHL. Potter rozpoczął karierę jako spiker radiowy w radiu CKWS/CFMK pod koniec lat 70. po ukończeniu Loyalist College w Belleville w Ontario z w wieku dwudziestu lat prowadził program telewizyjny dotyczący dziennikarstwa telewizyjnego w Kingston; był najmłodszym prezenterem w historii CKWS-TV, stacji działającej od połowy lat pięćdziesiątych. Potter także okazjonalnie współpracował z radiem. gospodarz porannego programu samochodowego „Big G & Mathews” na antenie KIX Country 93,5fm w Kingston W 2005 roku zdobył prestiżową nagrodę TVCogeco STAR Award za tytuł najlepszego nadawcy w Ontario dla stacji Cogeco. Potter był długoletnim wolontariuszem finalista nagrody Obywatela Roku przyznawanej przez firmę Kingston i zdobywca tytułu Paul Harris Fellow; najwyższego wyróżnienia przyznanego przez Rotary International za pracę społeczną Od dziesiątego roku pełni funkcję Prezydenta Międzynarodowej Galerii Sław Hokeja w Kingston w Ontario w Kanadzie zasiada w Zarządzie od początku lat 80-tych. W 2003 roku był współautorem książki wraz z J.W. „Bill” Fitsell „Hockey's Hub – Three Centuries of Hockey in Kingston” (wydana przez Quarry Press), który stanowi kronikę bogatego dziedzictwa hokejowego firmy Kingston.\n",
      "Pytanie: Jak nazywa się amerykański aktor, producent i piosenkarz, który rozpoczął karierę na scenie Off-Broadway, a następnie w telewizji w latach 80., a który pojawia się w sposób szczególny w chińskim wojennym dramacie akcji zatytułowanym „The Bombing”?\n",
      "\n",
      "Bruce Willis [7][6] to amerykański aktor, producent i piosenkarz, który rozpoczął karierę na scenie Off-Broadway, a następnie w telewizji w latach 80., a także pojawia się w specjalnym chińskim dramacie wojennym akcji zatytułowanym „The Bombing” [6].\n",
      "\n",
      "\n",
      "Dokument [1]: Uniwersytet Maryland w hrabstwie Baltimore (często określany jako UMBC) to amerykański publiczny uniwersytet badawczy z siedzibą w hrabstwie Baltimore w stanie Maryland w Stanach Zjednoczonych, głównie w społeczności w Catonsville, około 10 minut (8,3 mil) od centrum Baltimore City, 9 minut (6,1 mil) od międzynarodowego lotniska Baltimore – Waszyngton (BWI). Dzięki przyjęciu jesienią 2016 r. 13 640 studentów, 48 kierunkom studiów licencjackich, ponad 60 programom magisterskim (36 programów magisterskich, 24 doktoranckim i 17 programom kończącym się certyfikatami magisterskimi) oraz pierwszemu uniwersyteckiemu parkowi badawczemu w Maryland, UMBC zostało uznane za najlepiej rozwijające się centrum nr 1 Coming University przez sześć lat z rzędu, od 2009 roku, według „US News & World Report”. Ponadto „US News & World Report” umieścił UMBC przez sześć lat z rzędu w pierwszej dziesiątce pod względem najlepszego nauczania na studiach licencjackich, zajmując 5. miejsce i drugi najwyżej oceniany uniwersytet publiczny.\n",
      "Dokument [2]: Munsey Park to wieś w hrabstwie Nassau w stanie Nowy Jork, Stany Zjednoczone. Według spisu z 2010 roku liczba ludności wynosiła 2693.\n",
      "Dokument [3]: Stacja Falls Road to stacja kolei miejskiej Baltimore Light Rail w Baltimore w stanie Maryland. Jest to pierwszy przystanek w podmiejskim hrabstwie Baltimore podczas podróży na północ od centrum Baltimore. Przystanek znajduje się w pobliżu dzielnicy Mount Washington w dolinie Jones Falls i jest często używany przez osoby dojeżdżające do pracy jako rezerwowe miejsce parkingowe w Mount Washington, gdy parking przy Mt Washington jest pełny. Stacja sąsiaduje z Lake Roland Park and Dam (przemianowanym na Robert E. Lee Park w latach czterdziestych XX wieku), zbudowaną pod koniec lat pięćdziesiątych XIX wieku jako część pierwszego odcinka nowego publicznego systemu wodociągowego miasta w 1860 roku, wzdłuż górnego strumienia Jones Falls, który płynie na południe przez miasto, wpadając do portu wewnętrznego rzeki Patapsco w porcie Baltimore i można go oglądać z niektórych części parku. Chociaż był używany tylko przez kilka dziesięcioleci jako część publicznego systemu wodociągowego obszaru metropolitalnego, aż do przejścia w latach osiemdziesiątych XIX wieku na większy przepływający rurociąg z wodospadu Gunpowder Falls i budowy pierwszego etapu w zbiorniku Loch Raven i jego wyższej tamie. Stare jezioro Roland i tama są nadal własnością Departamentu Rekreacji i Parków miasta Baltimore wraz z otaczającym go zalesionym działem wodnym. Obecnie jest obsługiwane i zarządzane przez agencję partnerską, Departament Rekreacji i Parków hrabstwa Baltimore, na mocy niedawnej umowy kontraktowej.\n",
      "Dokument [4]: The New York Press była gazetą wydawaną w Nowym Jorku, która rozpoczęła się w grudniu 1887 i kontynuowała wydawanie do 2 lipca 1916, kiedy jej właściciel Frank Munsey połączył ją ze swoim nowo -kupiłem „New York Sun”. „New York Press” publikowała wybitnych pisarzy, takich jak Stephen Crane.\n",
      "Dokument [5]: Long Island Electric Railway była firmą tramwajową działającą w Brooklynie, Queens i hrabstwie Nassau w stanie Nowy Jork, Stany Zjednoczone w latach 1894–1926. Firma była częściowo własnością Long Island Consolidated Electric Companies, spółka holdingowa Long Island Rail Road oraz częściowo August Belmont i Interborough Rapid Transit Company. Łączyła wschodni kraniec Fulton Street El na stacji Crescent Street w City Line na Brooklynie z Jamajką w Queens i biegła stamtąd do linii Nassau County w Queens Village i do Far Rockaway w Queens przez hrabstwo Nassau. Miał również połączenie z Belmont Park. Firma New York and Long Island Traction Company korzystała z praw do torów na swojej linii od Crescent Street do Queens Village.\n",
      "Dokument [6]: Baltimore Convention Center to sala kongresowo-wystawowa zlokalizowana w centrum Baltimore w stanie Maryland. Centrum to budynek komunalny będący własnością miasta Baltimore i przez niego zarządzany. Obiekt powstał w dwóch oddzielnych etapach: pierwotne Centrum o powierzchni wystawienniczej i konferencyjnej o powierzchni 425 000 stóp kwadratowych zostało otwarte w sierpniu 1979 r. za 51,4 miliona dolarów. W kwietniu 1997 r. zakończono rozbudowę o wartości 151 milionów dolarów, która zwiększyła całkowitą powierzchnię Centrum do 1225 000 stóp kwadratowych. Miejski hotel Hilton Baltimore z 752 pokojami został otwarty w sierpniu 2008 r. i jest połączony z centrum kongresowym zamkniętym mostem Skywalk. Zaproponowano kolejną rozbudowę Baltimore Convention Center, której koszt szacuje się na 400 milionów dolarów i obejmuje nowy hotel z 500 pokojami i areną na 18 500 miejsc; koszt tego projektu szacuje się na 900 milionów dolarów, propozycja ta nie jest już aktywna i uznana za martwą. Od marca 2016 r. stan Maryland zamierza rozważyć rozbudowę Baltimore Convention Center za szacunkowy koszt 600 milionów dolarów i zbudować nowy hotel dołączony do rozbudowy. Od sierpnia 2016 r. Wznowiono propozycję połączenia rozbudowanego centrum kongresowego, areny i hotelu. Burmistrz Stephanie Rawlings-Blake zażądała od władz stadionu Maryland studium wykonalności o wartości 1 miliona dolarów, które zostało zatwierdzone 2 sierpnia 2016 r.\n",
      "Dokument [7]: Magazyn Railroad był magazynem o miazdze, który ukazał się po raz pierwszy w październiku 1906 roku, założonym przez Franka Andersona Munseya. Kolejarz urodzony w Maine w 1854 r., w 1892 r. przeniósł się do Nowego Jorku, gdzie napisał kilka książek oraz wydawał czasopisma i gazety w wielu miastach. Pierwsze biura magazynu mieściły się w Flatiron Building w Nowym Jorku. W chwili powstania nie istniał zorganizowany ruch miłośników kolei, początkowo pismo kierowane było do kolejarzy i emerytów. Tytuł magazynu został później połączony z tytułem „Railfan”, tworząc nowy „Railfan & Railroad”, wydawany przez Carstens Publications.\n",
      "Dokument [8]: Gmach sądu hrabstwa Old Nassau, znany również jako gmach sądu hrabstwa Nassau i Historyczny gmach sądu hrabstwa Nassau, to zabytkowy dwupiętrowy budynek sądu zlokalizowany pod adresem 1550 Franklin Avenue w Garden City w hrabstwie Nassau w stanie Nowy Jork. Zaprojektowany przez znanego nowojorskiego architekta Williama B. Tubby'ego w stylu neoklasycznym, z wielką rotundą zwieńczoną białą kopułą, został zbudowany z wylewanego na miejscu żelbetu. Następnie gubernator Theodore Roosevelt położył kamień węgielny w 1900 r. i ukończono go w 1901 r. Skrzydła zaprojektowane przez Tubby'ego dodano w 1916 r. Późniejsze dobudowy i renowacje miały miejsce w latach 1924–1928 pod nadzorem architekta Williama J. Beardsleya, który zaprojektował sąd hrabstwa Dutchess Dom w Poughkeepsie.\n",
      "Dokument [9]: Frank Andrew Munsey (21 sierpnia 1854 - 22 grudnia 1925) był amerykańskim wydawcą i autorem gazet i magazynów. Urodził się w Mercer w stanie Maine, ale większość życia spędził w Nowym Jorku. Jego imieniem nazwano wioskę Munsey Park w stanie Nowy Jork wraz z budynkiem Munsey w centrum Baltimore w stanie Maryland na południowo-wschodnim rogu North Calvert Street i East Fayette Street.\n",
      "Dokument [10]: William Dickson „W.D.” Boyce (16 czerwca 1858 – 11 czerwca 1929) był amerykańskim dziennikarzem, przedsiębiorcą, wydawcą czasopism i odkrywcą. Był założycielem Boy Scouts of America (BSA) i krótkotrwałego Lone Scouts of America (LSA). Urodzony w hrabstwie Allegheny w Pensylwanii, miłość do spędzania czasu na świeżym powietrzu nabył już w swoim życiu. Po pracy jako nauczyciel i górnik Boyce uczęszczał do Wooster Academy w Ohio, a następnie przeniósł się na Środkowy Zachód i do Kanady. Boyce, bystry biznesmen, z powodzeniem założył kilka gazet, takich jak „The Commercial” w Winnipeg w Manitobie i „Lisbon Clipper” w Lizbonie w Północnej Dakocie. Wraz ze swoją pierwszą żoną, Mary Jane Beacom, przeniósł się do Chicago, aby realizować swoje ambicje przedsiębiorcze. Tam założył wydawnictwo Mutual Newspaper Publishing Company i tygodnik „Saturday Blade”, który był adresowany do wiejskiej publiczności i rozprowadzany przez tysiące dziennikarzy. Dzięki nowatorskiemu zatrudnieniu gazeciarzy w celu zwiększenia sprzedaży gazet wydawnictwo o tej samej nazwie Boyce’a utrzymywało do 1894 r. nakład 500 000 egzemplarzy tygodniowo. Boyce zdecydowanie wspierał prawa pracownicze, czego dowodem było wsparcie jego przedsiębiorstw dla związków zawodowych i troska o dobro gazeciarzy -istnienie.\n",
      "Pytanie: Frank Andrew Munsey (21 sierpnia 1854 – 22 grudnia 1925) był amerykańskim wydawcą i autorem gazet i czasopism. Która wioska w hrabstwie Nassau w stanie Nowy Jork została nazwana jego imieniem wraz z budynkiem Munsey w centrum Baltimore w stanie Maryland?\n",
      "\n",
      "Frank Andrew Munsey, amerykański wydawca i autor gazet i magazynów, ma wioskę w hrabstwie Nassau w stanie Nowy Jork, nazwaną jego imieniem, czyli Munsey Park [2][9]. Ponadto jego imieniem nazwano także budynek Munsey Building w centrum Baltimore w stanie Maryland [9].\n",
      "\n",
      "\n",
      "Dokument [1]: Drużyna piłkarska Kansas Jayhawks 1987 reprezentowała Uniwersytet Kansas na konferencji Big Eight podczas sezonu piłkarskiego 1987 NCAA Division I-A. W swoim drugim i ostatnim sezonie pod okiem głównego trenera Boba Valesente Jayhawks ustanowili rekord 1–9–1 (0–6–1 z przeciwnikami konferencji), zajęli siódme miejsce w konferencji i zostali pokonani przez przeciwników łączną sumą z 398 do 135. Mecze rozgrywali u siebie na Memorial Stadium w Lawrence w stanie Kansas.\n",
      "Dokument [2]: Drużyna piłkarska Kansas Jayhawks 1985 reprezentowała Uniwersytet Kansas na konferencji Big Eight podczas sezonu piłkarskiego 1985 NCAA Division I-A. W trzecim i ostatnim sezonie pod okiem głównego trenera Mike'a Gottfrieda Jayhawks ustanowili rekord 6–6 (2–5 z przeciwnikami konferencji), zajęli szóste miejsce w konferencji i wyprzedzili swoich przeciwników łącznie 294 do 281. Grali swoje mecze u siebie na Memorial Stadium w Lawrence w Kansas.\n",
      "Dokument [3]: Drużyna piłkarska Kansas Jayhawks 1983 reprezentowała Uniwersytet Kansas na konferencji Big Eight podczas sezonu piłkarskiego 1983 NCAA Division I-A. W swoim pierwszym sezonie pod okiem głównego trenera Mike'a Gottfrieda Jayhawks ustanowili rekord 4–6–1 (2–5 z przeciwnikami konferencji), zajęli siódme miejsce w konferencji i zostali pokonani przez przeciwników łącznie 320 do 296 Grali swoje mecze na stadionie Memorial w Lawrence w stanie Kansas.\n",
      "Dokument [4]: Drużyna piłkarska Kansas Jayhawks 1982 reprezentowała Uniwersytet Kansas na konferencji Big Eight podczas sezonu piłkarskiego 1982 NCAA Division I-A. W ósmym i ostatnim sezonie pod okiem głównego trenera Dona Fambrough, Jayhawks ustanowili rekord 2–7–2 (1–5–1 z przeciwnikami konferencji), zajęli siódme miejsce w konferencji i zostali pokonani przez przeciwników łączną sumą z 276 do 150. Mecze rozgrywali u siebie na Memorial Stadium w Lawrence w stanie Kansas.\n",
      "Dokument [5]: Drużyna piłkarska Kansas Jayhawks 1996 reprezentowała Uniwersytet Kansas w sezonie piłkarskim 1996 NCAA Division I-A. Byli trenowani przez głównego trenera Glena Masona, który zrezygnował po sezonie, aby zostać głównym trenerem w Minnesocie i rozgrywał mecze u siebie na Memorial Stadium w Lawrence w Kansas. To był pierwszy rok Jayhawks w nowo utworzonej konferencji Big 12. Konferencja Wielkiej 12 została utworzona przez osiem zespołów niedawno rozwiązanej Konferencji Wielkiej Ósemki i dołączyły do ​​niej Baylor, Texas, Texas A&M i Texas Tech, wszystkie formalnie z Konferencji Southwest, która również została rozwiązana po roku szkolnym 1995–1996 .\n",
      "Dokument [6]: Drużyna piłkarska Kansas Jayhawks 1979 reprezentowała Uniwersytet Kansas na konferencji Big Eight podczas sezonu piłkarskiego 1979 NCAA Division I-A. Po czteroletniej nieobecności Don Fambrough powrócił jako główny trener zespołu, a Jayhawks ustanowili rekord 3–8 (2–5 z przeciwnikami konferencji), zajmując piąte miejsce na konferencji i zostali pokonani przez przeciwników łączną sumą z 346 do 172. Mecze rozgrywali u siebie na Memorial Stadium w Lawrence w stanie Kansas.\n",
      "Dokument [7]: Drużyna piłkarska Kansas Jayhawks 1984 reprezentowała Uniwersytet Kansas na konferencji Big Eight podczas sezonu piłkarskiego 1984 NCAA Division I-A. W swoim drugim sezonie pod okiem głównego trenera Mike'a Gottfrieda Jayhawks ustanowili rekord 5–6 (4–3 z przeciwnikami z konferencji), zajęli czwarte miejsce w konferencji i zostali pokonani przez przeciwników łącznie 298 do 218. rozegrali swoje mecze u siebie na Memorial Stadium w Lawrence w Kansas.\n",
      "Dokument [8]: Drużyna piłkarska Kansas Jayhawks 1981 reprezentowała Uniwersytet Kansas na konferencji Big Eight podczas sezonu piłkarskiego 1981 NCAA Division I-A. W swoim siódmym sezonie pod wodzą głównego trenera Dona Fambrough Jayhawks ustanowili rekord 8–4 (4–3 z przeciwnikami z konferencji), zajmując trzecie miejsce na konferencji i zostali pokonani przez przeciwników łącznie 195 do 188. rozegrali swoje mecze u siebie na Memorial Stadium w Lawrence w Kansas.\n",
      "Pytanie: Drużyna piłkarska Kansas Jayhawks z 1980 r. reprezentowała Uniwersytet Kansas na konferencji Big Eight podczas sezonu piłkarskiego NCAA Division I-A w 1980 r. swoje mecze rozgrywała u siebie na Memorial Stadium, stadionie piłkarskim, w którym mieście w Kansas?\n",
      "\n",
      "Przepraszam, nie potrafię odpowiedzieć na to pytanie.\n",
      "\n",
      "\n",
      "Dokument [1]: Suicidal Tendency (znany również jako ST lub po prostu Suicidal) to amerykański zespół thrashowy założony w 1980 roku w Wenecji w Kalifornii przez wokalistę Mike'a Muira, który jest jedynym pozostałym oryginalnym członkiem zespołu . Wraz z D.R.I. i SOD, często są uznawani za jednego z „ojców crossover thrash”. Ich obecny skład obejmuje Muir, gitarzystów Dean Pleasants i Jeff Pogan, basista Ra Díaz i perkusista Dave Lombardo. Znani byli członkowie zespołu to gitarzysta prowadzący Rocky George (obecnie w Fishbone), gitarzysta rytmiczny Mike Clark (dawniej No Mercy, obecnie w Waking the Dead), basiści Louiche Mayorga (obecnie w Luicidal), Robert Trujillo (obecnie w Metallica) i Stephen „Thundercat” Bruner oraz perkusiści Amery Smith (później Uncle Slam and the Beastie Boys), Jimmy DeGrasso (dawniej lub później Y&T, White Lion, Alice Cooper i Megadeth, obecnie w Ratt) i Brooks Wackerman (obecnie w Avenged Siedmiokrotnie).\n",
      "Dokument [2]: Join the Army to drugi album amerykańskiego zespołu crossover thrashowego Suicidal Tendency. Został wydany w 1987 roku – cztery lata po ich debiutanckim albumie – i jest jednym z najbardziej znanych albumów łączących gatunki punka i thrash metalu, znanego jako crossover thrash, gatunku, za który przypisuje się Suicidal Tendency tworzenie. „Join the Army” to prawdopodobnie jedno z najpopularniejszych dzieł Suicidal Tendency, chociaż osiągnęło dopiero 100. miejsce na liście 200 „Billboard”. To był ich pierwszy album z gitarzystą Rockym George'em i perkusistą R.J. Herrery i ich ostatnie nagranie z basistą Louiche Mayorgą (chociaż był współautorem piosenek na ich kolejny album „How Will I Laugh Tomorrow When I Can't Even Smile Today”). Jest to jednocześnie ostatnia płyta, na której zespół grał w stylu hardcor punk.\n",
      "Dokument [3]: To dyskografia D.R.I., amerykańskiego zespołu crossover thrashowego założonego w 1982 roku przez Kurta Brechta, Spike'a Cassidy'ego, Dennisa Johnsona i Erica Brechta. DRI obecnie składa się z Kurta Brechta (wokal prowadzący), Spike'a Cassidy'ego (gitara i wokal wspierający), Haralda Oimoena (bas) i Waltera Ryana (perkusja). Zespół zyskał rozgłos w USA w epoce thrash metalu dzięki swoim albumom „4 of a Kind” i „Thrash Zone”. Zespół wydał siedem albumów studyjnych, dwie EPki (w tym jedna w wersji split z Raw Power), jedną kompilację i dwa albumy koncertowe.\n",
      "Dokument [4]: Prong to amerykański zespół crossover thrashowy założony w 1986 roku przez wokalistę i gitarzystę Tommy'ego Victora, jedynego stałego członka zespołu. Do tej pory wydali dwanaście albumów studyjnych (w tym album z coverami piosenek), jeden album koncertowy, cztery EP-ki, jedno DVD i jeden album z remiksami. Prong wydał dwa niezależne wydawnictwa, „Primitive Origins” (1987) i „Force Fed” (1989), które przyciągnęły uwagę Epic Records, która podpisała kontrakt z zespołem w 1989. Ich pierwsze dwa albumy ukazały się w Epic — „Beg to Differ” ( 1990) i „Prove You Wrong” (1991) – zostały wydane z uznaniem krytyków i przyciągnęły uwagę w programie „Headbangers Ball” MTV. Album zespołu „Cleansing” z 1994 roku również odniósł duży sukces i zawierał jedną z ich dobrze znanych piosenek „Snap Your Fingers, Snap Your Neck”. Po wydaniu jeszcze jednego albumu („Rude Awakening” w 1996 r.) Prong rozpadł się w 1997 r., ale reaktywował się w 2002 r. i od tego czasu nadal koncertuje i nagrywa.\n",
      "Dokument [5]: The Raven Age to angielski zespół heavy metalowy założony w Londynie w 2009 roku przez gitarzystów Dana Wrighta i George'a Harrisa (syna basisty Iron Maiden Steve'a Harrisa). W 2014 roku zespół nagrał i wydał EP-kę zatytułowaną, po czym wspierał Steve'a Harrisa British Lion i Tremonti podczas oddzielnych tras koncertowych. Następnie zespół wspierał Iron Maiden podczas The Book of Souls World Tour w 2016 roku. 2 sierpnia 2016 roku zespół ogłosił, że ich debiutancki album „Darkness Will Rise” ukaże się w grudniu 2016 roku, ale ostatecznie ukazał się w marcu 2017 roku. supportował Anthrax podczas europejskiej trasy Among The Kings w 2017 roku.\n",
      "Dokument [6]: Uncle Slam był amerykańskim zespołem thrashowym typu crossover z Los Angeles w Kalifornii, założonym w 1984 roku pod nazwą The Brood. Inspirowały się zespołami punkrockowymi z lat 80., takimi jak Suicidal Tendency (w skład których wchodzili niektórzy członkowie Uncle Slam i The Brood), D.R.I., Corrosion of Conformity, Black Flag i Circle Jerks, a także zespoły heavy metalowe, takie jak Black Sabbath , Iron Maiden, Slayer i Motörhead. Wiele ich piosenek porusza tematy polityczne, buntownicze, śmierć, ból i przemoc. Uncle Slam wydał cztery albumy studyjne (jeden został nagrany pod oryginalną nazwą) i cztery taśmy demo (jedna została również nagrana pod oryginalną nazwą). Zespół rozpadł się w 1995 roku, ale w 2010 roku po raz pierwszy wznowił na płycie CD swój album z 1988 roku „Say Uncle”.\n",
      "Dokument [7]: Iron Maiden to angielski zespół heavy metalowy założony w Leyton we wschodnim Londynie w 1975 roku przez basistę i głównego autora tekstów Steve'a Harrisa. Dyskografia zespołu rozrosła się do trzydziestu ośmiu albumów, w tym szesnastu albumów studyjnych, jedenastu albumów koncertowych, czterech EP i siedmiu kompilacji.\n",
      "Dokument [8]: Iron Maiden to angielski zespół heavy metalowy założony przez basistę Steve'a Harrisa w 1975 roku. Pierwszy album zespołu, „Iron Maiden” z lat 80., został napisany głównie przez Harrisa, z wokalista Paul Di'Anno jest współautorem dwóch utworów, a gitarzysta Dave Murray współtworzył „Charlotte the Harlot”. Następca z 1981 roku, „Killers”, został napisany prawie w całości przez basistę, a frontman Di'Anno przyczynił się jedynie do utworu tytułowego „Killers” (dodatkowy utwór w Ameryce Północnej „Twilight Zone” został przypisany Harrisowi i Murrayowi). . Bruce Dickinson zastąpił Di'Anno po wydaniu „Killers”, chociaż nie wniósł żadnego wkładu w autorstwo piosenek do „The Number of the Beast”, wydanego w 1982 roku, na którym znalazły się trzy piosenki, których współautorem jest gitarzysta Adrian Smith. „The Number of the Beast” zaowocował także pierwszą dziesiątką pierwszej dziesiątki brytyjskiej listy przebojów singli Iron Maiden w postaci „Run to the Hills”, który w momencie wydania uplasował się na siódmym miejscu. Dopiero przy wydaniu „Piece of Mind” z 1983 roku proces pisania piosenek stał się bardziej zróżnicowany i oparty na współpracy, a zaledwie cztery z dziewięciu utworów przypisano wyłącznie Harrisowi, dwa Dickinsonowi i Smithowi, jeden Harrisowi i Murrayowi, jeden Dickinsonowi sam i jeden dla Harrisa, Dickinsona i Smitha. Napisany przez Dickinsona i Smitha „Flight of Icarus” był pierwszym singlem Iron Maiden, który znalazł się na listach przebojów w Stanach Zjednoczonych, osiągając ósme miejsce na liście przebojów „Billboard” Mainstream Rock.\n",
      "Dokument [9]: Stormtroopers of Death (znany również jako S.O.D.) to amerykański zespół thrashowy powstały w Nowym Jorku w 1985 roku. Uważany jest za jeden z pierwszych zespołów, który połączył hardcorowy punk z thrashem metal w styl określany czasem jako crossover thrash. Zespół jest również znany z ponownego połączenia członków Anthrax, Scotta Iana (gitary) i Charliego Benante (perkusja), ze swoim byłym basistą Danem Lilkerem. Piosenka „Milano Mosh” z ich debiutanckiego albumu „Speak English or Die” z 1985 roku była przez wiele lat hymnem wprowadzającym do „Headbanger's Ball”.\n",
      "Dokument [10]: David Michael „Dave” Murray (ur. 23 grudnia 1956) to angielski gitarzysta i autor tekstów, najbardziej znany jako jeden z pierwszych członków brytyjskiego zespołu heavy metalowego Iron Maiden. Wraz z basistą grupy i głównym autorem tekstów Stevem Harrisem Murray pojawiał się na wszystkich wydawnictwach zespołu.\n",
      "Pytanie: Ile albumów studyjnych wydał amerykański zespół crossover thrashowy z Los Angeles w Kalifornii, założony w 1984 roku pod nazwą The Brood i pod wpływem angielskiego zespołu heavy metalowego założonego w Leyton we wschodnim Londynie w 1975 roku przez basistę i główny autor tekstów Steve Harris?\n",
      "\n",
      "Uncle Slam, amerykański zespół crossover thrashowy z Los Angeles w Kalifornii, założony w 1984 roku pod nazwą The Brood, wydał cztery albumy studyjne [6]. Byli pod wpływem Iron Maiden, angielskiego zespołu heavy metalowego założonego w Leyton we wschodnim Londynie w 1975 roku przez basistę i głównego autora tekstów Steve'a Harrisa [6][7].\n",
      "\n",
      "\n",
      "Dokument [1]: Erel Margalit (hebr. אראל מרגלית ‎ ; ur. 1 stycznia 1961 r.) jest izraelskim politykiem oraz przedsiębiorcą z branży zaawansowanych technologii i społecznym. Obecnie jest członkiem Knesetu z ramienia Partii Pracy. Wcześniej był założycielem i partnerem zarządzającym firmy venture capital z siedzibą w Jerozolimie, Jerusalem Venture Partners (JVP). W 2005 roku międzynarodowy magazyn biznesowy „Forbes” wybrał Margalit na czołową pozycję nieamerykańskiego inwestora venture capital na swojej prestiżowej liście „Midas (Złoty Dotyk)”. W 2010 roku „The Marker Magazine” uznał go za najlepszego inwestora venture capital w Izraelu. Margalit jest założycielką ruchu Avoda Now w 2011 roku, którego celem była rehabilitacja Partii Pracy po rozłamie Ehuda Baraka i utworzeniu partii HaAtzma'ut. W 2013 roku Margalit został wybrany do XIX Knesetu jako przedstawiciel Partii Pracy.\n",
      "Dokument [2]: Stephen T. „Steve” Jurvetson (ur. 1 marca 1967) to amerykański biznesmen i inwestor kapitału wysokiego ryzyka. Obecnie jest partnerem Draper Fisher Jurvetson (DFJ). Był inwestorem typu venture capital w Hotmail. Kierował także inwestycjami firmy w Tradex i Cyras (przejęte odpowiednio przez Aribę i Cienę). Obecne miejsca w zarządach obejmują SpaceX, Synthetic Genomics, Planet Labs, Nervana Systems (przejęte przez Intel), Flux, D-Wave i Tesla. Jurvetson był pierwszym na świecie właścicielem Tesli Model S, drugim właścicielem Tesli Model X (VIN 2, po Elonie Musku) i piątym właścicielem Tesli Model 3 (VIN 5).\n",
      "Dokument [3]: Magazyn internetowy to magazyn publikowany w Internecie za pośrednictwem systemów tablic ogłoszeniowych i innych form publicznych sieci komputerowych. Jednym z pierwszych magazynów, które przekształciły się z formatu drukowanego w format dostępny wyłącznie w Internecie, był magazyn komputerowy Datamation.\n",
      "Dokument [4]: Donald Lee Drakeman to amerykański przedsiębiorca, inwestor kapitału wysokiego ryzyka, dyrektor biznesowy, pracownik naukowy i naukowiec mieszkający w Południowej Karolinie. Od 2007 roku jest Venture Partnerem w Advent Venture Partners, firmie venture capital z siedzibą w Londynie, w związku z czym jest członkiem Zespołu Life Sciences tej firmy. Jednocześnie jest Fellow in Health Management w Judge Business School na Uniwersytecie Cambridge, gdzie jest członkiem Grupy Przedmiotowej Nauk o Zarządzaniu. Jest ponadto przewodniczącym Rady Doradczej programu Jamesa Madisona w zakresie amerykańskich ideałów i instytucji na Uniwersytecie Princeton, gdzie przez wiele lat był członkiem wydziału i prowadził wykłady oraz seminaria na temat swobód obywatelskich i Konstytucji Stanów Zjednoczonych. Jego książka „Church, State, and Original Intent”, dotycząca klauzuli ustanawiającej Pierwszej Poprawki do Konstytucji Stanów Zjednoczonych, została opublikowana przez Cambridge University Press w 2010 r. W 2015 r. Palgrave Macmillan opublikował książkę „Why We Need the Humanities”, która koncentruje się na relacji nauk humanistycznych do nauk o życiu i wolności obywatelskich.\n",
      "Dokument [5]: Sir Michael Jonathan Moritz {'1': \", '2': \", '3': \", '4': \"} (urodzony 12 września 1954) jest walijskim- urodzony inwestor venture capital w Sequoia Capital w Menlo Park w Kalifornii w Dolinie Krzemowej, filantrop i autor pierwszej historii Apple Inc., „The Little Kingdom” oraz „Going for Broke: Lee Iacocca's Battle to Save Chrysler” Wcześniej Moritz był dziennikarzem magazynu „Time” i członkiem zarządu Google. Studiował na Uniwersytecie Oksfordzkim i Wharton School na Uniwersytecie Pensylwanii, a następnie założył firmę Technologic Partners, zanim w latach 80. został inwestorem kapitału wysokiego ryzyka. W latach 2006 i 2007 Moritz znalazł się na pierwszym miejscu wśród inwestorów venture capital na liście Midas magazynu „Forbes”.\n",
      "Dokument [6]: Datamation to magazyn komputerowy wydawany w formie drukowanej w Stanach Zjednoczonych w latach 1957–1998 i od tego czasu jest nadal publikowany w Internecie. Dziś „Datamation” jest własnością QuinStreet i jest publikowane jako magazyn internetowy na Datamation.com.\n",
      "Dokument [7]: Donald B. Prell (ur. 7 lipca 1924 r.) to inwestor kapitału wysokiego ryzyka, autor i futurysta, który stworzył „Datamation”, pierwszy magazyn poświęcony wyłącznie branży sprzętu i oprogramowania komputerowego.\n",
      "Dokument [8]: Ben Parr (urodzony 12 lutego 1985) to amerykański dziennikarz, autor, inwestor kapitału wysokiego ryzyka i przedsiębiorca. Jest autorem „Captivology: The Science of Capturing People’s Attention”, książki o nauce i psychologii uwagi oraz o tym, jak przyciągnąć uwagę innych. Jest współzałożycielem i CMO Octane AI, firmy tworzącej chatboty. Wcześniej był inwestorem venture capital, współredaktorem i redaktorem naczelnym Mashable oraz felietonistą i komentatorem CNET. W 2012 roku znalazł się na liście Forbes 30 Under 30.\n",
      "Dokument [9]: Peter Fenton (ur. w lipcu 1972 r.) to amerykański inwestor kapitału wysokiego ryzyka z siedzibą w Dolinie Krzemowej. Jest komplementariuszem w Benchmark, firmie typu venture capital. Fenton systematycznie piął się w górę na liście 100 największych inwestorów technologicznych magazynu Forbes Midas, zaczynając od nr. 94 w 2007 r., a następnie wzrósł do nr. 62 w 2008 r. i nie. 50. w 2009 r. Fenton znalazł się na 1. miejscu. „Forbes” wznowił publikowanie swojej Listy Midasa w 2011 roku i został opisany jako „najbardziej produktywny inwestor venture capital na naszej liście”. W 2012 roku Fenton znalazł się na 1. miejscu. miejsce na liście Midasa magazynu Forbes i nr 5. 2 w 2015 roku.\n",
      "Pytanie: Donald B. Prell to inwestor kapitału wysokiego ryzyka, autor i futurysta, który stworzył „Datamation”, którego właścicielem jest QuinStreet i który jest publikowany w formie magazynu internetowego na jakiej stronie internetowej?\n",
      "\n",
      "Donald B. Prell, inwestor venture capital, autor i futurysta, stworzył „Datamation”, które jest obecnie własnością QuinStreet i jest publikowane jako magazyn internetowy na Datamation.com [6][7].\n",
      "\n",
      "\n",
      "Dokument [1]: R przeciwko Johnowi Terry’emu była to angielska sprawa karna z 2012 r., w której uznano, że piłkarz Premiership John Terry jest niewinny znęcania się na tle rasowym nad piłkarzem Queens Park Rangers Antonem Ferdinandem podczas meczu piłki nożnej pomiędzy drużynami Chelsea i QPR w dniu 23 października 2011 r. Sprawa odbiła się szerokim echem w mediach w Wielkiej Brytanii, ponieważ zarzuty rasizmu miały kilka konsekwencji w piłce nożnej, w tym utratę przez Johna Terry'ego kapitana reprezentacji Anglii w piłce nożnej, a następnie odejście trenera Anglii Fabio Capello ze stanowiska menedżera kiedy Związek Piłki Nożnej podjął tę decyzję.\n",
      "Dokument [2]: Stein Berg Johansen (ur. 10 czerwca 1969) to emerytowany norweski napastnik piłki nożnej i obecny trener.\n",
      "Dokument [3]: Kevin Randall (urodzony 20 sierpnia 1945 w Ashton-under-Lyne w Anglii) to były piłkarz i menadżer, a obecnie główny skaut w Leeds United. Randall dołączył do Neila Warnocka w Leeds latem 2012 roku, wcześniej pracował pod okiem Warnocka jako główny skaut w Sheffield United, Crystal Palace i Q.P.R.\n",
      "Dokument [4]: Mervyn Day (urodzony 26 czerwca 1955 w Chelmsford, Essex) to były zawodowy piłkarz, który grał w Football League jako bramkarz w drużynach West Ham United, Leyton Orient, Aston Villa, Leeds United , Luton Town, Sheffield United i Carlisle United. Później zarządzał Carlisle United. Wcześniej był głównym skautem w Leeds United.\n",
      "Dokument [5]: Gwyn Williams jest byłym dyrektorem technicznym Leeds United i byłym głównym skautem Chelsea, który odkrył Johna Terry'ego i pomógł drużynie londyńskiej zarobić 14 milionów funtów na Tore André Flo.\n",
      "Dokument [6]: Anthony Carr MBE (ur. 5 września 1950 r.) to angielski trener sportowy i były dyrektor ds. rozwoju młodzieży w akademii młodzieżowej klubu piłkarskiego West Ham United i jest uznawany za jedną z najbardziej wpływowych postaci w angielskim futbolu. Będąc byłym absolwentem akademii, którego karierę piłkarską przerwała kontuzja, dołączył do sztabu klubu jako trener młodzieży w 1973 roku. Od tego czasu, gdy pełnił funkcję dyrektora, począwszy od 2010 roku, Carr jest uznawany za twórcę talentów, które zarobiły szacunkowo 80 milionów funtów z opłat transferowych dla klubu, podczas gdy 23-osobowy skład Anglii na Mistrzostwa Świata FIFA 2010 składał się z co najmniej siedmiu zawodników trenowanych przez Carra – Rio Ferdinanda, Franka Lamparda, Joe Cole’a, Michaela Carricka, Jermaina Defoe, Glena Johnsona i Johna Terry’ego.\n",
      "Dokument [7]: Tore André Flo (ur. 15 czerwca 1973) to emerytowany norweski napastnik piłki nożnej i trener młodzieży. 76 razy wystąpił w reprezentacji, strzelając 23 gole dla Norwegii, reprezentował swój kraj na Mistrzostwach Świata FIFA 1998 i UEFA Euro 2000 oraz strzelił pierwszego gola dla Norwegii, gdy Norwegia wygrała 2: 1 z Brazylią i awansowała do drugiej rundy Mistrzostw Świata 1998 .\n",
      "Dokument [8]: Michael „Micky” Cook (ur. 9 kwietnia 1951) to były angielski piłkarz grający na pozycji prawego obrońcy. Cook całą swoją karierę spędził w Colchester United, występując w 614 meczach w Football League i będąc klubowym rekordzistą pod względem występów. W swojej karierze był częścią drużyny, która zdobyła Puchar Watneya i pokonała Leeds United w Pucharze Anglii. Po przejściu na emeryturę został trenerem młodzieży w Colchester, a w 1999 r. przez krótki okres pełnił funkcję tymczasowego menedżera. Jego czas w klubie zakończył się w 2004 r., kiedy został zwolniony przez klub. Jako trener młodzieży pomagał rozwijać takie talenty jak Lomana Tresor Lua Lua.\n",
      "Dokument [9]: Lars Hjorth (ur. 15 sierpnia 1959) to emerytowany norweski napastnik piłki nożnej i działacz sportowy, obecnie dyrektor zarządzający Stabæk Fotball.\n",
      "Dokument [10]: Jan Kristian Fjærestad (ur. 4 września 1963) jest emerytowanym norweskim napastnikiem piłki nożnej. Grał w drużynie Moss F.K. i został najlepszym strzelcem norweskiej Premier League z 18 golami w 1987 roku, w którym Moss zdobył tytuł mistrzowski.\n",
      "Pytanie: Gwyn Williams jest byłym dyrektorem technicznym Leeds United i byłym głównym skautem Chelsea, który odkrył Johna Terry’ego i pomógł zarobić 14 milionów funtów, dzięki czemu obecnie emerytowany norweski napastnik i trener młodzieży?\n",
      "\n",
      "Gwyn Williams, pełniąc funkcję głównego skauta Chelsea, pomógł odkryć Johna Terry’ego i był zaangażowany w osiągnięcie 14 milionów funtów zysku na Tore André Flo [5][7].\n",
      "\n",
      "\n",
      "Dokument [1]: Gorillaz to angielski wirtualny zespół założony w 1998 roku przez muzyka Damona Albarna i artystę Jamiego Hewletta. Zespół składa się z czterech animowanych członków: 2-D (wokal prowadzący, instrumenty klawiszowe), Murdoc Niccals (gitara basowa), Noodle (gitara, instrumenty klawiszowe) i Russel Hobbs (perkusja i instrumenty perkusyjne). Członkowie ci są fikcyjni i nie są postaciami żadnego „prawdziwego” muzyka zaangażowanego w projekt. Ich fikcyjny świat jest eksplorowany poprzez teledyski zespołu, a także szereg innych krótkich kreskówek. W rzeczywistości Albarn jest jedynym stałym twórcą muzyki, a muzyka jest często efektem współpracy różnych muzyków. Pisarze i krytycy opisali ich muzykę jako alternatywny rock, trip hop, alternatywny hip hop, elektronika, indie, britpop, dance-rock, rap rock, dub, reggae i pop.\n",
      "Dokument [2]: Stuart Harold „2-D” Pot to fikcyjna postać będąca muzykiem i członkiem brytyjskiego wirtualnego zespołu Gorillaz. Zapewnia główny wokal i gra na klawiszach w zespole. Głos 2-D zapewnia frontman Blur, Damon Albarn, w nagraniach i występach Gorillaz, natomiast w materiałach dodatkowych jego głos zapewnia aktor Nelson De Freitas w różnych projektach Gorillaz direct-to-video, takich jak „” i „” . W 2017 roku Kevin Bishop został obsadzony w roli nowego głosu mówiącego w 2-D. Został stworzony przez Damona Albarna i Jamiego Hewletta.\n",
      "Dokument [3]: Live at the De De De Der to tytuł dwóch albumów koncertowych angielskiego muzyka Damona Albarna, nagranych przez Abbey Road Studios podczas jego dwóch kolejnych występów w Royal Albert Hall w Londynie w dniach 15 i 16 listopada 2014, do sprzedaży bezpośrednio po każdym koncercie. W występach bierze udział zespół Albarna The Heavy Seas, a gościnnie wystąpią tacy artyści jak Brian Eno, De La Soul, Kano i kolega z zespołu Albarn Blur Graham Coxon. Albumy zawierają utwory z wielu projektów Albarna, w tym utwory Gorillaz, Blur, The Good, the Bad & the Queen i Mali Music. Albumy zostały wypuszczone wyłącznie do sprzedaży podczas dwóch występów oraz na stronie internetowej Abbey Road Studios. Okładkę zaprojektowała wieloletnia partnerka Damona Albarna, Suzi Winstanley.\n",
      "Dokument [4]: Damon Albarn, OBE (; ur. 23 marca 1968) to angielski piosenkarz, autor tekstów i multiinstrumentalista. Jest wokalistą brytyjskiego zespołu rockowego Blur oraz współzałożycielem, wokalistą, instrumentalistą i głównym autorem tekstów wirtualnego zespołu Gorillaz. Albarn jest także częścią dwóch supergrup, jednej znanej zwykle jako The Good, the Bad & the Queen, chociaż stwierdza się, że oficjalnie nie mają one nazwy, oraz drugiej o nazwie Rocket Juice & the Moon.\n",
      "Dokument [5]: Bananaz to brytyjski film dokumentalny z 2008 roku w reżyserii Ceri Levy o wirtualnym zespole Damona Albarna i alternatywnego rocka Jamiego Hewletta Gorillaz.\n",
      "Dokument [6]: Russel Hobbs to fikcyjny amerykański muzyk i członek brytyjskiego wirtualnego zespołu Gorillaz. Zapewnia perkusję i instrumenty perkusyjne dla zespołu. Podobnie jak wszyscy pozostali członkowie zespołu Gorillaz, został stworzony przez Damona Albarna i Jamiego Hewletta w 1998 roku. Głos Russela zapewnia Remi Kabaka\n",
      "Dokument [7]: Noodle to fikcyjny japoński muzyk i członek brytyjskiego wirtualnego zespołu Gorillaz. Zapewnia zespołowi gitarę prowadzącą, a także okazjonalnie wokal główny i wspierający. Podobnie jak wszyscy pozostali członkowie zespołu Gorillaz, została utworzona w 1998 roku przez Damona Albarna i Jamiego Hewletta. Głosu Noodle użyczyli japońska aktorka Haruka Kuroda, piosenkarka i autorka tekstów Miho Hatori z triphopowej grupy Cibo Matto oraz basistka Talking Heads Tina Weymouth.\n",
      "Dokument [8]: Małpa: Podróż na Zachód to sceniczna adaptacja powieści „Podróż na Zachód” autorstwa Wu Cheng'ena. Został wymyślony i stworzony przez chińskiego aktora i reżysera Chen Shi-Zhenga wraz z brytyjskim muzykiem Damonem Albarnem i brytyjskim artystą Jamiem Hewlettem.\n",
      "Dokument [9]: „Tomorrow Comes Today” to piosenka z debiutanckiego albumu wirtualnego zespołu rocka alternatywnego Gorillaz, zatytułowanego „Gorillaz”, który był ich pierwszym wydawnictwem po wydaniu EP w listopadzie 2000 roku. trzy piosenki z EP znalazły się na ich debiutanckim albumie, jednak „Latin Simone” został mocno zredagowany i dubbingowany na język hiszpański na potrzeby wydania albumu. Nowa wersja została zaśpiewana przez Ibrahima Ferrera i przemianowana na „Latin Simone (¿Que Pasa Contigo?)”. Oryginalna wersja jest śpiewana przez 2D (głos Damona Albarna) i pojawia się wraz z „12D3” na wydanej później kompilacji „G Sides”. Sama piosenka była także czwartym i ostatnim singlem z tego albumu, wydanego 25 lutego 2002 roku. Zadebiutował na 33. miejscu na brytyjskiej liście przebojów singli. Wersja demonstracyjna utworu „I Got The Law” została dołączona jako utwór dodatkowy do japońskiego wydania „13” zespołu Blur, innego muzycznego projektu Damona Albarna.\n",
      "Dokument [10]: Haruka Kuroda (黒田はるか, Kuroda Haruka) to mieszkająca w Londynie japońska aktorka, która jest powszechnie znana z wykonywania głosu Noodle z wirtualnego zespołu rockowego Gorillaz Damona Albarna i Jamiego Hewletta podczas fazy 1. Urodziła się w Kioto w Japonii.\n",
      "Pytanie: Damon Albarn to angielski piosenkarz, autor tekstów i multiinstrumentalista oraz główny autor tekstów wirtualnego zespołu Gorillaz, angielskiego wirtualnego zespołu utworzonego w którym roku przez muzyka Damona Albarna i artystę Jamiego Hewletta?\n",
      "\n",
      "Angielski wirtualny zespół Gorillaz został założony w 1998 roku przez muzyka Damona Albarna i artystę Jamiego Hewletta [1]. Damon Albarn to angielski piosenkarz, autor tekstów i multiinstrumentalista oraz główny autor tekstów wirtualnego zespołu Gorillaz [4].\n",
      "\n",
      "\n",
      "Dokument [1]: Burza tropikalna Rachel była jedynym cyklonem tropikalnym, który dotarł na ląd w sezonie huraganów na Pacyfiku w 1990 r. Dwudziesta czwarta depresja tropikalna i osiemnasta nazwana burza Rachel rozwinęły się 27 września w wyniku fali tropikalnej na południowy zachód od kontynentalnego Meksyku. Po przejściu w depresję tropikalną, system powoli podążał w kierunku południowo-zachodnim i ostatecznie zakrzywił się w kierunku północno-zachodnim. Po trzech dniach depresja nasiliła się i przekształciła w burzę tropikalną, a Narodowe Centrum Huraganów nadało jej nazwę „Rachel”. Rachel w dalszym ciągu stale się wzmacniała, a jej szczyt osiągnął jako silna burza tropikalna o prędkości 100 km/h 2 października. Po osiągnięciu maksymalnej intensywności Rachel ponownie zakręciła, aby dotrzeć na ląd w południowej części Baja California Sur i ponownie na kontynencie Meksyku 3 października. Burza spowodowała obfite opady deszczu w północnym Meksyku i południowo-zachodnich Stanach Zjednoczonych. Tysiące ludzi zostało bez dachu nad głową, a 18 ofiar śmiertelnych.\n",
      "Dokument [2]: Huragan Iris z 2001 r. był najbardziej niszczycielskim huraganem w Belize od czasu huraganu Hattie w 1961 r. Iris był drugą najsilniejszą burzą sezonu huraganów na Atlantyku w 2001 r., po huraganie Michelle. Była to dziewiąta nazwana burza, piąty huragan i trzeci główny huragan w roku, który powstał w wyniku fali tropikalnej 4 października na południowy wschód od Barbadosu. Przeniosła się na zachód przez Karaiby, przybierając na sile w burzę tropikalną 5 października na południe od Portoryko, a następnego dnia w huragan. Przechodząc na południe od Republiki Dominikany, Iris spadł z ulewnych opadów deszczu, które spowodowały osunięcia ziemi, w wyniku których zginęło osiem osób. Później huragan przeszedł na południe od Jamajki, gdzie zniszczył dwa domy. Po dotarciu do zachodniego Morza Karaibskiego Iris szybko nasiliła się, osiągając kategorię 4 w skali Saffira – Simpsona. Iris, mały huragan z okiem o średnicy zaledwie 11 km, osiągnął maksymalną prędkość wiatru 230 km/h, zanim 9 października dotarł na ląd w południowym Belize w pobliżu Monkey River Town. Huragan szybko rozproszył się nad Centralną Ameryka, chociaż jej pozostałości przyczyniły się do powstania burzy tropikalnej Manuel we wschodnim Pacyfiku.\n",
      "Dokument [3]: Burza tropikalna Beryl była najsilniejszym w historii atlantyckim cyklonem tropikalnym poza sezonem, który dotarł na ląd w Stanach Zjednoczonych. Beryl, drugi cyklon tropikalny sezonu huraganów na Atlantyku w 2012 r., powstał 26 maja z układu niskiego ciśnienia u wybrzeży Karoliny Północnej. Początkowo subtropikalna burza powoli nabrała cech tropikalnych, przemieszczając się po cieplejszych temperaturach powierzchni morza i w środowisku o malejącym pionowym uskoku wiatru. Pod koniec 27 maja Beryl przeszła w cyklon tropikalny niecałe 200 km od północnej Florydy. Następnego dnia wcześnie rano burza dotarła do brzegu w pobliżu Jacksonville Beach na Florydzie, a szczytowy wiatr osiągał prędkość 100 km/h. Szybko osłabł, przechodząc w tropikalną depresję, zrzucając ulewne opady deszczu, przemieszczając się powoli przez południowo-wschodnie Stany Zjednoczone. Zimny ​​front skierował Beryl na północny wschód, a 30 maja burza stała się pozatropikalna.\n",
      "Dokument [4]: Prognozowanie opadów w cyklonie tropikalnym obejmuje wykorzystanie modeli naukowych i innych narzędzi do przewidywania opadów oczekiwanych w cyklonach tropikalnych, takich jak huragany i tajfuny. Znajomość klimatologii opadów cyklonów tropikalnych jest pomocna w ustalaniu prognozy opadów cyklonów tropikalnych. Więcej opadów spada przed centrum cyklonu niż po jego następstwie. Najwięcej opadów przypada na centralne, gęste zachmurzenie i ścianę oczną. Wolno poruszające się cyklony tropikalne, takie jak huragan Danny i huragan Wilma, mogą powodować największe ilości opadów z powodu przedłużających się ulewnych opadów w określonym miejscu. Jednakże pionowy uskok wiatru prowadzi do zmniejszenia ilości opadów, ponieważ opady są preferowane w dół i nieco na lewo od środka, a strona z uskokiem w górę pozostaje pozbawiona opadów. Obecność wzgórz lub gór w pobliżu wybrzeża, jak ma to miejsce w przypadku dużej części Meksyku, Haiti, Republiki Dominikany, dużej części Ameryki Środkowej, Madagaskaru, Reunionu, Chin i Japonii, powoduje zwiększenie ilości wzgórz po nawietrznej stronie z powodu wymuszonego wynurzania powodując obfite opady deszczu w górach. Silny system przemieszczający się przez średnie szerokości geograficzne, taki jak zimny front, może prowadzić do dużych ilości gazów z systemów tropikalnych, występujących na długo przed jego centrum. Ruch cyklonu tropikalnego nad chłodną wodą również ograniczy jego potencjał opadów. Połączenie czynników może prowadzić do wyjątkowo dużych ilości opadów, co zaobserwowano podczas huraganu Mitch w Ameryce Środkowej.\n",
      "Dokument [5]: Huragan Klaus był minimalnym huraganem atlantyckim, który spowodował ulewne deszcze na Małych Antylach w październiku 1990 r. Klaus był jedenastym cyklonem tropikalnym i szóstym huraganem sezonu huraganów na Atlantyku w 1990 r. Klaus rozwinął się z fali tropikalnej 3 października niedaleko na wschód od Dominiki. Dryfował na północny zachód i szybko się nasilił, by 5 października osiągnąć status huraganu. Chociaż najbliższe podejście do Małych Antyli znajdowało się na odległość 12 mil (19 km), najsilniejsze wiatry utrzymywały się na północnym wschodzie ze względu na silne uskoki wiatru, które powodowały, że Klaus stale się przemieszczał. osłabiać. Po popadnięciu w tropikalną depresję Klaus na krótko umocnił się nad Bahamami, po czym rozproszył się 9 października pod wpływem rozwijającej się burzy tropikalnej Marco.\n",
      "Dokument [6]: Huragan Olga był huraganem kategorii 1 na północnym Atlantyku, występującym późnym sezonem, który powstał w sezonie huraganów na Atlantyku w 2001 r. Piętnasta nazwana burza, dziewiąty i ostatni huragan sezonu 2001. Olga uformowała się 24 listopada w postaci subtropikalnego cyklonu. Później tego samego dnia Olga uzyskała cechy tropikalne. Powędrowała na zachód i ostatecznie 26 listopada osiągnęła status huraganu. Wiatr Olgi osiągnął maksymalną temperaturę 90°C. mil na godzinę (150 km/h), zanim burza skręciła na południowy zachód i ponownie osłabła, przekształcając się w burzę tropikalną. 30 listopada sytuacja uległa dalszemu pogorszeniu, aż do tropikalnej depresji, chociaż dwa dni później ponownie się nasiliła, osiągając intensywność burzy tropikalnej. Następnie 4 grudnia na wschód od Bahamów Olga rozproszyła się w postaci cyklonu tropikalnego. Jego szkodliwe skutki ograniczały się do statków na morzu. Pozostałości cyklonu spowodowały obfite opady deszczu na Bahamach i Florydzie. Była to stosunkowo rzadka burza, która miała miejsce w grudniu, czyli poza normalnym sezonem huraganów na Atlantyku.\n",
      "Dokument [7]: Burza tropikalna Ana była najwcześniej zarejestrowanym cyklonem tropikalnym, który dotarł na ląd w Stanach Zjednoczonych w danym roku. Ana, stosunkowo rzadki system przedsezonowy, była pierwszą burzą tropikalną w sezonie huraganów na Atlantyku w 2015 r. Rozwinął się jako subtropikalny cyklon z nietropikalnego niżu na północ od Bahamów i nasilił się, osiągając szczytową prędkość wiatru wynoszącą 60 mil na godzinę, po czym na początku 9 maja przeszedł w całkowicie tropikalny cyklon. Częściowo utrzymywany przez ciepłe wody Prądu Zatokowego, Ana dotarła na ląd wzdłuż północno-wschodniego wybrzeża Karoliny Południowej następnego ranka, stając się najwcześniejszym zarejestrowanym systemem lądowania w USA. Ogólnie rzecz biorąc, szkody spowodowane przez burzę były niewielkie. Ulewne deszcze i porywiste wiatry dotknęły części Karoliny, a niektóre wrażliwe plaże ucierpiały z powodu powodzi i erozji na kilka stóp. Porywiste wiatry uszkodziły drzewa i linie energetyczne, powodując sporadyczne przerwy w dostawie prądu, a w związku z Aną zgłoszono słabe tornado. W Karolinie Północnej burzy przypisano dwie ofiary śmiertelne – jedną bezpośrednią i jedną pośrednią.\n",
      "Dokument [8]: Powodzie w Ameryce Środkowej w październiku 2008 r. zostały spowodowane przez szereg obszarów niżowych, w tym szesnastą depresję tropikalną, krótkotrwały cyklon tropikalny występujący w sezonie huraganów na Atlantyku w 2008 r., który dotarł na ląd w Hondurasie. Obfite opady deszczu rozpoczęły się na początku października 2008 r., kiedy przez region przeszła fala tropikalna. 14 października tuż u północno-wschodniego wybrzeża Hondurasu utworzył się szesnasty kryzys tropikalny, a w tym samym czasie na wybrzeżu Pacyfiku panował system niskiego ciśnienia. Obydwa systemy zwiększyły opady w całym regionie, chociaż 15 października depresja spadła ulewnie w pobliżu jej środka, gdy dotarła na brzeg. Chociaż szesnasta depresja tropikalna szybko rozproszyła się na lądzie, jej pozostałości utrzymywały się przez kilka dni. 21 października inny obszar niskiego ciśnienia wszedł w interakcję z frontem chłodnym, zwiększając liczbę opadów w regionie.\n",
      "Dokument [9]: Huragan Abby dotarł na ląd na Kubie, Florydzie i Karolinie Północnej w czerwcu 1968 r. Pierwszy cyklon tropikalny, po raz pierwszy nazwany burzą i pierwszym huraganem w tym sezonie, Abby rozwinął się w ciągu północno-zachodnie Morze Karaibskie 1 czerwca w wyniku interakcji między rynną środkową troposfery a chłodnym frontem. Poruszając się generalnie w kierunku północno-północno-wschodnim, depresja powoli się pogłębiała, zbliżając się do zachodniego krańca Kuby, przekształcając się pod koniec 2 czerwca w burzę tropikalną Abby. Wkrótce potem Abby dotarła na ląd w prowincji Pinar del Río. Burza sprowadziła obfite opady deszczu w zachodniej Kubie, do 12 stopni na Isla de la Juventud. Nie zgłoszono jednak żadnej powodzi. Po dotarciu 3 czerwca do południowo-wschodniej Zatoki Meksykańskiej Abby wzmocnił się jeszcze bardziej i stał się huraganem 1. kategorii według współczesnej skali huraganu Saffira – Simpsona. Jednak na początku 4 czerwca Abby osłabła w wyniku burzy tropikalnej. Około południa 4 czerwca system dotarł na ląd w pobliżu Punta Gorda na Florydzie jako silna burza tropikalna.\n",
      "Dokument [10]: Burza tropikalna Marco była jedynym cyklonem tropikalnym, który dotarł na ląd w Stanach Zjednoczonych w sezonie huraganów na Atlantyku w 1990 r. Marco, 13. burza sezonu, uformowała się 9 października z obszaru niskiego ciśnienia o zimnym rdzeniu wzdłuż północnego wybrzeża Kuby i podążała na północny zachód przez wschodnią Zatokę Meksykańską. Tropikalna burza Marco, rozprzestrzeniająca się głównie w zachodniej części Florydy, wytwarzała nad lądem wiatr o prędkości 65 mil na godzinę (100 km / h). Jednak osłabł do tropikalnej depresji, zanim wypłynął na brzeg w pobliżu Cedar Key. Cyklon w połączeniu z chłodnym frontem atmosferycznym i pozostałościami huraganu Klaus spowodował obfite opady deszczu w Gruzji i Karolinach. Po wejściu w interakcję z pobliskim huraganem Lili, Marco kontynuował podróż na północ, aż 13 października został pochłonięty przez zimny front.\n",
      "Pytanie: Burza tropikalna Marco była jedynym cyklonem tropikalnym, który dotarł na ląd w Stanach Zjednoczonych w sezonie huraganów na Atlantyku w 1990 r., kiedy cyklon w połączeniu z frontem chłodnym spowodował obfite opady deszczu w Gruzji i Karolinach, wraz z pozostałością huraganu Klaus, minimalny huragan atlantycki, który w październiku którego roku spowodował ulewne deszcze na Małych Antylach?\n",
      "\n",
      "Burza tropikalna Marco była jedynym cyklonem tropikalnym, który dotarł na ląd w Stanach Zjednoczonych w sezonie huraganów na Atlantyku w 1990 r. [10]. W połączeniu z chłodnym frontem atmosferycznym i pozostałościami huraganu Klaus, minimalnego huraganu atlantyckiego, który w październiku 1990 r. spowodował ulewne opady deszczu na Małych Antylach [5], spowodowały obfite opady deszczu w Gruzji i Karolinach [10].\n",
      "\n",
      "\n"
     ]
    }
   ],
   "source": [
    "print_random(without_title_pl, 10)"
   ]
  },
  {
   "cell_type": "code",
   "execution_count": 10,
   "metadata": {},
   "outputs": [
    {
     "name": "stderr",
     "output_type": "stream",
     "text": [
      "Saving the dataset (1/1 shards): 100%|██████████| 9443/9443 [00:00<00:00, 222884.58 examples/s]\n",
      "Saving the dataset (1/1 shards): 100%|██████████| 146/146 [00:00<00:00, 40653.81 examples/s]\n",
      "Creating parquet from Arrow format: 100%|██████████| 10/10 [00:00<00:00, 37.28ba/s]\n",
      "Uploading the dataset shards: 100%|██████████| 1/1 [00:03<00:00,  3.88s/it]\n",
      "Creating parquet from Arrow format: 100%|██████████| 1/1 [00:00<00:00, 212.10ba/s]\n",
      "Uploading the dataset shards: 100%|██████████| 1/1 [00:01<00:00,  1.03s/it]\n"
     ]
    },
    {
     "data": {
      "text/plain": [
       "CommitInfo(commit_url='https://huggingface.co/datasets/tdolega/rag-tge_finetuning-dataset_pl/commit/3edf07fc7f3208dcc755d363f814a02277c2d27b', commit_message='Upload dataset', commit_description='', oid='3edf07fc7f3208dcc755d363f814a02277c2d27b', pr_url=None, pr_revision=None, pr_num=None)"
      ]
     },
     "execution_count": 10,
     "metadata": {},
     "output_type": "execute_result"
    }
   ],
   "source": [
    "final_ds = without_title_pl\n",
    "final_ds.save_to_disk(DS_SAVE_PATH + \"-pl\" + \"-v2\")\n",
    "final_ds.push_to_hub(DS_UPLOAD_PATH + \"_pl\")"
   ]
  }
 ],
 "metadata": {
  "kernelspec": {
   "display_name": "p311",
   "language": "python",
   "name": "python3"
  },
  "language_info": {
   "codemirror_mode": {
    "name": "ipython",
    "version": 3
   },
   "file_extension": ".py",
   "mimetype": "text/x-python",
   "name": "python",
   "nbconvert_exporter": "python",
   "pygments_lexer": "ipython3",
   "version": "3.11.9"
  }
 },
 "nbformat": 4,
 "nbformat_minor": 2
}
