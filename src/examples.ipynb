{
 "cells": [
  {
   "cell_type": "code",
   "execution_count": 19,
   "metadata": {},
   "outputs": [],
   "source": [
    "import pandas as pd"
   ]
  },
  {
   "cell_type": "code",
   "execution_count": 20,
   "metadata": {},
   "outputs": [
    {
     "name": "stdout",
     "output_type": "stream",
     "text": [
      "According to the provided search results, Jordan Subban, not Malcolm Subban, is the professional ice hockey player related to P.K. Subban and drafted first overall [4][5]. Jordan Subban was selected by the Vancouver Canucks in the fourth round (115th overall) of the 2013 NHL Entry Draft [4]. Malcolm Subban, on the other hand, was selected by the Boston Bruins in the first round (24th overall) of the 2012 NHL Entry Draft [5]. \n",
      "\n",
      "According to the provided search results, Jordan Subban, the brother of P.K. Subban, was drafted first overall by the Vancouver Canucks in the 2013 NHL Entry Draft [4]. P.K. Subban is a professional ice hockey player for the Nashville Predators [5]. Jordan Subban is a Canadian professional ice hockey defenceman for the Utica Comets of the American Hockey League (AHL) [4]. The other brother, Malcolm Subban, was also drafted by the Boston Bruins in the first round of the 2012 NHL Entry Draft [5]. \n",
      "\n",
      "According to the provided search results, Jordan Subban, not Malcolm Subban, is the professional ice hockey player related to P.K. Subban and drafted first overall [4][5]. Jordan Subban was selected by the Vancouver Canucks in the fourth round (115th overall) of the 2013 NHL Entry Draft [4]. Malcolm Subban, on the other hand, was selected by the Boston Bruins in the first round (24th overall) of the 2012 NHL Entry Draft [5]. Jordan Subban is one of the three Subban brothers to be drafted into the NHL, the other two being Malcolm Subban and P.K. Subban [4]. P.K. Subban is a defenceman with the Nashville Predators [5]. Moala Tautuaa, an American born Filipino-Tongan professional basketball player, was drafted first overall by the TNT KaTropa in the 2015 PBA draft [6]. The professional hockey player related to P.K. Subban and drafted first is Jordan Subban [4]. \n",
      "\n",
      ">>>>>>>>>>>>>>>>>>>>>>>>>>>>>>>>>>>>>>>>>>>>>>>>>> \n",
      "\n",
      "Flynn Intel Group, a lobbying group, was established by Michael Flynn, who served as the 25th National Security Advisor for President Donald Trump from January 20 to February 13, 2017 [1][2]. Flynn Intel Group provides intelligence services for businesses and governments, including ones in Turkey [2]. Prior to his tenure as National Security Advisor, Flynn served as the Director of the Defense Intelligence Agency and retired as a three-star Lieutenant General in the United States Army [1]. Flynn Intel Group was established from an Alexandria, Va., townhouse owned by Stanley A. McChrystal, a friend and fellow general-turned-consultant [2]. The company has provided intelligence services for businesses and governments, including ones in Turkey [2]. Flynn Intel Group was established by Michael Flynn, who served as the 25th National Security Advisor for President Donald Trump from January 20 to February 13, 2017 [1][2]. Flynn Intel Group, a lobbying group, was established by Michael Flynn, who served as the 25th National Security Advisor for President Donald Trump from January 2 \n",
      "\n",
      "Flynn Intel Group, a lobbying group, was established by Michael Flynn, who served as the 25th National Security Advisor for President Donald Trump from January 20 to February 13, 2017 [1][2]. Flynn also briefly served as the Director of the Defense Intelligence Agency and retired from the military in August 2014 [1]. Flynn Intel Group provides intelligence services for businesses and governments, including ones in Turkey [2]. Flynn was appointed as the 25th National Security Advisor after serving as the Director of the Defense Intelligence Agency [1]. He served in this role from January 20 to February 13, 2017 [1]. Flynn Intel Group was established by Flynn and is a lobbying group with House Identification 433680001 and Senate Identification 401104161 [2]. The group provides intelligence services for businesses and governments, including ones in Turkey [2]. Flynn also served as the Director of the Defense Intelligence Agency and retired from the military in August 2014 [1]. He was appointed as the 25th National Security Advisor \n",
      "\n",
      "Flynn Intel Group, a lobbying group, was established by Michael Flynn, who served as the 25th National Security Advisor for President Donald Trump from January 20 to February 13, 2017 [1][2]. Flynn Intel Group provides intelligence services for businesses and governments, including ones in Turkey [2]. Flynn served in the Army for 33 years until 2014 and was appointed as the eighteenth director of the Defense Intelligence Agency [1]. He also briefly served as the twenty-fifth National Security Advisor for President Donald Trump [1]. Flynn Intel Group is a House Identification 433680001 and Senate Identification 401104161 [2]. \n",
      "\n",
      ">>>>>>>>>>>>>>>>>>>>>>>>>>>>>>>>>>>>>>>>>>>>>>>>>> \n",
      "\n",
      "According to Transparency International's 2016 Corruption Perceptions Index, Afghanistan ranked 169 out of 176 countries [4]. This ranking is due to the widespread and growing problem of corruption in Afghan society, which includes crimes such as contract killings or assassinations, kidnapping, drug trafficking, money laundering, black marketeering, and other ordinary crimes [9]. It is important to note that the Corruption Perceptions Index measures the perceived level of corruption within the public sector, and does not necessarily reflect the overall crime rate in a country [2]. \n",
      "\n",
      "According to Transparency International's 2016 Corruption Perceptions Index, Afghanistan ranked 169 out of 176 countries [4]. This ranking is due to the widespread and growing problem of corruption in Afghan society, which includes crimes such as contract killings or assassinations, kidnapping, drug trafficking, money laundering, black marketeering, and other ordinary crimes [9]. It is important to note that the Corruption Perceptions Index measures the level of public sector corruption, and does not specifically address criminal activities such as those mentioned [4][9]. However, corruption can contribute to an environment where criminal activities are not effectively addressed, and can even facilitate such activities. [4][9] \n",
      "\n",
      "According to Transparency International's 2016 Corruption Perceptions Index, Afghanistan ranked 169 out of 176 countries [4]. This ranking is due to the widespread and growing problem of corruption in Afghan society, which includes crimes such as contract killings or assassinations, kidnapping, drug trafficking, money laundering, black marketeering, and other ordinary crimes [9]. The Corruption Perceptions Index is a global index that measures the perceived level of public sector corruption in a country, with 10.0 being the most clean and 0.0 being the most corrupt [2]. The 2016 index ranked Afghanistan at 2.0, which is the second lowest score out of 176 countries [4]. This score indicates that corruption is a significant problem in Afghanistan's public sector [4]. \n",
      "\n",
      ">>>>>>>>>>>>>>>>>>>>>>>>>>>>>>>>>>>>>>>>>>>>>>>>>> \n",
      "\n",
      "750 7th Avenue and 101 Park Avenue are located in New York City [2][4]. Specifically, 101 Park Avenue is located in Manhattan, New York [2], while 750 7th Avenue is also located in Manhattan, New York [4].  \n",
      "\n",
      "750 7th Avenue and 101 Park Avenue are located in New York City [2][4]. Specifically, 101 Park Avenue is located in Manhattan, New York [2], while 750 7th Avenue is also located in Manhattan, New York [4].  \n",
      "\n",
      "750 7th Avenue and 101 Park Avenue are located in New York City [2][4]. Specifically, 101 Park Avenue is located in Manhattan, New York [2], while 750 7th Avenue is also located in Manhattan, New York [4].  \n",
      "\n",
      ">>>>>>>>>>>>>>>>>>>>>>>>>>>>>>>>>>>>>>>>>>>>>>>>>> \n",
      "\n",
      "Ælfgifu of Northampton was the first wife of King Cnut of England and Denmark and mother to King Harold I of England, also known as Harold Harefoot [1][9]. The name \"Harefoot\" signifies that Harold was fleet of foot [9]. It is believed to have been given to him in recognition of his physical abilities [9]. The name \"Harold Harefoot\" first appeared in the twelfth century in the history of Ely Abbey [9]. The name \"Harefoot\" is also mentioned in William Shakespeare's \"Macbeth\" as the name of \"Sweno, the Norways' king\" [8]. Sweno is believed to be based on Svein Knutsson, the son of Cnut the Great [8]. Svein was the son of Ælfgifu of Northampton, Cnut's first wife [8]. However, the name \"Harefoot\" is not mentioned in any contemporary sources and may have been a later nickname given to Harold during the reign of his successor, Edward the Confessor [9]. The origin of the name is unclear, but it is associated with Harold's physical abilities and \n",
      "\n",
      "Ælfgifu of Northampton was the first wife of King Cnut of England and Denmark and mother to King Harold I of England, also known as Harold Harefoot [1][9]. The name \"Harefoot\" signifies that Harold was fleet of foot [9]. It is believed to have been derived from the Old English \"Harefoh\" or \"Harefah\" [9]. However, the origin of the name is not explicitly stated in historical records [9]. The name \"Harold Harefoot\" first appeared in the twelfth century in the history of Ely Abbey [9]. It is important to note that the name \"Harold Harefoot\" is not mentioned in the Anglo-Saxon Chronicle, a primary source for medieval English history [9]. The name \"Harefoot\" may have been given to Harold in reference to his physical attributes or as a nickname [9]. The exact meaning and origin of the name \"Harold Harefoot\" remain unclear [9]. \n",
      "\n",
      "Ælfgifu of Northampton was the first wife of King Cnut of England and Denmark, and mother of King Harold I of England (1035-40) [1]. King Harold I, also known as Harold Harefoot, was King of England from 1035 to 1040 [9]. The name \"Harefoot\" is believed to mean that he was fleet of foot [9]. However, the origin of the name \"Harold Harefoot\" is not explicitly stated in historical records, and it first appeared in twelfth-century chronicles [9]. It is worth noting that the name \"Harold Harefoot\" is not mentioned in the biography of Ælfgifu of Northampton, but rather in the biography of her son, King Harold I [1]. The name \"Harold Harefoot\" may have been given to him in later years, after he had established his position as King of England [9]. \n",
      "\n",
      ">>>>>>>>>>>>>>>>>>>>>>>>>>>>>>>>>>>>>>>>>>>>>>>>>> \n",
      "\n"
     ]
    }
   ],
   "source": [
    "# answers_path = '../data/answers/llm=rag-tge_Llama-3-8B_LoRA__prompt_id=1__temperature=0.1.jsonl'\n",
    "# answers_path = '../data/answers/llm=rag-tge_Mistral_v2-3360__prompt_id=1__temperature=0.1.jsonl'\n",
    "\n",
    "answers = pd.read_json(answers_path, lines=True)\n",
    "for i, row in answers.head().iterrows():\n",
    "    for answer in row[\"answers\"]:\n",
    "        print(answer, \"\\n\")\n",
    "    print(\">\" * 50, \"\\n\")"
   ]
  }
 ],
 "metadata": {
  "kernelspec": {
   "display_name": "p311",
   "language": "python",
   "name": "python3"
  },
  "language_info": {
   "codemirror_mode": {
    "name": "ipython",
    "version": 3
   },
   "file_extension": ".py",
   "mimetype": "text/x-python",
   "name": "python",
   "nbconvert_exporter": "python",
   "pygments_lexer": "ipython3",
   "version": "3.11.9"
  }
 },
 "nbformat": 4,
 "nbformat_minor": 2
}
