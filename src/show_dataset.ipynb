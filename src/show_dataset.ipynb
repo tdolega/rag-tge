{
 "cells": [
  {
   "cell_type": "code",
   "execution_count": 1,
   "metadata": {},
   "outputs": [
    {
     "name": "stderr",
     "output_type": "stream",
     "text": [
      "/home/tdolega/miniconda/envs/p311/lib/python3.11/site-packages/tqdm/auto.py:21: TqdmWarning: IProgress not found. Please update jupyter and ipywidgets. See https://ipywidgets.readthedocs.io/en/stable/user_install.html\n",
      "  from .autonotebook import tqdm as notebook_tqdm\n"
     ]
    },
    {
     "data": {
      "text/plain": [
       "Dataset({\n",
       "    features: ['id', 'question', 'answer', 'type', 'level', 'supporting_facts', 'context'],\n",
       "    num_rows: 17972\n",
       "})"
      ]
     },
     "execution_count": 1,
     "metadata": {},
     "output_type": "execute_result"
    }
   ],
   "source": [
    "from common.utils import get_dataset\n",
    "\n",
    "dataset = get_dataset()\n",
    "dataset # <- huggingface dataset object"
   ]
  },
  {
   "cell_type": "code",
   "execution_count": 4,
   "metadata": {},
   "outputs": [
    {
     "name": "stdout",
     "output_type": "stream",
     "text": [
      "{\n",
      "  \"id\": \"5abab42e55429955dce3eed2\",\n",
      "  \"question\": \"Which professional hokey player ins related to P.K. Subban and was drafted first?\",\n",
      "  \"answer\": \"Malcolm Subban\",\n",
      "  \"type\": \"bridge\",\n",
      "  \"level\": \"easy\",\n",
      "  \"supporting_facts\": {\n",
      "    \"title\": [\n",
      "      \"Jordan Subban\",\n",
      "      \"Jordan Subban\",\n",
      "      \"Malcolm Subban\"\n",
      "    ],\n",
      "    \"sent_id\": [\n",
      "      1,\n",
      "      2,\n",
      "      2\n",
      "    ]\n",
      "  },\n",
      "  \"context\": {\n",
      "    \"title\": [\n",
      "      \"Derrick Rose\",\n",
      "      \"Doug McNichol\",\n",
      "      \"Kevin Crowley\",\n",
      "      \"Jordan Subban\",\n",
      "      \"Malcolm Subban\",\n",
      "      \"Moala Tautuaa\",\n",
      "      \"Auston Matthews\",\n",
      "      \"Mike Modano\",\n",
      "      \"Mats Sundin\",\n",
      "      \"Alexandre Daigle\"\n",
      "    ],\n",
      "    \"sentences\": [\n",
      "      [\n",
      "        \"Derrick Martell Rose (born October 4, 1988) is an American professional basketball player for the Cleveland Cavaliers of the National Basketball Association (NBA).\",\n",
      "        \" He played one year of college basketball for the Memphis Tigers before being drafted first overall by his hometown Chicago Bulls in the 2008 NBA draft.\",\n",
      "        \" After being named the NBA Rookie of the Year, Rose, at age 22, became the youngest player to win the NBA Most Valuable Player Award in 2011.\"\n",
      "      ],\n",
      "      [\n",
      "        \"Douglas Stewart McNichol (March 29, 1930 \\u2013 February 15, 2012) was a professional Canadian football player with the Canadian Football League's Montreal Alouettes and the Toronto Argonauts.\",\n",
      "        \" After playing college football at the University of Western Ontario, McNichol was drafted first overall by the Alouettes in the first ever Canadian College Draft in 1953 and spent his entire 11-year CFL career as a defensive lineman.\",\n",
      "        \" McNichol won East All-Star honours in 1953, 1954, 1955, 1958 and 1959.\"\n",
      "      ],\n",
      "      [\n",
      "        \"Kevin Crowley (born November 13, 1988 in New Westminster, British Columbia) is a Canadian professional lacrosse player for the New England Black Wolves in the National Lacrosse League and the Charlotte Hounds in Major League Lacrosse.\",\n",
      "        \" Crowley is the only player in the history of lacrosse to be drafted first overall in both professional leagues.\",\n",
      "        \" Crowley attended New Westminster Secondary School and played his collegiate lacrosse at Stony Brook University.\"\n",
      "      ],\n",
      "      [\n",
      "        \"Jordan-Carmichael Subban (born March 3, 1995) is a Canadian professional ice hockey defenceman for the Utica Comets of the American Hockey League (AHL).\",\n",
      "        \" He was selected by the Vancouver Canucks in the fourth round (115th overall) of the 2013 NHL Entry Draft.\",\n",
      "        \" Jordan is one of the three Subban brothers to be drafted into the NHL, the other two being Malcolm Subban and P. K. Subban.\"\n",
      "      ],\n",
      "      [\n",
      "        \"Malcolm-Jamaal Justin Subban (born December 21, 1993) is a Canadian ice hockey goaltender.\",\n",
      "        \" He currently plays in the American Hockey League with the Providence Bruins as a prospect of the Boston Bruins in the National Hockey League (NHL).\",\n",
      "        \" Subban was selected by the Boston Bruins in the first round (24th overall) of the 2012 NHL Entry Draft.\",\n",
      "        \" He played junior hockey in the Ontario Hockey League with the Belleville Bulls.\",\n",
      "        \" His older brother, P. K. Subban is a defenceman with the Nashville Predators.\",\n",
      "        \" His younger brother Jordan is a prospect for the Vancouver Canucks.\"\n",
      "      ],\n",
      "      [\n",
      "        \"Moala D. Tautuaa Jr. (born April 30, 1989) is an American born Filipino-Tongan professional basketball player for the TNT KaTropa of the Philippine Basketball Association (PBA).\",\n",
      "        \" He was drafted first overall by the TNT Tropang Texters in the 2015 PBA draft.\"\n",
      "      ],\n",
      "      [\n",
      "        \"Auston Matthews (born September 17, 1997) is an American professional ice hockey player for the Toronto Maple Leafs of the National Hockey League (NHL).\",\n",
      "        \" Previously, Matthews played for the U.S. National U18 Team in the USHL.\",\n",
      "        \" Widely considered the top prospect of the 2016 NHL Entry Draft, Matthews was drafted first overall by the Toronto Maple Leafs.\",\n",
      "        \" In his NHL debut Matthews became the first player in modern NHL history to score four goals in his NHL debut.\",\n",
      "        \" He scored 40 goals in his first season, the second rookie since the 2004\\u201305 lockout to reach the milestone and the fourth teenager in league history to do so.\",\n",
      "        \" In the midst of his rookie season, Matthews was ranked the second best active American player in the NHL.\",\n",
      "        \" He was awarded the 2017 Calder Memorial Trophy as the top NHL rookie.\"\n",
      "      ],\n",
      "      [\n",
      "        \"Michael Thomas Modano Jr. ( ; born June 7, 1970) is a retired American professional ice hockey player, who played primarily for the Minnesota North Stars/Dallas Stars franchise.\",\n",
      "        \" He is the all-time goal-scoring and points leader amongst American-born players in the NHL, as well as the last active player in the NHL who played for the North Stars when the team was in Minnesota.\",\n",
      "        \" Modano was drafted first overall by the North Stars in 1988, and after the team moved to Texas he helped the Stars win the Stanley Cup in 1999.\",\n",
      "        \" Modano played his final NHL season with his hometown team, the Detroit Red Wings.\",\n",
      "        \" Modano is considered one of the most influential figures in popularizing hockey in Texas and the southern United States.\",\n",
      "        \" Modano was inducted into the Hockey Hall of Fame on November 17, 2014.\",\n",
      "        \" In 2017, he was named one of the 100 Greatest NHL Players.\"\n",
      "      ],\n",
      "      [\n",
      "        \"Mats Johan Sundin (] ; born 13 February 1971) is a Swedish former professional ice hockey player who played the majority of his career in the National Hockey League (NHL), retiring in 2009.\",\n",
      "        \" Originally drafted first overall in 1989, Sundin played his first four seasons in the NHL with the Quebec Nordiques.\",\n",
      "        \" He was then traded to the Toronto Maple Leafs in 1994, where he played the majority of his career, serving 11 seasons as team captain.\",\n",
      "        \" At the end of the 2007\\u201308 season, Sundin was the longest serving non-North American born captain in NHL history.\",\n",
      "        \" Sundin last played for the Vancouver Canucks in the 2008\\u201309 season before announcing his retirement on September 30, 2009.\",\n",
      "        \" He appeared in the Stanley Cup playoffs in 10 of his 18 seasons.\"\n",
      "      ],\n",
      "      [\n",
      "        \"Alexandre Daigle (born February 7, 1975) is a retired Canadian professional ice hockey player.\",\n",
      "        \" Drafted first overall by the Ottawa Senators in the 1993 NHL Entry Draft, Daigle failed to live up to the high expectations, achieving a career-high of only 51 points in three separate National Hockey League (NHL) regular seasons.\",\n",
      "        \" Daigle is widely regarded today as one of the all-time greatest draft busts in NHL history.\"\n",
      "      ]\n",
      "    ]\n",
      "  }\n",
      "}\n"
     ]
    }
   ],
   "source": [
    "import json\n",
    "print(json.dumps(dataset[0], indent=2))"
   ]
  }
 ],
 "metadata": {
  "kernelspec": {
   "display_name": "p311",
   "language": "python",
   "name": "python3"
  },
  "language_info": {
   "codemirror_mode": {
    "name": "ipython",
    "version": 3
   },
   "file_extension": ".py",
   "mimetype": "text/x-python",
   "name": "python",
   "nbconvert_exporter": "python",
   "pygments_lexer": "ipython3",
   "version": "3.11.9"
  }
 },
 "nbformat": 4,
 "nbformat_minor": 2
}
